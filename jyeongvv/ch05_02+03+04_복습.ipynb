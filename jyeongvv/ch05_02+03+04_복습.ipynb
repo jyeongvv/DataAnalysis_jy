{
  "nbformat": 4,
  "nbformat_minor": 0,
  "metadata": {
    "colab": {
      "provenance": [],
      "authorship_tag": "ABX9TyMa9n5xgJ01Flch9y/JoUYQ",
      "include_colab_link": true
    },
    "kernelspec": {
      "name": "python3",
      "display_name": "Python 3"
    },
    "language_info": {
      "name": "python"
    }
  },
  "cells": [
    {
      "cell_type": "markdown",
      "metadata": {
        "id": "view-in-github",
        "colab_type": "text"
      },
      "source": [
        "<a href=\"https://colab.research.google.com/github/jyeongvv/DataAnalysis_jy/blob/main/jyeongvv/ch05_02%2B03%2B04_%EB%B3%B5%EC%8A%B5.ipynb\" target=\"_parent\"><img src=\"https://colab.research.google.com/assets/colab-badge.svg\" alt=\"Open In Colab\"/></a>"
      ]
    },
    {
      "cell_type": "markdown",
      "source": [
        "## 01"
      ],
      "metadata": {
        "id": "UISaT2fPWY0q"
      }
    },
    {
      "cell_type": "code",
      "execution_count": 1,
      "metadata": {
        "id": "kCJfBjm5GaCa"
      },
      "outputs": [],
      "source": [
        "import numpy as np"
      ]
    },
    {
      "cell_type": "code",
      "source": [
        "arr1 = np.arange(1, 4)\n",
        "arr2 = np.arange(4, 7)\n",
        "np.concatenate([arr1, arr2])"
      ],
      "metadata": {
        "colab": {
          "base_uri": "https://localhost:8080/"
        },
        "id": "xs1UnrGeRAJM",
        "outputId": "89a9b5a1-da87-4d54-ec00-e0ca755bb674"
      },
      "execution_count": 3,
      "outputs": [
        {
          "output_type": "execute_result",
          "data": {
            "text/plain": [
              "array([1, 2, 3, 4, 5, 6])"
            ]
          },
          "metadata": {},
          "execution_count": 3
        }
      ]
    },
    {
      "cell_type": "code",
      "source": [
        "np.concatenate([arr1, arr2, arr1])"
      ],
      "metadata": {
        "colab": {
          "base_uri": "https://localhost:8080/"
        },
        "id": "yt42kniiRMK6",
        "outputId": "d899bc42-5a7a-481e-c859-38acc4d75561"
      },
      "execution_count": 5,
      "outputs": [
        {
          "output_type": "execute_result",
          "data": {
            "text/plain": [
              "array([1, 2, 3, 4, 5, 6, 1, 2, 3])"
            ]
          },
          "metadata": {},
          "execution_count": 5
        }
      ]
    },
    {
      "cell_type": "code",
      "source": [
        "arr1 = arr1.reshape(3, 1)\n",
        "arr2 = arr2.reshape(3, 1)\n",
        "\n",
        "np.concatenate([arr1, arr2])\n",
        "np.concatenate([arr1, arr2], axis=0)"
      ],
      "metadata": {
        "colab": {
          "base_uri": "https://localhost:8080/"
        },
        "id": "2GYyis_XRZ5P",
        "outputId": "a11651fb-1244-4828-c84a-3df426986706"
      },
      "execution_count": 8,
      "outputs": [
        {
          "output_type": "execute_result",
          "data": {
            "text/plain": [
              "array([[1],\n",
              "       [2],\n",
              "       [3],\n",
              "       [4],\n",
              "       [5],\n",
              "       [6]])"
            ]
          },
          "metadata": {},
          "execution_count": 8
        }
      ]
    },
    {
      "cell_type": "code",
      "source": [
        "np.concatenate([arr1, arr2], axis=1)"
      ],
      "metadata": {
        "colab": {
          "base_uri": "https://localhost:8080/"
        },
        "id": "yxZPfJfNRji7",
        "outputId": "e95f7303-d1f4-4f02-d2b7-fcc550d58684"
      },
      "execution_count": 12,
      "outputs": [
        {
          "output_type": "execute_result",
          "data": {
            "text/plain": [
              "array([[1, 4],\n",
              "       [2, 5],\n",
              "       [3, 6]])"
            ]
          },
          "metadata": {},
          "execution_count": 12
        }
      ]
    },
    {
      "cell_type": "code",
      "source": [
        "a1 = np.ones((2,3))\n",
        "a2 = np.zeros((2,2))\n",
        "np.hstack([a1, a2])"
      ],
      "metadata": {
        "colab": {
          "base_uri": "https://localhost:8080/"
        },
        "id": "1dPw9R93Rueu",
        "outputId": "fb5efb47-dfab-41df-e97c-73a3c2fce551"
      },
      "execution_count": 16,
      "outputs": [
        {
          "output_type": "execute_result",
          "data": {
            "text/plain": [
              "array([[1., 1., 1., 0., 0.],\n",
              "       [1., 1., 1., 0., 0.]])"
            ]
          },
          "metadata": {},
          "execution_count": 16
        }
      ]
    },
    {
      "cell_type": "code",
      "source": [
        "# b1 = np.ones((2, 3))\n",
        "b1 = np.ones_like(a1)\n",
        "b2 = np.zeros((3, 3))\n",
        "np.vstack((b1, b2))"
      ],
      "metadata": {
        "colab": {
          "base_uri": "https://localhost:8080/"
        },
        "id": "VoHxoJQ5SBq8",
        "outputId": "2122b033-9b3f-4aa3-c5e4-f0fd8dc39ee4"
      },
      "execution_count": 19,
      "outputs": [
        {
          "output_type": "execute_result",
          "data": {
            "text/plain": [
              "array([[1., 1., 1.],\n",
              "       [1., 1., 1.],\n",
              "       [0., 0., 0.],\n",
              "       [0., 0., 0.],\n",
              "       [0., 0., 0.]])"
            ]
          },
          "metadata": {},
          "execution_count": 19
        }
      ]
    },
    {
      "cell_type": "code",
      "source": [
        "c1 = np.ones((3, 4))\n",
        "c2 = np.zeros_like(c1)\n",
        "np.dstack((c1, c2)) # 행, 열 길이가 같아야하고, 가장 마지막(안쪽의) 차원이 1증가하면서 합쳐짐"
      ],
      "metadata": {
        "colab": {
          "base_uri": "https://localhost:8080/"
        },
        "id": "gE172MVeSnCR",
        "outputId": "3e426948-600c-469d-9475-cba1caf85c3d"
      },
      "execution_count": 21,
      "outputs": [
        {
          "output_type": "execute_result",
          "data": {
            "text/plain": [
              "array([[[1., 0.],\n",
              "        [1., 0.],\n",
              "        [1., 0.],\n",
              "        [1., 0.]],\n",
              "\n",
              "       [[1., 0.],\n",
              "        [1., 0.],\n",
              "        [1., 0.],\n",
              "        [1., 0.]],\n",
              "\n",
              "       [[1., 0.],\n",
              "        [1., 0.],\n",
              "        [1., 0.],\n",
              "        [1., 0.]]])"
            ]
          },
          "metadata": {},
          "execution_count": 21
        }
      ]
    },
    {
      "cell_type": "code",
      "source": [
        "# c = np.stack([c1, c2])\n",
        "c = np.stack([c1, c2], axis=0) # 행기준\n",
        "c"
      ],
      "metadata": {
        "colab": {
          "base_uri": "https://localhost:8080/"
        },
        "id": "7KJZGn6fSxcb",
        "outputId": "ca025e77-9a9d-49a6-ae17-e357c3439f03"
      },
      "execution_count": 23,
      "outputs": [
        {
          "output_type": "execute_result",
          "data": {
            "text/plain": [
              "array([[[1., 1., 1., 1.],\n",
              "        [1., 1., 1., 1.],\n",
              "        [1., 1., 1., 1.]],\n",
              "\n",
              "       [[0., 0., 0., 0.],\n",
              "        [0., 0., 0., 0.],\n",
              "        [0., 0., 0., 0.]]])"
            ]
          },
          "metadata": {},
          "execution_count": 23
        }
      ]
    },
    {
      "cell_type": "code",
      "source": [
        "np.stack([c1, c2], axis=1) # 열기준"
      ],
      "metadata": {
        "colab": {
          "base_uri": "https://localhost:8080/"
        },
        "id": "dx4GWNDfTpjf",
        "outputId": "543adc12-5162-4230-b98e-edfb7499545c"
      },
      "execution_count": 24,
      "outputs": [
        {
          "output_type": "execute_result",
          "data": {
            "text/plain": [
              "array([[[1., 1., 1., 1.],\n",
              "        [0., 0., 0., 0.]],\n",
              "\n",
              "       [[1., 1., 1., 1.],\n",
              "        [0., 0., 0., 0.]],\n",
              "\n",
              "       [[1., 1., 1., 1.],\n",
              "        [0., 0., 0., 0.]]])"
            ]
          },
          "metadata": {},
          "execution_count": 24
        }
      ]
    },
    {
      "cell_type": "code",
      "source": [
        "np.stack([c1, c2], axis=-1) # 차원을 추가하면서 합쳐짐 (dstack)"
      ],
      "metadata": {
        "colab": {
          "base_uri": "https://localhost:8080/"
        },
        "id": "fXLBSWxvT18w",
        "outputId": "1f8806c9-1542-4e47-c392-d6d83f00f3af"
      },
      "execution_count": 25,
      "outputs": [
        {
          "output_type": "execute_result",
          "data": {
            "text/plain": [
              "array([[[1., 0.],\n",
              "        [1., 0.],\n",
              "        [1., 0.],\n",
              "        [1., 0.]],\n",
              "\n",
              "       [[1., 0.],\n",
              "        [1., 0.],\n",
              "        [1., 0.],\n",
              "        [1., 0.]],\n",
              "\n",
              "       [[1., 0.],\n",
              "        [1., 0.],\n",
              "        [1., 0.],\n",
              "        [1., 0.]]])"
            ]
          },
          "metadata": {},
          "execution_count": 25
        }
      ]
    },
    {
      "cell_type": "code",
      "source": [
        "# r_ -> hstack. 1,2,3 / 4,5,6\n",
        "np.r_[np.arange(1, 4), np.arange(4, 7)]"
      ],
      "metadata": {
        "colab": {
          "base_uri": "https://localhost:8080/"
        },
        "id": "NOf3G6L9T_SI",
        "outputId": "7b04c176-94e4-4b75-f95c-c1f4d482e30f"
      },
      "execution_count": 26,
      "outputs": [
        {
          "output_type": "execute_result",
          "data": {
            "text/plain": [
              "array([1, 2, 3, 4, 5, 6])"
            ]
          },
          "metadata": {},
          "execution_count": 26
        }
      ]
    },
    {
      "cell_type": "code",
      "source": [
        "np.r_[np.arange(1, 4), np.arange(4, 7), np.arange(4, 7)]"
      ],
      "metadata": {
        "colab": {
          "base_uri": "https://localhost:8080/"
        },
        "id": "9ipet5DyUKtA",
        "outputId": "91d481a7-560a-4b32-b1d2-3ec91897873b"
      },
      "execution_count": 27,
      "outputs": [
        {
          "output_type": "execute_result",
          "data": {
            "text/plain": [
              "array([1, 2, 3, 4, 5, 6, 4, 5, 6])"
            ]
          },
          "metadata": {},
          "execution_count": 27
        }
      ]
    },
    {
      "cell_type": "code",
      "source": [
        "np.c_[np.arange(1, 4), np.arange(4, 7)]"
      ],
      "metadata": {
        "colab": {
          "base_uri": "https://localhost:8080/"
        },
        "id": "WLZuYvoMUX6Q",
        "outputId": "e0691a5e-0ce7-4865-9671-8aae9ddb6247"
      },
      "execution_count": 28,
      "outputs": [
        {
          "output_type": "execute_result",
          "data": {
            "text/plain": [
              "array([[1, 4],\n",
              "       [2, 5],\n",
              "       [3, 6]])"
            ]
          },
          "metadata": {},
          "execution_count": 28
        }
      ]
    },
    {
      "cell_type": "code",
      "source": [
        "np.concatenate((np.arange(1, 4)[:, np.newaxis], np.arange(4, 7)[:, np.newaxis]), axis=1)"
      ],
      "metadata": {
        "colab": {
          "base_uri": "https://localhost:8080/"
        },
        "id": "KBCLiD_7UfnW",
        "outputId": "4f6763c5-7ede-40a4-8eac-73ef21d730e8"
      },
      "execution_count": 30,
      "outputs": [
        {
          "output_type": "execute_result",
          "data": {
            "text/plain": [
              "array([[1, 4],\n",
              "       [2, 5],\n",
              "       [3, 6]])"
            ]
          },
          "metadata": {},
          "execution_count": 30
        }
      ]
    },
    {
      "cell_type": "code",
      "source": [
        "a = np.arange(6).reshape(3, -1)\n",
        "print(np.tile(a, 3)) # 모양을 지키면서 반복\n",
        "print(np.repeat(a, 3)) # flattern 시킨 다음에, 각 원소들을 그 위치에 반복"
      ],
      "metadata": {
        "colab": {
          "base_uri": "https://localhost:8080/"
        },
        "id": "GN__wO96U1-8",
        "outputId": "069b4962-4055-41df-f1b9-b02a40d5e312"
      },
      "execution_count": 34,
      "outputs": [
        {
          "output_type": "stream",
          "name": "stdout",
          "text": [
            "[[0 1 0 1 0 1]\n",
            " [2 3 2 3 2 3]\n",
            " [4 5 4 5 4 5]]\n",
            "[0 0 0 1 1 1 2 2 2 3 3 3 4 4 4 5 5 5]\n"
          ]
        }
      ]
    },
    {
      "cell_type": "code",
      "source": [
        "arr = np.arange(7)\n",
        "arr"
      ],
      "metadata": {
        "colab": {
          "base_uri": "https://localhost:8080/"
        },
        "id": "HPcDUroEVOtP",
        "outputId": "1daaeb83-aa4e-4d2e-f594-21c398f9c9a9"
      },
      "execution_count": 35,
      "outputs": [
        {
          "output_type": "execute_result",
          "data": {
            "text/plain": [
              "array([0, 1, 2, 3, 4, 5, 6])"
            ]
          },
          "metadata": {},
          "execution_count": 35
        }
      ]
    },
    {
      "cell_type": "code",
      "source": [
        "np.array_split(arr, 3) # array_split -> 되는대로 3등분"
      ],
      "metadata": {
        "colab": {
          "base_uri": "https://localhost:8080/"
        },
        "id": "oYnUhcMdVdgp",
        "outputId": "ceff5bbc-7e1b-4c82-fd36-83f28d645193"
      },
      "execution_count": 39,
      "outputs": [
        {
          "output_type": "execute_result",
          "data": {
            "text/plain": [
              "[array([0, 1]), array([2, 3]), array([4, 5])]"
            ]
          },
          "metadata": {},
          "execution_count": 39
        }
      ]
    },
    {
      "cell_type": "code",
      "source": [
        "arr = np.arange(6)\n",
        "np.split(arr, 3) # split -> 엄격하게 약수로 맞게 입력해야 쪼개준다ㅏ"
      ],
      "metadata": {
        "colab": {
          "base_uri": "https://localhost:8080/"
        },
        "id": "NAd9-s4OVgcG",
        "outputId": "ac9fda74-d7b0-460f-dc13-80ff334b250a"
      },
      "execution_count": 40,
      "outputs": [
        {
          "output_type": "execute_result",
          "data": {
            "text/plain": [
              "[array([0, 1]), array([2, 3]), array([4, 5])]"
            ]
          },
          "metadata": {},
          "execution_count": 40
        }
      ]
    },
    {
      "cell_type": "code",
      "source": [
        "arr = np.arange(1, 19).reshape(-1, 3)\n",
        "arr"
      ],
      "metadata": {
        "colab": {
          "base_uri": "https://localhost:8080/"
        },
        "id": "Ln-Oq4JDV18K",
        "outputId": "f18c1e2b-66f7-484c-e942-7edcd9272740"
      },
      "execution_count": 41,
      "outputs": [
        {
          "output_type": "execute_result",
          "data": {
            "text/plain": [
              "array([[ 1,  2,  3],\n",
              "       [ 4,  5,  6],\n",
              "       [ 7,  8,  9],\n",
              "       [10, 11, 12],\n",
              "       [13, 14, 15],\n",
              "       [16, 17, 18]])"
            ]
          },
          "metadata": {},
          "execution_count": 41
        }
      ]
    },
    {
      "cell_type": "code",
      "source": [
        "# np.array_split(arr, 3)\n",
        "np.array_split(arr, 3, axis=0) # 행 방향으로"
      ],
      "metadata": {
        "colab": {
          "base_uri": "https://localhost:8080/"
        },
        "id": "cNM6ZixLV9xN",
        "outputId": "ccb28831-1c8d-40f8-b535-59b776421f1f"
      },
      "execution_count": 46,
      "outputs": [
        {
          "output_type": "execute_result",
          "data": {
            "text/plain": [
              "[array([[1, 2, 3],\n",
              "        [4, 5, 6]]), array([[ 7,  8,  9],\n",
              "        [10, 11, 12]]), array([[13, 14, 15],\n",
              "        [16, 17, 18]])]"
            ]
          },
          "metadata": {},
          "execution_count": 46
        }
      ]
    },
    {
      "cell_type": "code",
      "source": [
        "np.array_split(arr, 3, axis=1) # 열 방향으로"
      ],
      "metadata": {
        "colab": {
          "base_uri": "https://localhost:8080/"
        },
        "id": "2SkT8vuLV_nt",
        "outputId": "8ffb449c-789b-4524-fc99-fcb62f4f1d49"
      },
      "execution_count": 47,
      "outputs": [
        {
          "output_type": "execute_result",
          "data": {
            "text/plain": [
              "[array([[ 1],\n",
              "        [ 4],\n",
              "        [ 7],\n",
              "        [10],\n",
              "        [13],\n",
              "        [16]]), array([[ 2],\n",
              "        [ 5],\n",
              "        [ 8],\n",
              "        [11],\n",
              "        [14],\n",
              "        [17]]), array([[ 3],\n",
              "        [ 6],\n",
              "        [ 9],\n",
              "        [12],\n",
              "        [15],\n",
              "        [18]])]"
            ]
          },
          "metadata": {},
          "execution_count": 47
        }
      ]
    },
    {
      "cell_type": "markdown",
      "source": [
        "## 02\n"
      ],
      "metadata": {
        "id": "t5hWqhSvWRPO"
      }
    },
    {
      "cell_type": "code",
      "source": [
        "# 브로드캐스팅 : 크기가 작은 배열을 자동으로 반복확장하여 크기가 큰 배열에 맞추는 방법\n",
        "x = np.arange(5)\n",
        "x + 1"
      ],
      "metadata": {
        "colab": {
          "base_uri": "https://localhost:8080/"
        },
        "id": "119S8VMyWQPt",
        "outputId": "dc4f4561-9adf-4510-e183-68d9ddcc89b2"
      },
      "execution_count": 48,
      "outputs": [
        {
          "output_type": "execute_result",
          "data": {
            "text/plain": [
              "array([1, 2, 3, 4, 5])"
            ]
          },
          "metadata": {},
          "execution_count": 48
        }
      ]
    },
    {
      "cell_type": "code",
      "source": [
        "x + np.ones_like(x) * 1"
      ],
      "metadata": {
        "colab": {
          "base_uri": "https://localhost:8080/"
        },
        "id": "F-rbXLo3WqKg",
        "outputId": "832f43f6-800d-4c15-94c0-ff0b15ffdbbe"
      },
      "execution_count": 49,
      "outputs": [
        {
          "output_type": "execute_result",
          "data": {
            "text/plain": [
              "array([1, 2, 3, 4, 5])"
            ]
          },
          "metadata": {},
          "execution_count": 49
        }
      ]
    },
    {
      "cell_type": "code",
      "source": [
        "x + 10"
      ],
      "metadata": {
        "colab": {
          "base_uri": "https://localhost:8080/"
        },
        "id": "wPAO8XmGWvvx",
        "outputId": "04001ffd-2a59-479a-f5fa-e288f24a817e"
      },
      "execution_count": 50,
      "outputs": [
        {
          "output_type": "execute_result",
          "data": {
            "text/plain": [
              "array([10, 11, 12, 13, 14])"
            ]
          },
          "metadata": {},
          "execution_count": 50
        }
      ]
    },
    {
      "cell_type": "code",
      "source": [
        "np.ones_like(x) * 10"
      ],
      "metadata": {
        "colab": {
          "base_uri": "https://localhost:8080/"
        },
        "id": "x9rqFyAJWzrp",
        "outputId": "ac523519-b676-4dcb-9651-a877e5cd546c"
      },
      "execution_count": 52,
      "outputs": [
        {
          "output_type": "execute_result",
          "data": {
            "text/plain": [
              "array([10, 10, 10, 10, 10])"
            ]
          },
          "metadata": {},
          "execution_count": 52
        }
      ]
    },
    {
      "cell_type": "code",
      "source": [
        "x = np.vstack([range(7)[i:i+3] for i in range(5)])\n",
        "x"
      ],
      "metadata": {
        "colab": {
          "base_uri": "https://localhost:8080/"
        },
        "id": "CLKwLcTSW21C",
        "outputId": "a3c23513-0cc2-493d-bc4b-8e7250a25049"
      },
      "execution_count": 53,
      "outputs": [
        {
          "output_type": "execute_result",
          "data": {
            "text/plain": [
              "array([[0, 1, 2],\n",
              "       [1, 2, 3],\n",
              "       [2, 3, 4],\n",
              "       [3, 4, 5],\n",
              "       [4, 5, 6]])"
            ]
          },
          "metadata": {},
          "execution_count": 53
        }
      ]
    },
    {
      "cell_type": "code",
      "source": [
        "y = np.arange(5).reshape(-1, 1)\n",
        "y"
      ],
      "metadata": {
        "colab": {
          "base_uri": "https://localhost:8080/"
        },
        "id": "Pb4UoQNvXOdO",
        "outputId": "44ac78f9-fb1c-4f08-9db9-c3c02f84b6d9"
      },
      "execution_count": 55,
      "outputs": [
        {
          "output_type": "execute_result",
          "data": {
            "text/plain": [
              "array([[0],\n",
              "       [1],\n",
              "       [2],\n",
              "       [3],\n",
              "       [4]])"
            ]
          },
          "metadata": {},
          "execution_count": 55
        }
      ]
    },
    {
      "cell_type": "code",
      "source": [
        "x + y"
      ],
      "metadata": {
        "colab": {
          "base_uri": "https://localhost:8080/"
        },
        "id": "mQF-t9aJXYJP",
        "outputId": "4a26b175-391e-4692-8dd4-f2676b3d71b0"
      },
      "execution_count": 57,
      "outputs": [
        {
          "output_type": "execute_result",
          "data": {
            "text/plain": [
              "array([[ 0,  1,  2],\n",
              "       [ 2,  3,  4],\n",
              "       [ 4,  5,  6],\n",
              "       [ 6,  7,  8],\n",
              "       [ 8,  9, 10]])"
            ]
          },
          "metadata": {},
          "execution_count": 57
        }
      ]
    },
    {
      "cell_type": "code",
      "source": [
        "x = np.arange(1, 5)"
      ],
      "metadata": {
        "id": "U5vMiW7FXnEc"
      },
      "execution_count": 60,
      "outputs": []
    },
    {
      "cell_type": "code",
      "source": [
        "np.sum(x), x.sum()"
      ],
      "metadata": {
        "colab": {
          "base_uri": "https://localhost:8080/"
        },
        "id": "6mtytKFcXqzV",
        "outputId": "6a274cec-1290-4912-eab9-f69a87b84af8"
      },
      "execution_count": 63,
      "outputs": [
        {
          "output_type": "execute_result",
          "data": {
            "text/plain": [
              "(10, 10)"
            ]
          },
          "metadata": {},
          "execution_count": 63
        }
      ]
    },
    {
      "cell_type": "code",
      "source": [
        "x.min(), x.max()"
      ],
      "metadata": {
        "colab": {
          "base_uri": "https://localhost:8080/"
        },
        "id": "9Hin1Xy3XvGx",
        "outputId": "8e298fc5-cdda-4c2f-dd6e-6befb0442fd4"
      },
      "execution_count": 64,
      "outputs": [
        {
          "output_type": "execute_result",
          "data": {
            "text/plain": [
              "(1, 4)"
            ]
          },
          "metadata": {},
          "execution_count": 64
        }
      ]
    },
    {
      "cell_type": "code",
      "source": [
        "x.argmin(), x.argmax()"
      ],
      "metadata": {
        "colab": {
          "base_uri": "https://localhost:8080/"
        },
        "id": "NqKqwLtHXytt",
        "outputId": "5a8b14a4-b937-42ed-aaee-ff2cda56569e"
      },
      "execution_count": 66,
      "outputs": [
        {
          "output_type": "execute_result",
          "data": {
            "text/plain": [
              "(0, 3)"
            ]
          },
          "metadata": {},
          "execution_count": 66
        }
      ]
    },
    {
      "cell_type": "code",
      "source": [
        "x.mean()"
      ],
      "metadata": {
        "colab": {
          "base_uri": "https://localhost:8080/"
        },
        "id": "Zzno32RSX0sf",
        "outputId": "bc80ba48-04e8-4c87-d3e9-eee3e7ac2358"
      },
      "execution_count": 67,
      "outputs": [
        {
          "output_type": "execute_result",
          "data": {
            "text/plain": [
              "2.5"
            ]
          },
          "metadata": {},
          "execution_count": 67
        }
      ]
    },
    {
      "cell_type": "code",
      "source": [
        "np.median(x)"
      ],
      "metadata": {
        "colab": {
          "base_uri": "https://localhost:8080/"
        },
        "id": "WsigCxIJX5ck",
        "outputId": "932223e9-56fe-4899-bfde-689e4ac04f6a"
      },
      "execution_count": 68,
      "outputs": [
        {
          "output_type": "execute_result",
          "data": {
            "text/plain": [
              "2.5"
            ]
          },
          "metadata": {},
          "execution_count": 68
        }
      ]
    },
    {
      "cell_type": "code",
      "source": [
        "np.any(x > 4), np.any(x > 2)"
      ],
      "metadata": {
        "colab": {
          "base_uri": "https://localhost:8080/"
        },
        "id": "5f2Ffm_XX-oF",
        "outputId": "8b41c1f6-505f-4650-9d3c-193c56c7786b"
      },
      "execution_count": 70,
      "outputs": [
        {
          "output_type": "execute_result",
          "data": {
            "text/plain": [
              "(False, True)"
            ]
          },
          "metadata": {},
          "execution_count": 70
        }
      ]
    },
    {
      "cell_type": "code",
      "source": [
        "np.all(x > 4), np.all(x > 2), np.all(x >= 0)"
      ],
      "metadata": {
        "colab": {
          "base_uri": "https://localhost:8080/"
        },
        "id": "V5foomiVYDvI",
        "outputId": "36cb47f6-87da-4c08-f722-a681c32227f9"
      },
      "execution_count": 74,
      "outputs": [
        {
          "output_type": "execute_result",
          "data": {
            "text/plain": [
              "(False, False, True)"
            ]
          },
          "metadata": {},
          "execution_count": 74
        }
      ]
    },
    {
      "cell_type": "code",
      "source": [
        "x = np.array(((1, 1), (2, 2)))\n",
        "x"
      ],
      "metadata": {
        "colab": {
          "base_uri": "https://localhost:8080/"
        },
        "id": "NlRrB7OxYQVe",
        "outputId": "bfa87ee5-4859-46b3-e2ae-f33c1d1f7fa9"
      },
      "execution_count": 76,
      "outputs": [
        {
          "output_type": "execute_result",
          "data": {
            "text/plain": [
              "array([[1, 1],\n",
              "       [2, 2]])"
            ]
          },
          "metadata": {},
          "execution_count": 76
        }
      ]
    },
    {
      "cell_type": "code",
      "source": [
        "x.sum()"
      ],
      "metadata": {
        "colab": {
          "base_uri": "https://localhost:8080/"
        },
        "id": "oU4l1MnSYXB5",
        "outputId": "8fe3044f-922e-482e-e2f5-2b31e1397920"
      },
      "execution_count": 78,
      "outputs": [
        {
          "output_type": "execute_result",
          "data": {
            "text/plain": [
              "6"
            ]
          },
          "metadata": {},
          "execution_count": 78
        }
      ]
    },
    {
      "cell_type": "code",
      "source": [
        "x.sum(axis=0) # 행 내부에 있는 열들간의 연산, 행의 대푯값 (axis=0)"
      ],
      "metadata": {
        "colab": {
          "base_uri": "https://localhost:8080/"
        },
        "id": "XwUrnaIoYaTH",
        "outputId": "d9d0020d-2cdb-4960-fb93-9b9c792ce42e"
      },
      "execution_count": 80,
      "outputs": [
        {
          "output_type": "execute_result",
          "data": {
            "text/plain": [
              "array([3, 3])"
            ]
          },
          "metadata": {},
          "execution_count": 80
        }
      ]
    },
    {
      "cell_type": "code",
      "source": [
        "x.sum(axis=1) # 열 내부에 있는 행들간의 연산, 열의 대푯값 (axis=1)"
      ],
      "metadata": {
        "colab": {
          "base_uri": "https://localhost:8080/"
        },
        "id": "ce1CD-idYn-o",
        "outputId": "e9a78485-4469-486b-eb54-be486141df61"
      },
      "execution_count": 81,
      "outputs": [
        {
          "output_type": "execute_result",
          "data": {
            "text/plain": [
              "array([2, 4])"
            ]
          },
          "metadata": {},
          "execution_count": 81
        }
      ]
    },
    {
      "cell_type": "code",
      "source": [
        "a = np.random.randint(1, 20, 12).reshape(3, -1)\n",
        "a"
      ],
      "metadata": {
        "colab": {
          "base_uri": "https://localhost:8080/"
        },
        "id": "mNTZbpnSYs7t",
        "outputId": "7c54eb51-ce56-4fd3-88eb-06a069695071"
      },
      "execution_count": 84,
      "outputs": [
        {
          "output_type": "execute_result",
          "data": {
            "text/plain": [
              "array([[ 2,  2,  5, 11],\n",
              "       [12, 17,  7, 15],\n",
              "       [ 7, 12,  6, 19]])"
            ]
          },
          "metadata": {},
          "execution_count": 84
        }
      ]
    },
    {
      "cell_type": "code",
      "source": [
        "np.sort(a)\n",
        "np.sort(a, axis=1)"
      ],
      "metadata": {
        "colab": {
          "base_uri": "https://localhost:8080/"
        },
        "id": "C4V18l7-Y-Zr",
        "outputId": "74003ba4-607c-46ae-886c-520e24869e99"
      },
      "execution_count": 85,
      "outputs": [
        {
          "output_type": "execute_result",
          "data": {
            "text/plain": [
              "array([[ 2,  2,  5, 11],\n",
              "       [ 7, 12, 15, 17],\n",
              "       [ 6,  7, 12, 19]])"
            ]
          },
          "metadata": {},
          "execution_count": 85
        }
      ]
    },
    {
      "cell_type": "code",
      "source": [
        "a.sort(axis=1) # 원본 변경이 아닌 사본 생성"
      ],
      "metadata": {
        "id": "3cZjaYpNZOh0"
      },
      "execution_count": 86,
      "outputs": []
    },
    {
      "cell_type": "code",
      "source": [
        "a"
      ],
      "metadata": {
        "colab": {
          "base_uri": "https://localhost:8080/"
        },
        "id": "CBcQWyllZtGq",
        "outputId": "ea64e1d3-397a-4b71-d0b8-5ae3482f8287"
      },
      "execution_count": 87,
      "outputs": [
        {
          "output_type": "execute_result",
          "data": {
            "text/plain": [
              "array([[ 2,  2,  5, 11],\n",
              "       [ 7, 12, 15, 17],\n",
              "       [ 6,  7, 12, 19]])"
            ]
          },
          "metadata": {},
          "execution_count": 87
        }
      ]
    },
    {
      "cell_type": "code",
      "source": [
        "np.argsort(a)"
      ],
      "metadata": {
        "colab": {
          "base_uri": "https://localhost:8080/"
        },
        "id": "WynC_geWZteg",
        "outputId": "9536ad3e-7ff8-46c3-a39e-484a0fdee5e4"
      },
      "execution_count": 89,
      "outputs": [
        {
          "output_type": "execute_result",
          "data": {
            "text/plain": [
              "array([[0, 1, 2, 3],\n",
              "       [0, 1, 2, 3],\n",
              "       [0, 1, 2, 3]])"
            ]
          },
          "metadata": {},
          "execution_count": 89
        }
      ]
    },
    {
      "cell_type": "code",
      "source": [
        "np.argsort(a, axis=0)"
      ],
      "metadata": {
        "colab": {
          "base_uri": "https://localhost:8080/"
        },
        "id": "FhCHgLCVZvca",
        "outputId": "0143b756-227a-4999-ea63-461d652a0830"
      },
      "execution_count": 91,
      "outputs": [
        {
          "output_type": "execute_result",
          "data": {
            "text/plain": [
              "array([[0, 0, 0, 0],\n",
              "       [2, 2, 2, 1],\n",
              "       [1, 1, 1, 2]])"
            ]
          },
          "metadata": {},
          "execution_count": 91
        }
      ]
    },
    {
      "cell_type": "code",
      "source": [
        "x = np.random.randint(0, 100, 12).reshape(3, -1)\n",
        "x"
      ],
      "metadata": {
        "colab": {
          "base_uri": "https://localhost:8080/"
        },
        "id": "ookGkEeaZ5B8",
        "outputId": "9220b308-9226-45ff-c4f0-3e97fe8df83c"
      },
      "execution_count": 92,
      "outputs": [
        {
          "output_type": "execute_result",
          "data": {
            "text/plain": [
              "array([[91, 35, 26,  5],\n",
              "       [22, 62, 38, 31],\n",
              "       [77, 19, 97, 78]])"
            ]
          },
          "metadata": {},
          "execution_count": 92
        }
      ]
    },
    {
      "cell_type": "code",
      "source": [
        "x[:, np.argsort(x[1])]"
      ],
      "metadata": {
        "colab": {
          "base_uri": "https://localhost:8080/"
        },
        "id": "pQmvghftaENP",
        "outputId": "c5a82fbe-8fd4-458b-aa52-4de78116e3bd"
      },
      "execution_count": 96,
      "outputs": [
        {
          "output_type": "execute_result",
          "data": {
            "text/plain": [
              "array([[91,  5, 26, 35],\n",
              "       [22, 31, 38, 62],\n",
              "       [77, 78, 97, 19]])"
            ]
          },
          "metadata": {},
          "execution_count": 96
        }
      ]
    },
    {
      "cell_type": "code",
      "source": [
        "x = np.random.randint(-30, 30, 30)\n",
        "x"
      ],
      "metadata": {
        "colab": {
          "base_uri": "https://localhost:8080/"
        },
        "id": "bnUzR8ATeGm6",
        "outputId": "d9c67533-6831-4c55-a5df-7281bd19e2a5"
      },
      "execution_count": 97,
      "outputs": [
        {
          "output_type": "execute_result",
          "data": {
            "text/plain": [
              "array([-26, -20,  10,  21, -23,  25,  24, -18,   9,  -6,  -9,  26,  16,\n",
              "        17,  19,  12, -29, -14, -25,  29,  -1,  20, -15,   4,  -5, -12,\n",
              "       -26,  11,  27,  13])"
            ]
          },
          "metadata": {},
          "execution_count": 97
        }
      ]
    },
    {
      "cell_type": "code",
      "source": [
        "len(x)"
      ],
      "metadata": {
        "colab": {
          "base_uri": "https://localhost:8080/"
        },
        "id": "8I0BZN0Qe5P1",
        "outputId": "6e667964-8029-40de-e4c0-f303edb8a2c7"
      },
      "execution_count": 98,
      "outputs": [
        {
          "output_type": "execute_result",
          "data": {
            "text/plain": [
              "30"
            ]
          },
          "metadata": {},
          "execution_count": 98
        }
      ]
    },
    {
      "cell_type": "code",
      "source": [
        "np.mean(x), x.mean()"
      ],
      "metadata": {
        "colab": {
          "base_uri": "https://localhost:8080/"
        },
        "id": "Q7FsP4FAe77z",
        "outputId": "018375cc-b076-4160-e563-fff3cfeb79b6"
      },
      "execution_count": 100,
      "outputs": [
        {
          "output_type": "execute_result",
          "data": {
            "text/plain": [
              "(1.8, 1.8)"
            ]
          },
          "metadata": {},
          "execution_count": 100
        }
      ]
    },
    {
      "cell_type": "code",
      "source": [
        "np.var(x)"
      ],
      "metadata": {
        "colab": {
          "base_uri": "https://localhost:8080/"
        },
        "id": "DVDIFYKxe_-w",
        "outputId": "078f7af1-6c7f-409d-a83e-e714861a87fa"
      },
      "execution_count": 101,
      "outputs": [
        {
          "output_type": "execute_result",
          "data": {
            "text/plain": [
              "350.2266666666667"
            ]
          },
          "metadata": {},
          "execution_count": 101
        }
      ]
    },
    {
      "cell_type": "code",
      "source": [
        "np.std(x), x.std()"
      ],
      "metadata": {
        "colab": {
          "base_uri": "https://localhost:8080/"
        },
        "id": "RRjLSe-cfED7",
        "outputId": "b9f132a8-3a6b-435e-ad2e-77cc7e5faebc"
      },
      "execution_count": 104,
      "outputs": [
        {
          "output_type": "execute_result",
          "data": {
            "text/plain": [
              "(18.714343874864188, 18.714343874864188)"
            ]
          },
          "metadata": {},
          "execution_count": 104
        }
      ]
    },
    {
      "cell_type": "code",
      "source": [
        "np.max(x), np.min(x)"
      ],
      "metadata": {
        "colab": {
          "base_uri": "https://localhost:8080/"
        },
        "id": "FdqfhtOkfIFo",
        "outputId": "0642030a-8ce3-4c7b-c092-8c0ff0a49a21"
      },
      "execution_count": 103,
      "outputs": [
        {
          "output_type": "execute_result",
          "data": {
            "text/plain": [
              "(29, -29)"
            ]
          },
          "metadata": {},
          "execution_count": 103
        }
      ]
    },
    {
      "cell_type": "code",
      "source": [
        "np.median(x) # 짝수개일 경우, 두 값의 평균을 쓴다"
      ],
      "metadata": {
        "colab": {
          "base_uri": "https://localhost:8080/"
        },
        "id": "8PS5-DvqfOHO",
        "outputId": "7f461f33-42e9-416b-df04-eb3486623b65"
      },
      "execution_count": 106,
      "outputs": [
        {
          "output_type": "execute_result",
          "data": {
            "text/plain": [
              "6.5"
            ]
          },
          "metadata": {},
          "execution_count": 106
        }
      ]
    },
    {
      "cell_type": "code",
      "source": [
        "np.quantile(x, 0), np.percentile(x, 0) # 최솟값"
      ],
      "metadata": {
        "colab": {
          "base_uri": "https://localhost:8080/"
        },
        "id": "1U1oL1OefYl6",
        "outputId": "0a86fd42-9d07-4581-ee79-a270aaa528c2"
      },
      "execution_count": 109,
      "outputs": [
        {
          "output_type": "execute_result",
          "data": {
            "text/plain": [
              "(-29, -29.0)"
            ]
          },
          "metadata": {},
          "execution_count": 109
        }
      ]
    },
    {
      "cell_type": "code",
      "source": [
        "# 사분위수 => 1을 최대로 봤을 때의 비율스, 1/4, 2/4, 3/4...\n",
        "# 백분위수는 100을 최대로 봤을 때의 값을 입력\n",
        "np.quantile(x, 0.25), np.percentile(x, 25) # 1사분위수, 25백분위수"
      ],
      "metadata": {
        "colab": {
          "base_uri": "https://localhost:8080/"
        },
        "id": "WK_1xNvMfvU2",
        "outputId": "4ffffccc-135b-4d6b-86ff-7cde6f69a5f9"
      },
      "execution_count": 110,
      "outputs": [
        {
          "output_type": "execute_result",
          "data": {
            "text/plain": [
              "(-14.75, -14.75)"
            ]
          },
          "metadata": {},
          "execution_count": 110
        }
      ]
    },
    {
      "cell_type": "code",
      "source": [
        "np.quantile(x, 2/4), np.percentile(x, 50) # 2사분위수, 50백분위수, 중앙값"
      ],
      "metadata": {
        "colab": {
          "base_uri": "https://localhost:8080/"
        },
        "id": "feP2xdopgKwu",
        "outputId": "4157790a-ed31-4c80-845b-f64f9b88beb8"
      },
      "execution_count": 111,
      "outputs": [
        {
          "output_type": "execute_result",
          "data": {
            "text/plain": [
              "(6.5, 6.5)"
            ]
          },
          "metadata": {},
          "execution_count": 111
        }
      ]
    },
    {
      "cell_type": "code",
      "source": [
        "np.quantile(x, 3/4), np.percentile(x, 75) # 3사분위수, 35백분위수"
      ],
      "metadata": {
        "id": "RbIQV7qJgRjp"
      },
      "execution_count": null,
      "outputs": []
    },
    {
      "cell_type": "code",
      "source": [
        "np.quantile(x, 4/4), np.percentile(x, 100) # 최댓값"
      ],
      "metadata": {
        "colab": {
          "base_uri": "https://localhost:8080/"
        },
        "id": "o98O9mPUgRPC",
        "outputId": "17cc395f-03d1-47cd-9ada-1042633a0fe0"
      },
      "execution_count": 112,
      "outputs": [
        {
          "output_type": "execute_result",
          "data": {
            "text/plain": [
              "(29.0, 29.0)"
            ]
          },
          "metadata": {},
          "execution_count": 112
        }
      ]
    },
    {
      "cell_type": "code",
      "source": [
        "# np.random.seed(0) # 이후 나오는 랜덤값들이 순서가 일치\n",
        "np.random.seed(0)"
      ],
      "metadata": {
        "id": "mltdew2hgbNg"
      },
      "execution_count": 114,
      "outputs": []
    },
    {
      "cell_type": "code",
      "source": [
        "np.random.rand(5)"
      ],
      "metadata": {
        "colab": {
          "base_uri": "https://localhost:8080/"
        },
        "id": "1WOh04uagmli",
        "outputId": "ea5bd855-bc42-4354-ff4f-cfd5192cbd66"
      },
      "execution_count": 115,
      "outputs": [
        {
          "output_type": "execute_result",
          "data": {
            "text/plain": [
              "array([0.5488135 , 0.71518937, 0.60276338, 0.54488318, 0.4236548 ])"
            ]
          },
          "metadata": {},
          "execution_count": 115
        }
      ]
    },
    {
      "cell_type": "code",
      "source": [
        "x = np.arange(10)\n",
        "x"
      ],
      "metadata": {
        "colab": {
          "base_uri": "https://localhost:8080/"
        },
        "id": "DbEOLEZCgpnQ",
        "outputId": "a098964f-d6d5-4a97-a041-d99e03204ef5"
      },
      "execution_count": 117,
      "outputs": [
        {
          "output_type": "execute_result",
          "data": {
            "text/plain": [
              "array([0, 1, 2, 3, 4, 5, 6, 7, 8, 9])"
            ]
          },
          "metadata": {},
          "execution_count": 117
        }
      ]
    },
    {
      "cell_type": "code",
      "source": [
        "np.random.shuffle(x)"
      ],
      "metadata": {
        "id": "qNuzkRDOgsN4"
      },
      "execution_count": 118,
      "outputs": []
    },
    {
      "cell_type": "code",
      "source": [
        "x"
      ],
      "metadata": {
        "colab": {
          "base_uri": "https://localhost:8080/"
        },
        "id": "zGaSDTcSgrGa",
        "outputId": "cee9002a-f1f9-4484-d244-a2e8d1b84b63"
      },
      "execution_count": 119,
      "outputs": [
        {
          "output_type": "execute_result",
          "data": {
            "text/plain": [
              "array([3, 1, 8, 7, 9, 0, 6, 4, 2, 5])"
            ]
          },
          "metadata": {},
          "execution_count": 119
        }
      ]
    },
    {
      "cell_type": "code",
      "source": [
        " np.random.choice(x, 5, replace=False) # x 배열 안의 있는 값 중에 5개를 추출(비복원)"
      ],
      "metadata": {
        "colab": {
          "base_uri": "https://localhost:8080/"
        },
        "id": "rmv9y2tVgwOV",
        "outputId": "5045a1d7-593c-400a-d72d-53dc26a5bc07"
      },
      "execution_count": 120,
      "outputs": [
        {
          "output_type": "execute_result",
          "data": {
            "text/plain": [
              "array([0, 8, 7, 9, 1])"
            ]
          },
          "metadata": {},
          "execution_count": 120
        }
      ]
    },
    {
      "cell_type": "code",
      "source": [
        "np.random.choice(5, 5, replace=False)"
      ],
      "metadata": {
        "colab": {
          "base_uri": "https://localhost:8080/"
        },
        "id": "6fSKrW3og_QO",
        "outputId": "56a88bf0-b9d7-4662-d581-e1320d152fd3"
      },
      "execution_count": 121,
      "outputs": [
        {
          "output_type": "execute_result",
          "data": {
            "text/plain": [
              "array([2, 3, 4, 1, 0])"
            ]
          },
          "metadata": {},
          "execution_count": 121
        }
      ]
    },
    {
      "cell_type": "code",
      "source": [
        "np.random.choice(np.arange(1, 46), 6, replace=False)"
      ],
      "metadata": {
        "colab": {
          "base_uri": "https://localhost:8080/"
        },
        "id": "BkmjJXVEhDym",
        "outputId": "836d522a-e9c8-4ca8-c6f5-0ee09a4ad79e"
      },
      "execution_count": 123,
      "outputs": [
        {
          "output_type": "execute_result",
          "data": {
            "text/plain": [
              "array([39, 37, 26,  9, 20, 23])"
            ]
          },
          "metadata": {},
          "execution_count": 123
        }
      ]
    },
    {
      "cell_type": "code",
      "source": [
        "np.random.choice(np.arange(1, 7), 6)\n",
        "np.random.choice(np.arange(1, 7), 6, replace=True)"
      ],
      "metadata": {
        "colab": {
          "base_uri": "https://localhost:8080/"
        },
        "id": "ohDh-1HyhJJz",
        "outputId": "f0538991-6d6d-4962-aa92-65c9b04a503b"
      },
      "execution_count": 126,
      "outputs": [
        {
          "output_type": "execute_result",
          "data": {
            "text/plain": [
              "array([3, 4, 5, 2, 3, 4])"
            ]
          },
          "metadata": {},
          "execution_count": 126
        }
      ]
    },
    {
      "cell_type": "code",
      "source": [
        "np.random.choice(np.arange(1, 7), 6, p=[0, 0, 0, 0.6, 0.2, 0.2])"
      ],
      "metadata": {
        "colab": {
          "base_uri": "https://localhost:8080/"
        },
        "id": "aJKlX89shTj5",
        "outputId": "9b998344-fd69-4298-8535-cbb35d17e15b"
      },
      "execution_count": 127,
      "outputs": [
        {
          "output_type": "execute_result",
          "data": {
            "text/plain": [
              "array([6, 6, 4, 4, 4, 6])"
            ]
          },
          "metadata": {},
          "execution_count": 127
        }
      ]
    },
    {
      "cell_type": "code",
      "source": [
        "np.random.randn(10) # 0이 평균, 표준편차 -1, -2.+2 => 99.9% 0 에 가까울 수록 값들이 더 많이 등장"
      ],
      "metadata": {
        "colab": {
          "base_uri": "https://localhost:8080/"
        },
        "id": "Cyb1jW5Whg2x",
        "outputId": "845ac7ff-0b8d-4a91-afa3-56912371aabc"
      },
      "execution_count": 128,
      "outputs": [
        {
          "output_type": "execute_result",
          "data": {
            "text/plain": [
              "array([ 0.99982969,  0.43103415, -0.65091287, -1.49874039, -1.23063497,\n",
              "        0.19400719, -0.99838235, -0.3676376 ,  1.73719932,  0.59361275])"
            ]
          },
          "metadata": {},
          "execution_count": 128
        }
      ]
    },
    {
      "cell_type": "code",
      "source": [
        "np.random.randn(3, 5)"
      ],
      "metadata": {
        "colab": {
          "base_uri": "https://localhost:8080/"
        },
        "id": "nLvM98DthkU0",
        "outputId": "8626a281-e1a3-4647-b4ec-5816b20b46bb"
      },
      "execution_count": 129,
      "outputs": [
        {
          "output_type": "execute_result",
          "data": {
            "text/plain": [
              "array([[-0.54236358, -1.71967238, -0.57890879,  1.42694855,  0.27699691],\n",
              "       [ 0.78966713,  0.32207411,  0.70039238,  0.38871663, -0.04126386],\n",
              "       [ 0.29588432, -0.42527999,  1.72763912, -0.86835257, -0.82097758]])"
            ]
          },
          "metadata": {},
          "execution_count": 129
        }
      ]
    },
    {
      "cell_type": "code",
      "source": [
        "np.random.randint(10) # 최소 0, low"
      ],
      "metadata": {
        "colab": {
          "base_uri": "https://localhost:8080/"
        },
        "id": "AGzlXrkeiBY1",
        "outputId": "d9b075e6-9a13-4c80-fe88-a0475c2f7b21"
      },
      "execution_count": 130,
      "outputs": [
        {
          "output_type": "execute_result",
          "data": {
            "text/plain": [
              "9"
            ]
          },
          "metadata": {},
          "execution_count": 130
        }
      ]
    },
    {
      "cell_type": "code",
      "source": [
        "np.random.randint(1, 10) # 최소 low, 최대 high"
      ],
      "metadata": {
        "colab": {
          "base_uri": "https://localhost:8080/"
        },
        "id": "684X7IAJiGhR",
        "outputId": "cad27829-dadb-4332-dc23-d3609c60b538"
      },
      "execution_count": 131,
      "outputs": [
        {
          "output_type": "execute_result",
          "data": {
            "text/plain": [
              "1"
            ]
          },
          "metadata": {},
          "execution_count": 131
        }
      ]
    },
    {
      "cell_type": "code",
      "source": [
        "np.random.randint(1, 10, 100) # 최소 low, 최대 high, size"
      ],
      "metadata": {
        "colab": {
          "base_uri": "https://localhost:8080/"
        },
        "id": "sfNwEQcUiOv4",
        "outputId": "5b619751-ff0d-4332-d02a-aa130e91a756"
      },
      "execution_count": 132,
      "outputs": [
        {
          "output_type": "execute_result",
          "data": {
            "text/plain": [
              "array([7, 6, 4, 2, 9, 1, 5, 7, 6, 8, 9, 9, 3, 9, 7, 7, 2, 7, 9, 9, 4, 3,\n",
              "       4, 7, 4, 7, 6, 8, 1, 9, 5, 7, 6, 9, 3, 4, 8, 6, 4, 5, 6, 4, 4, 8,\n",
              "       8, 4, 3, 4, 8, 8, 6, 2, 3, 3, 9, 2, 6, 9, 5, 1, 3, 6, 6, 1, 9, 2,\n",
              "       2, 1, 4, 9, 9, 5, 5, 1, 4, 8, 4, 3, 2, 2, 3, 2, 5, 3, 6, 6, 6, 3,\n",
              "       6, 8, 8, 7, 2, 7, 8, 3, 4, 2, 6, 3])"
            ]
          },
          "metadata": {},
          "execution_count": 132
        }
      ]
    },
    {
      "cell_type": "code",
      "source": [
        "# 가격이 1만원 주식\n",
        "price = 10000\n",
        "# 일간 수익률 -> 기댓값 0, 표준편차 1$=0.01 (표준정규분포)\n",
        "days = 250\n",
        "daily_earning_rate = np.random.randn(days) / 100\n",
        "print(daily_earning_rate)\n",
        "# 250일 동안의 주가를 무작위로 생성\n",
        "# 주가 -> 전일 가격 * (1 + 당일 수익률)\n",
        "price_arr = np.empty(days)\n",
        "for i, v, in enumerate(daily_earning_rate):\n",
        "    print(v)\n",
        "    price *= (1 + v)\n",
        "    print(price)\n",
        "    price_arr[i] = price\n",
        "    print(price_arr[1])\n",
        "price_arr"
      ],
      "metadata": {
        "colab": {
          "base_uri": "https://localhost:8080/"
        },
        "id": "1yWNDmsDiReF",
        "outputId": "e4ca2e55-7bfa-461d-ad5a-ba6c9ef8e930"
      },
      "execution_count": 134,
      "outputs": [
        {
          "output_type": "stream",
          "name": "stdout",
          "text": [
            "[-9.67497398e-03  1.06825969e-02  1.21308761e-02  1.14471880e-02\n",
            "  1.67840445e-02  4.78404880e-03  9.17376518e-04  4.26534769e-04\n",
            "  1.36425174e-02  1.09958891e-02 -6.27734441e-03 -1.29316820e-03\n",
            " -8.98539413e-03  1.93064772e-02  1.98606513e-03 -1.45807253e-03\n",
            " -2.19114451e-03  1.76249777e-02 -1.28223947e-02  2.69826794e-03\n",
            "  8.78698596e-03  7.96627365e-05  1.08857292e-02  7.89783026e-04\n",
            "  8.06082332e-03  5.19104919e-03 -1.27284450e-03 -8.40984011e-03\n",
            " -4.95306201e-03 -1.37020005e-03  9.87424495e-03 -7.18549682e-03\n",
            "  1.93803498e-02  2.20391311e-03 -4.75094890e-03  2.38653989e-03\n",
            "  4.05642436e-03  2.99658730e-03  6.91165041e-03 -1.90583721e-02\n",
            "  2.82044327e-03 -2.28763993e-02 -5.51474125e-03  1.20762067e-02\n",
            " -1.15179807e-02  1.55182596e-03 -6.32009056e-03 -1.81677267e-02\n",
            " -1.88014899e-03  8.90667144e-04 -1.60539390e-02 -7.07515588e-03\n",
            " -2.14910446e-02  1.26303753e-03 -4.36291006e-04  1.01271502e-02\n",
            " -1.74233712e-02 -1.06847438e-02  1.65534940e-02  8.51931977e-03\n",
            "  1.37098216e-02  2.74074532e-03  4.03809029e-03 -1.04002865e-02\n",
            "  1.25338482e-02 -4.02224817e-03 -1.53301551e-02  1.54624556e-02\n",
            "  1.24546645e-03  2.06549848e-03 -9.04994546e-03  6.54498125e-03\n",
            "  4.61331047e-03 -1.65459123e-02 -1.38543012e-02  4.44631643e-03\n",
            " -8.46761737e-03  8.93276358e-03  3.86761165e-03 -5.13427186e-05\n",
            " -9.30139995e-03 -1.49407352e-02  4.68739268e-03  2.22334149e-03\n",
            " -2.04646486e-03 -4.64435230e-04 -6.97883742e-03 -1.12701649e-03\n",
            " -1.00826485e-02 -5.29337845e-04  3.33005742e-03 -6.48981763e-03\n",
            " -1.54305643e-02  1.65946033e-02 -9.70092222e-03  1.29233496e-02\n",
            " -9.38761907e-03 -1.21253290e-02  1.67364748e-02  1.97539178e-02\n",
            " -1.17701205e-02  1.28612871e-02  8.71773490e-03 -9.85959963e-03\n",
            "  9.34594650e-04 -1.61964135e-02 -1.62542609e-02 -5.14445498e-03\n",
            "  3.12787072e-03  1.56451260e-02  8.18435504e-03  4.02149816e-03\n",
            "  1.18055558e-03  3.54427721e-04 -4.77901096e-03  6.23693170e-03\n",
            " -2.46952308e-02 -1.14912376e-02 -5.00970786e-03  1.47594784e-04\n",
            " -3.91050579e-03 -3.88419578e-03  1.05014196e-02 -3.20693872e-04\n",
            " -4.77338656e-04 -2.77342949e-03 -4.72136268e-03 -1.85329637e-03\n",
            "  1.95420226e-03  1.48838294e-02  3.24843567e-03 -1.18814232e-02\n",
            " -1.49414282e-03 -3.03328915e-03 -1.35969704e-02 -2.13801735e-02\n",
            "  4.00937099e-03  7.06842389e-03  7.92607785e-03 -2.33423082e-03\n",
            "  8.59745314e-03  3.66280535e-03  7.26423161e-03  1.79384552e-04\n",
            " -2.28547991e-02 -1.47884513e-02 -1.35319994e-02 -2.89455283e-04\n",
            " -1.71743247e-02 -1.15290926e-02  9.41030811e-03 -1.02852693e-02\n",
            "  6.55358098e-04  4.10470290e-03 -1.16893036e-02 -1.91440763e-02\n",
            "  7.32355692e-04  7.49688133e-03  8.61383002e-04 -1.73723493e-02\n",
            "  1.54933777e-03 -3.06099839e-03  9.01940817e-03  8.32378766e-03\n",
            " -4.21705878e-03 -2.25102829e-02 -1.68572411e-02  7.95706156e-03\n",
            " -3.42584529e-03  3.68466907e-03 -9.74300398e-04  6.38873498e-03\n",
            "  1.06138668e-02 -7.73586770e-03 -6.96015438e-03 -4.12356440e-03\n",
            " -1.81030697e-02  1.53082680e-02 -3.32510932e-04 -7.19820378e-04\n",
            "  6.86529783e-04  1.16556960e-02 -2.48495962e-03 -4.79482926e-03\n",
            " -8.41456671e-03 -1.34346249e-03 -7.57249672e-03  1.63389801e-03\n",
            " -9.39805434e-03  5.56344157e-03 -1.46217032e-02 -1.64254441e-03\n",
            "  6.56636677e-03 -8.01201043e-03 -8.27585338e-03 -5.74829043e-03\n",
            " -2.07515845e-04 -1.14888952e-02  1.75039066e-02  1.18641832e-02\n",
            " -4.70147241e-03  7.59823716e-03 -2.82994349e-03 -6.55994180e-03\n",
            "  1.24212850e-02 -1.46855646e-02  8.45067053e-03 -5.84190471e-03\n",
            " -5.30002369e-03  1.48760981e-02 -5.88254817e-03 -1.40026191e-02\n",
            "  3.05732433e-02  3.25540031e-03  3.85129741e-03  3.44041564e-03\n",
            " -1.10931502e-02  3.42057513e-03 -5.76887123e-03  1.13274122e-02\n",
            "  4.99166204e-03  8.60161983e-03 -4.27433228e-04 -7.51771468e-04\n",
            " -1.63576967e-03 -6.26979908e-03  1.64650580e-02 -1.13275442e-03\n",
            "  1.33844805e-02  3.45790962e-03  5.66636928e-03 -1.75982722e-02\n",
            " -1.25596928e-02  9.99327972e-03  4.01681980e-04  5.08473989e-03\n",
            "  2.35333669e-03 -8.54504872e-03  5.56776133e-03 -1.14480657e-02\n",
            " -5.24587051e-04  5.54647259e-03 -1.78917486e-03 -2.03510357e-03\n",
            "  3.96692602e-03  1.04508300e-02 -1.67242863e-02  5.68466213e-03\n",
            " -3.69916074e-03  9.49620217e-03]\n",
            "-0.00967497398238864\n",
            "9903.250260176113\n",
            "6.91106509930715e-310\n",
            "0.010682596902770758\n",
            "10009.042690732835\n",
            "10009.042690732835\n",
            "0.01213087606047402\n",
            "10130.461147098107\n",
            "10009.042690732835\n",
            "0.011447188023825541\n",
            "10246.426440616999\n",
            "10009.042690732835\n",
            "0.01678404448706742\n",
            "10418.402917829779\n",
            "10009.042690732835\n",
            "0.004784048798324167\n",
            "10468.245065789279\n",
            "10009.042690732835\n",
            "0.0009173765175533951\n",
            "10477.848387992628\n",
            "10009.042690732835\n",
            "0.00042653476865794015\n",
            "10482.317554630832\n",
            "10009.042690732835\n",
            "0.013642517372299583\n",
            "10625.322753971845\n",
            "10009.042690732835\n",
            "0.010995889054863244\n",
            "10742.157624146632\n",
            "10009.042690732835\n",
            "-0.00627734441097717\n",
            "10674.725401022859\n",
            "10009.042690732835\n",
            "-0.0012931681986916822\n",
            "10660.921185604491\n",
            "10009.042690732835\n",
            "-0.00898539412792159\n",
            "10565.128606985127\n",
            "10009.042690732835\n",
            "0.01930647719336362\n",
            "10769.104021480838\n",
            "10009.042690732835\n",
            "0.0019860651305582725\n",
            "10790.492163465256\n",
            "10009.042690732835\n",
            "-0.001458072525933125\n",
            "10774.758843300411\n",
            "10009.042690732835\n",
            "-0.0021911445117844762\n",
            "10751.149789595112\n",
            "10009.042690732835\n",
            "0.01762497770358586\n",
            "10940.638564924639\n",
            "10009.042690732835\n",
            "-0.012822394665622794\n",
            "10800.353379351243\n",
            "10009.042690732835\n",
            "0.002698267944810585\n",
            "10829.495626667374\n",
            "10009.042690732835\n",
            "0.00878698595865557\n",
            "10924.654252678223\n",
            "10009.042690732835\n",
            "7.966273649822352e-05\n",
            "10925.524540531289\n",
            "10009.042690732835\n",
            "0.010885729191085523\n",
            "11044.456841950072\n",
            "10009.042690732835\n",
            "0.0007897830264026185\n",
            "11053.179566499679\n",
            "10009.042690732835\n",
            "0.008060823318568236\n",
            "11142.277294093641\n",
            "10009.042690732835\n",
            "0.005191049189483012\n",
            "11200.117403610142\n",
            "10009.042690732835\n",
            "-0.0012728444980272177\n",
            "11185.861395795699\n",
            "10009.042690732835\n",
            "-0.008409840108696229\n",
            "11091.790089979018\n",
            "10009.042690732835\n",
            "-0.004953062008069511\n",
            "11036.85176588286\n",
            "10009.042690732835\n",
            "-0.0013702000486744692\n",
            "11021.729071056034\n",
            "10009.042690732835\n",
            "0.009874244951272202\n",
            "11130.560323690197\n",
            "10009.042690732835\n",
            "-0.007185496818262984\n",
            "11050.581717898836\n",
            "10009.042690732835\n",
            "0.019380349806766242\n",
            "11264.745857159971\n",
            "10009.042690732835\n",
            "0.0022039131093068106\n",
            "11289.572378227575\n",
            "10009.042690732835\n",
            "-0.004750948903673455\n",
            "11235.936196714292\n",
            "10009.042690732835\n",
            "0.0023865398915520445\n",
            "11262.751206666686\n",
            "10009.042690732835\n",
            "0.004056424361185309\n",
            "11308.437705035378\n",
            "10009.042690732835\n",
            "0.0029965872969200153\n",
            "11342.324425810299\n",
            "10009.042690732835\n",
            "0.006911650412186589\n",
            "11420.718607103105\n",
            "10009.042690732835\n",
            "-0.01905837207925884\n",
            "11203.058302476418\n",
            "10009.042690732835\n",
            "0.002820443269066481\n",
            "11234.655892858596\n",
            "10009.042690732835\n",
            "-0.022876399259575905\n",
            "10977.647419109617\n",
            "10009.042690732835\n",
            "-0.005514741251926616\n",
            "10917.108534038347\n",
            "10009.042690732835\n",
            "0.012076206650288676\n",
            "11048.945792719023\n",
            "10009.042690732835\n",
            "-0.011517980660807942\n",
            "10921.684248756172\n",
            "10009.042690732835\n",
            "0.0015518259590626346\n",
            "10938.632801890077\n",
            "10009.042690732835\n",
            "-0.006320090563045773\n",
            "10869.49965194623\n",
            "10009.042690732835\n",
            "-0.018167726661067217\n",
            "10672.025553327105\n",
            "10009.042690732835\n",
            "-0.0018801489905995962\n",
            "10651.960555255364\n",
            "10009.042690732835\n",
            "0.0008906671439477726\n",
            "10661.447906540558\n",
            "10009.042690732835\n",
            "-0.016053939022954874\n",
            "10490.289671952547\n",
            "10009.042690732835\n",
            "-0.007075155875167806\n",
            "10416.06923734782\n",
            "10009.042690732835\n",
            "-0.021491044563750214\n",
            "10192.21702918887\n",
            "10009.042690732835\n",
            "0.0012630375323613371\n",
            "10205.090181834707\n",
            "10009.042690732835\n",
            "-0.0004362910055616376\n",
            "10200.637792777427\n",
            "10009.042690732835\n",
            "0.01012715018688269\n",
            "10303.941183706875\n",
            "10009.042690732835\n",
            "-0.01742337119989319\n",
            "10124.411791641283\n",
            "10009.042690732835\n",
            "-0.010684743791057511\n",
            "10016.235045612435\n",
            "10009.042690732835\n",
            "0.016553493999880587\n",
            "10182.038732341374\n",
            "10009.042690732835\n",
            "0.008519319772007187\n",
            "10268.782776233154\n",
            "10009.042690732835\n",
            "0.013709821648995894\n",
            "10409.565956647592\n",
            "10009.042690732835\n",
            "0.002740745319853915\n",
            "10438.095925824986\n",
            "10009.042690732835\n",
            "0.004038090289451044\n",
            "10480.245899623418\n",
            "10009.042690732835\n",
            "-0.010400286535760434\n",
            "10371.248339302107\n",
            "10009.042690732835\n",
            "0.012533848228474684\n",
            "10501.23999192674\n",
            "10009.042690732835\n",
            "-0.004022248171435164\n",
            "10459.00139857141\n",
            "10009.042690732835\n",
            "-0.015330155125002742\n",
            "10298.66328467869\n",
            "10009.042690732835\n",
            "0.015462455566046357\n",
            "10457.905908107707\n",
            "10009.042690732835\n",
            "0.0012454664463384725\n",
            "10470.930879015219\n",
            "10009.042690732835\n",
            "0.002065498481470125\n",
            "10492.558570845404\n",
            "10009.042690732835\n",
            "-0.009049945463693955\n",
            "10397.601488004639\n",
            "10009.042690732835\n",
            "0.006544981252334431\n",
            "10465.653594812873\n",
            "10009.042690732835\n",
            "0.0046133104658488714\n",
            "10513.93490407377\n",
            "10009.042690732835\n",
            "-0.016545912264708203\n",
            "10339.972259594113\n",
            "10009.042690732835\n",
            "-0.013854301192257548\n",
            "10196.71916959011\n",
            "10009.042690732835\n",
            "0.0044463164268602785\n",
            "10242.057009533939\n",
            "10009.042690732835\n",
            "-0.008467617374815056\n",
            "10155.331189646164\n",
            "10009.042690732835\n",
            "0.008932763577139777\n",
            "10246.046362210825\n",
            "10009.042690732835\n",
            "0.0038676116469564315\n",
            "10285.674090456569\n",
            "10009.042690732835\n",
            "-5.134271859199296e-05\n",
            "10285.145995986213\n",
            "10009.042690732835\n",
            "-0.009301399948462422\n",
            "10189.479739549219\n",
            "10009.042690732835\n",
            "-0.014940735185581335\n",
            "10037.241421081768\n",
            "10009.042690732835\n",
            "0.004687392683295908\n",
            "10084.289913079421\n",
            "10009.042690732835\n",
            "0.0022233414883559154\n",
            "10106.71073322378\n",
            "10009.042690732835\n",
            "-0.0020464648602297724\n",
            "10086.02770485573\n",
            "10009.042690732835\n",
            "-0.0004644352301963611\n",
            "10081.343398256859\n",
            "10009.042690732835\n",
            "-0.006978837417033752\n",
            "10010.987341735137\n",
            "10009.042690732835\n",
            "-0.00112701648521376\n",
            "9999.704793967736\n",
            "10009.042690732835\n",
            "-0.010082648452075888\n",
            "9898.881285905622\n",
            "10009.042690732835\n",
            "-0.000529337845407427\n",
            "9893.641433413797\n",
            "10009.042690732835\n",
            "0.0033300574190603953\n",
            "9926.587827470661\n",
            "10009.042690732835\n",
            "-0.00648981762901076\n",
            "9862.166082792019\n",
            "10009.042690732835\n",
            "-0.015430564337117616\n",
            "9709.987294548157\n",
            "10009.042690732835\n",
            "0.016594603348294587\n",
            "9871.120682218165\n",
            "10009.042690732835\n",
            "-0.009700922222844178\n",
            "9775.361708227658\n",
            "10009.042690732835\n",
            "0.012923349627068668\n",
            "9901.692125314143\n",
            "10009.042690732835\n",
            "-0.009387619071179824\n",
            "9808.738811481593\n",
            "10009.042690732835\n",
            "-0.01212532903174779\n",
            "9689.804626005904\n",
            "10009.042690732835\n",
            "0.01673647478722968\n",
            "9851.977796822232\n",
            "10009.042690732835\n",
            "0.019753917842438667\n",
            "10046.592956806187\n",
            "10009.042690732835\n",
            "-0.011770120539639122\n",
            "9928.343346691889\n",
            "10009.042690732835\n",
            "0.01286128711373221\n",
            "10056.034621037405\n",
            "10009.042690732835\n",
            "0.008717734904406072\n",
            "10143.700465053138\n",
            "10009.042690732835\n",
            "-0.009859599634976403\n",
            "10043.68763965059\n",
            "10009.042690732835\n",
            "0.0009345946496778392\n",
            "10053.074416381643\n",
            "10009.042690732835\n",
            "-0.016196413455845868\n",
            "9890.25066663154\n",
            "10009.042690732835\n",
            "-0.016254260881100692\n",
            "9729.49195211663\n",
            "10009.042690732835\n",
            "-0.005144454979177181\n",
            "9679.4390187987\n",
            "10009.042690732835\n",
            "0.003127870723949413\n",
            "9709.715052729855\n",
            "10009.042690732835\n",
            "0.015645126046074976\n",
            "9861.624768601285\n",
            "10009.042690732835\n",
            "0.0081843550389451\n",
            "9942.335806968373\n",
            "10009.042690732835\n",
            "0.0040214981556491265\n",
            "9982.318892078942\n",
            "10009.042690732835\n",
            "0.0011805555832630772\n",
            "9994.103574380899\n",
            "10009.042690732835\n",
            "0.00035442772139233583\n",
            "9997.645761738126\n",
            "10009.042690732835\n",
            "-0.00477901095674931\n",
            "9949.866903101081\n",
            "10009.042690732835\n",
            "0.0062369317034069605\n",
            "10011.923543433713\n",
            "10009.042690732835\n",
            "-0.02469523084214997\n",
            "9764.67678035466\n",
            "10009.042690732835\n",
            "-0.011491237552468107\n",
            "9652.468559848536\n",
            "10009.042690732835\n",
            "-0.005009707860619812\n",
            "9604.112512229876\n",
            "10009.042690732835\n",
            "0.0001475947836908202\n",
            "9605.530029138661\n",
            "10009.042690732835\n",
            "-0.003910505790833067\n",
            "9567.967548335693\n",
            "10009.042690732835\n",
            "-0.0038841957796989257\n",
            "9530.803689164151\n",
            "10009.042690732835\n",
            "0.010501419569318035\n",
            "9630.89065753687\n",
            "10009.042690732835\n",
            "-0.000320693872145131\n",
            "9627.802089919696\n",
            "10009.042690732835\n",
            "-0.00047733865570539146\n",
            "9623.206367812696\n",
            "10009.042690732835\n",
            "-0.0027734294910210563\n",
            "9596.517083474022\n",
            "10009.042690732835\n",
            "-0.004721362680044403\n",
            "9551.2084458577\n",
            "10009.042690732835\n",
            "-0.0018532963669329794\n",
            "9533.507225945172\n",
            "10009.042690732835\n",
            "0.001954202257598715\n",
            "9552.137627288947\n",
            "10009.042690732835\n",
            "0.014883829370954853\n",
            "9694.310013861392\n",
            "10009.042690732835\n",
            "0.003248435669915089\n",
            "9725.801356305636\n",
            "10009.042690732835\n",
            "-0.011881423234133413\n",
            "9610.24499410026\n",
            "10009.042690732835\n",
            "-0.0014941428223984765\n",
            "9595.885915520834\n",
            "10009.042690732835\n",
            "-0.003033289151052661\n",
            "9566.778818878545\n",
            "10009.042690732835\n",
            "-0.013596970392749935\n",
            "9436.699610524265\n",
            "10009.042690732835\n",
            "-0.021380173493575766\n",
            "9234.941335644497\n",
            "10009.042690732835\n",
            "0.004009370988317665\n",
            "9271.967641514446\n",
            "10009.042690732835\n",
            "0.007068423887663373\n",
            "9337.505839077367\n",
            "10009.042690732835\n",
            "0.00792607784728087\n",
            "9411.515637257335\n",
            "10009.042690732835\n",
            "-0.0023342308189565424\n",
            "9389.546987403757\n",
            "10009.042690732835\n",
            "0.008597453137817032\n",
            "9470.273177613291\n",
            "10009.042690732835\n",
            "0.0036628053514471443\n",
            "9504.96094488792\n",
            "10009.042690732835\n",
            "0.007264231606096207\n",
            "9574.007182598485\n",
            "10009.042690732835\n",
            "0.0001793845518946862\n",
            "9575.724611586773\n",
            "10009.042690732835\n",
            "-0.02285479911924125\n",
            "9356.873349167783\n",
            "10009.042690732835\n",
            "-0.014788451276015633\n",
            "9218.499683547767\n",
            "10009.042690732835\n",
            "-0.013531999412493763\n",
            "9093.754951245925\n",
            "10009.042690732835\n",
            "-0.00028945528284992787\n",
            "9091.122715834343\n",
            "10009.042690732835\n",
            "-0.01717432471456063\n",
            "8934.988822292686\n",
            "10009.042690732835\n",
            "-0.01152909257165728\n",
            "8831.976509033751\n",
            "10009.042690732835\n",
            "0.009410308109846886\n",
            "8915.08812920269\n",
            "10009.042690732835\n",
            "-0.010285269311427765\n",
            "8823.394046858726\n",
            "10009.042690732835\n",
            "0.000655358098055497\n",
            "8829.17652959967\n",
            "10009.042690732835\n",
            "0.004104702904373708\n",
            "8865.417676143947\n",
            "10009.042690732835\n",
            "-0.011689303556646739\n",
            "8761.787117771039\n",
            "10009.042690732835\n",
            "-0.019144076259104314\n",
            "8594.050797022392\n",
            "10009.042690732835\n",
            "0.0007323556915795458\n",
            "8600.344699037314\n",
            "10009.042690732835\n",
            "0.007496881329926113\n",
            "8664.820462642456\n",
            "10009.042690732835\n",
            "0.0008613830019665784\n",
            "8672.284191704068\n",
            "10009.042690732835\n",
            "-0.017372349271910923\n",
            "8521.626241740514\n",
            "10009.042690732835\n",
            "0.0015493377744088264\n",
            "8534.829119176236\n",
            "10009.042690732835\n",
            "-0.0030609983908930546\n",
            "8508.70402097589\n",
            "10009.042690732835\n",
            "0.009019408172314438\n",
            "8585.447495558486\n",
            "10009.042690732835\n",
            "0.00832378766419909\n",
            "8656.910937513645\n",
            "10009.042690732835\n",
            "-0.004217058784468539\n",
            "8620.40423519824\n",
            "10009.042690732835\n",
            "-0.022510282924480672\n",
            "8426.356496940538\n",
            "10009.042690732835\n",
            "-0.016857241107839687\n",
            "8284.311373811\n",
            "10009.042690732835\n",
            "0.007957061561774621\n",
            "8350.230149409324\n",
            "10009.042690732835\n",
            "-0.00342584529326931\n",
            "8321.623552754256\n",
            "10009.042690732835\n",
            "0.003684669074039213\n",
            "8352.285981704887\n",
            "10009.042690732835\n",
            "-0.0009743003978559921\n",
            "8344.148346149905\n",
            "10009.042690732835\n",
            "0.006388734982861553\n",
            "8397.45689859114\n",
            "10009.042690732835\n",
            "0.01061386683404725\n",
            "8486.586387857436\n",
            "10009.042690732835\n",
            "-0.007735867699762972\n",
            "8420.935278338362\n",
            "10009.042690732835\n",
            "-0.006960154376005592\n",
            "8362.324268810775\n",
            "10009.042690732835\n",
            "-0.00412356439986962\n",
            "8327.841686155742\n",
            "10009.042690732835\n",
            "-0.018103069702751537\n",
            "8177.082187637784\n",
            "10009.042690732835\n",
            "0.01530826797754252\n",
            "8302.259153040533\n",
            "10009.042690732835\n",
            "-0.00033251093210530033\n",
            "8299.498561110977\n",
            "10009.042690732835\n",
            "-0.0007198203779941431\n",
            "8293.524412919556\n",
            "10009.042690732835\n",
            "0.0006865297829575487\n",
            "8299.218164434711\n",
            "10009.042690732835\n",
            "0.011655695952631565\n",
            "8395.95132800392\n",
            "10009.042690732835\n",
            "-0.0024849596230685366\n",
            "8375.087727956581\n",
            "10009.042690732835\n",
            "-0.00479482925697257\n",
            "8334.930612288863\n",
            "10009.042690732835\n",
            "-0.008414566713006933\n",
            "8264.795782603474\n",
            "10009.042690732835\n",
            "-0.001343462492637966\n",
            "8253.692339460235\n",
            "10009.042690732835\n",
            "-0.007572496715236633\n",
            "8191.191281331098\n",
            "10009.042690732835\n",
            "0.001633898013469149\n",
            "8204.574852493612\n",
            "10009.042690732835\n",
            "-0.009398054337410056\n",
            "8127.467812214529\n",
            "10009.042690732835\n",
            "0.005563441573532294\n",
            "8172.684504528549\n",
            "10009.042690732835\n",
            "-0.014621703172721743\n",
            "8053.18593757903\n",
            "10009.042690732835\n",
            "-0.001642544408852212\n",
            "8039.958222043812\n",
            "10009.042690732835\n",
            "0.006566366768715465\n",
            "8092.751536534902\n",
            "10009.042690732835\n",
            "-0.00801201042986323\n",
            "8027.912326817893\n",
            "10009.042690732835\n",
            "-0.008275853376370235\n",
            "7961.474501482792\n",
            "10009.042690732835\n",
            "-0.0057482904280164275\n",
            "7915.709633813022\n",
            "10009.042690732835\n",
            "-0.0002075158454774415\n",
            "7914.066998635808\n",
            "10009.042690732835\n",
            "-0.011488895239887869\n",
            "7823.143111967028\n",
            "10009.042690732835\n",
            "0.017503906602855165\n",
            "7960.078678339668\n",
            "10009.042690732835\n",
            "0.011864183177078814\n",
            "8054.518509883448\n",
            "10009.042690732835\n",
            "-0.004701472413343794\n",
            "8016.650413306464\n",
            "10009.042690732835\n",
            "0.00759823715570478\n",
            "8077.562824341146\n",
            "10009.042690732835\n",
            "-0.002829943490157951\n",
            "8054.703778010059\n",
            "10009.042690732835\n",
            "-0.006559941798838604\n",
            "8001.865390019428\n",
            "10009.042690732835\n",
            "0.012421284950064577\n",
            "8101.258840160919\n",
            "10009.042690732835\n",
            "-0.014685564611061613\n",
            "7982.287280032801\n",
            "10009.042690732835\n",
            "0.008450670529706095\n",
            "8049.742959909822\n",
            "10009.042690732835\n",
            "-0.0058419047108891455\n",
            "8002.717128590878\n",
            "10009.042690732835\n",
            "-0.005300023685357428\n",
            "7960.302538262131\n",
            "10009.042690732835\n",
            "0.0148760980966624\n",
            "8078.720779700429\n",
            "10009.042690732835\n",
            "-0.005882548173256583\n",
            "8031.197315535553\n",
            "10009.042690732835\n",
            "-0.014002619071517019\n",
            "7918.739518837919\n",
            "10009.042690732835\n",
            "0.03057324333627728\n",
            "8160.841069063946\n",
            "10009.042690732835\n",
            "0.0032554003066879696\n",
            "8187.407873583009\n",
            "10009.042690732835\n",
            "0.0038512974143166574\n",
            "8218.940016356495\n",
            "10009.042690732835\n",
            "0.003440415639850181\n",
            "8247.216586131759\n",
            "10009.042690732835\n",
            "-0.011093150175315099\n",
            "8155.72897401345\n",
            "10009.042690732835\n",
            "0.003420575127692044\n",
            "8183.626257690158\n",
            "10009.042690732835\n",
            "-0.0057688712348702475\n",
            "8136.41597157524\n",
            "10009.042690732835\n",
            "0.011327412206769099\n",
            "8228.580509171012\n",
            "10009.042690732835\n",
            "0.004991662044715524\n",
            "8269.654802180527\n",
            "10009.042690732835\n",
            "0.008601619826934671\n",
            "8340.787228888868\n",
            "10009.042690732835\n",
            "-0.0004274332277697603\n",
            "8337.222099281484\n",
            "10009.042690732835\n",
            "-0.0007517714681349824\n",
            "8330.954413583739\n",
            "10009.042690732835\n",
            "-0.0016357696712092236\n",
            "8317.326891021772\n",
            "10009.042690732835\n",
            "-0.006269799081061379\n",
            "8265.178922523557\n",
            "10009.042690732835\n",
            "0.016465057996728354\n",
            "8401.265572836244\n",
            "10009.042690732835\n",
            "-0.0011327544194077944\n",
            "8391.749002129996\n",
            "10009.042690732835\n",
            "0.01338448049793088\n",
            "8504.068202992536\n",
            "10009.042690732835\n",
            "0.0034579096152933\n",
            "8533.474502200774\n",
            "10009.042690732835\n",
            "0.005666369283637634\n",
            "8581.828320002749\n",
            "10009.042690732835\n",
            "-0.0175982721971051\n",
            "8430.802969278515\n",
            "10009.042690732835\n",
            "-0.01255969280622589\n",
            "8324.914673874559\n",
            "10009.042690732835\n",
            "0.009993279716932707\n",
            "8408.107874830184\n",
            "10009.042690732835\n",
            "0.00040168198015514073\n",
            "8411.485260250704\n",
            "10009.042690732835\n",
            "0.005084739889157303\n",
            "8454.25547488056\n",
            "10009.042690732835\n",
            "0.0023533366882156222\n",
            "8474.151184461143\n",
            "10009.042690732835\n",
            "-0.00854504871693562\n",
            "8401.739149755245\n",
            "10009.042690732835\n",
            "0.005567761325428703\n",
            "8448.518028059594\n",
            "10009.042690732835\n",
            "-0.011448065667315942\n",
            "8351.798838882865\n",
            "10009.042690732835\n",
            "-0.000524587051226021\n",
            "8347.417593357543\n",
            "10009.042690732835\n",
            "0.005546472594825562\n",
            "8393.716316276665\n",
            "10009.042690732835\n",
            "-0.0017891748648332525\n",
            "8378.698490021043\n",
            "10009.042690732835\n",
            "-0.0020351035667568592\n",
            "8361.646970839221\n",
            "10009.042690732835\n",
            "0.003966926017937189\n",
            "8394.81700576065\n",
            "10009.042690732835\n",
            "0.010450830043467831\n",
            "8482.549811533867\n",
            "10009.042690732835\n",
            "-0.016724286340868463\n",
            "8340.685219585095\n",
            "10009.042690732835\n",
            "0.005684662125584626\n",
            "8388.099196954294\n",
            "10009.042690732835\n",
            "-0.003699160738183416\n",
            "8357.070269736932\n",
            "10009.042690732835\n",
            "0.009496202174494699\n",
            "8436.430698604812\n",
            "10009.042690732835\n"
          ]
        },
        {
          "output_type": "execute_result",
          "data": {
            "text/plain": [
              "array([ 9903.25026018, 10009.04269073, 10130.4611471 , 10246.42644062,\n",
              "       10418.40291783, 10468.24506579, 10477.84838799, 10482.31755463,\n",
              "       10625.32275397, 10742.15762415, 10674.72540102, 10660.9211856 ,\n",
              "       10565.12860699, 10769.10402148, 10790.49216347, 10774.7588433 ,\n",
              "       10751.1497896 , 10940.63856492, 10800.35337935, 10829.49562667,\n",
              "       10924.65425268, 10925.52454053, 11044.45684195, 11053.1795665 ,\n",
              "       11142.27729409, 11200.11740361, 11185.8613958 , 11091.79008998,\n",
              "       11036.85176588, 11021.72907106, 11130.56032369, 11050.5817179 ,\n",
              "       11264.74585716, 11289.57237823, 11235.93619671, 11262.75120667,\n",
              "       11308.43770504, 11342.32442581, 11420.7186071 , 11203.05830248,\n",
              "       11234.65589286, 10977.64741911, 10917.10853404, 11048.94579272,\n",
              "       10921.68424876, 10938.63280189, 10869.49965195, 10672.02555333,\n",
              "       10651.96055526, 10661.44790654, 10490.28967195, 10416.06923735,\n",
              "       10192.21702919, 10205.09018183, 10200.63779278, 10303.94118371,\n",
              "       10124.41179164, 10016.23504561, 10182.03873234, 10268.78277623,\n",
              "       10409.56595665, 10438.09592582, 10480.24589962, 10371.2483393 ,\n",
              "       10501.23999193, 10459.00139857, 10298.66328468, 10457.90590811,\n",
              "       10470.93087902, 10492.55857085, 10397.601488  , 10465.65359481,\n",
              "       10513.93490407, 10339.97225959, 10196.71916959, 10242.05700953,\n",
              "       10155.33118965, 10246.04636221, 10285.67409046, 10285.14599599,\n",
              "       10189.47973955, 10037.24142108, 10084.28991308, 10106.71073322,\n",
              "       10086.02770486, 10081.34339826, 10010.98734174,  9999.70479397,\n",
              "        9898.88128591,  9893.64143341,  9926.58782747,  9862.16608279,\n",
              "        9709.98729455,  9871.12068222,  9775.36170823,  9901.69212531,\n",
              "        9808.73881148,  9689.80462601,  9851.97779682, 10046.59295681,\n",
              "        9928.34334669, 10056.03462104, 10143.70046505, 10043.68763965,\n",
              "       10053.07441638,  9890.25066663,  9729.49195212,  9679.4390188 ,\n",
              "        9709.71505273,  9861.6247686 ,  9942.33580697,  9982.31889208,\n",
              "        9994.10357438,  9997.64576174,  9949.8669031 , 10011.92354343,\n",
              "        9764.67678035,  9652.46855985,  9604.11251223,  9605.53002914,\n",
              "        9567.96754834,  9530.80368916,  9630.89065754,  9627.80208992,\n",
              "        9623.20636781,  9596.51708347,  9551.20844586,  9533.50722595,\n",
              "        9552.13762729,  9694.31001386,  9725.80135631,  9610.2449941 ,\n",
              "        9595.88591552,  9566.77881888,  9436.69961052,  9234.94133564,\n",
              "        9271.96764151,  9337.50583908,  9411.51563726,  9389.5469874 ,\n",
              "        9470.27317761,  9504.96094489,  9574.0071826 ,  9575.72461159,\n",
              "        9356.87334917,  9218.49968355,  9093.75495125,  9091.12271583,\n",
              "        8934.98882229,  8831.97650903,  8915.0881292 ,  8823.39404686,\n",
              "        8829.1765296 ,  8865.41767614,  8761.78711777,  8594.05079702,\n",
              "        8600.34469904,  8664.82046264,  8672.2841917 ,  8521.62624174,\n",
              "        8534.82911918,  8508.70402098,  8585.44749556,  8656.91093751,\n",
              "        8620.4042352 ,  8426.35649694,  8284.31137381,  8350.23014941,\n",
              "        8321.62355275,  8352.2859817 ,  8344.14834615,  8397.45689859,\n",
              "        8486.58638786,  8420.93527834,  8362.32426881,  8327.84168616,\n",
              "        8177.08218764,  8302.25915304,  8299.49856111,  8293.52441292,\n",
              "        8299.21816443,  8395.951328  ,  8375.08772796,  8334.93061229,\n",
              "        8264.7957826 ,  8253.69233946,  8191.19128133,  8204.57485249,\n",
              "        8127.46781221,  8172.68450453,  8053.18593758,  8039.95822204,\n",
              "        8092.75153653,  8027.91232682,  7961.47450148,  7915.70963381,\n",
              "        7914.06699864,  7823.14311197,  7960.07867834,  8054.51850988,\n",
              "        8016.65041331,  8077.56282434,  8054.70377801,  8001.86539002,\n",
              "        8101.25884016,  7982.28728003,  8049.74295991,  8002.71712859,\n",
              "        7960.30253826,  8078.7207797 ,  8031.19731554,  7918.73951884,\n",
              "        8160.84106906,  8187.40787358,  8218.94001636,  8247.21658613,\n",
              "        8155.72897401,  8183.62625769,  8136.41597158,  8228.58050917,\n",
              "        8269.65480218,  8340.78722889,  8337.22209928,  8330.95441358,\n",
              "        8317.32689102,  8265.17892252,  8401.26557284,  8391.74900213,\n",
              "        8504.06820299,  8533.4745022 ,  8581.82832   ,  8430.80296928,\n",
              "        8324.91467387,  8408.10787483,  8411.48526025,  8454.25547488,\n",
              "        8474.15118446,  8401.73914976,  8448.51802806,  8351.79883888,\n",
              "        8347.41759336,  8393.71631628,  8378.69849002,  8361.64697084,\n",
              "        8394.81700576,  8482.54981153,  8340.68521959,  8388.09919695,\n",
              "        8357.07026974,  8436.4306986 ])"
            ]
          },
          "metadata": {},
          "execution_count": 134
        }
      ]
    },
    {
      "cell_type": "code",
      "source": [
        "np.random.randint(1, 10, 100)\n",
        "x"
      ],
      "metadata": {
        "colab": {
          "base_uri": "https://localhost:8080/"
        },
        "id": "Veokkludjd6l",
        "outputId": "0f591a2f-c74f-4934-e5eb-490775179892"
      },
      "execution_count": 135,
      "outputs": [
        {
          "output_type": "execute_result",
          "data": {
            "text/plain": [
              "array([3, 1, 8, 7, 9, 0, 6, 4, 2, 5])"
            ]
          },
          "metadata": {},
          "execution_count": 135
        }
      ]
    },
    {
      "cell_type": "code",
      "source": [
        "np.unique(x)"
      ],
      "metadata": {
        "colab": {
          "base_uri": "https://localhost:8080/"
        },
        "id": "90Tg_tU7j9Y6",
        "outputId": "fb012530-27b9-4c00-9ff2-3999a2e29151"
      },
      "execution_count": 136,
      "outputs": [
        {
          "output_type": "execute_result",
          "data": {
            "text/plain": [
              "array([0, 1, 2, 3, 4, 5, 6, 7, 8, 9])"
            ]
          },
          "metadata": {},
          "execution_count": 136
        }
      ]
    },
    {
      "cell_type": "code",
      "source": [
        "np.unique(x, return_counts=True)"
      ],
      "metadata": {
        "colab": {
          "base_uri": "https://localhost:8080/"
        },
        "id": "bR5X3fDEj_RV",
        "outputId": "a56062c5-0fb0-40fa-e51a-658769aa9095"
      },
      "execution_count": 138,
      "outputs": [
        {
          "output_type": "execute_result",
          "data": {
            "text/plain": [
              "(array([0, 1, 2, 3, 4, 5, 6, 7, 8, 9]), array([1, 1, 1, 1, 1, 1, 1, 1, 1, 1]))"
            ]
          },
          "metadata": {},
          "execution_count": 138
        }
      ]
    },
    {
      "cell_type": "code",
      "source": [
        "np.unique(x, return_counts=True, return_index=True)"
      ],
      "metadata": {
        "colab": {
          "base_uri": "https://localhost:8080/"
        },
        "id": "sTxDDfd-kGXc",
        "outputId": "fb0aa0e7-8e9f-446c-d33e-7b1850cee9f0"
      },
      "execution_count": 140,
      "outputs": [
        {
          "output_type": "execute_result",
          "data": {
            "text/plain": [
              "(array([0, 1, 2, 3, 4, 5, 6, 7, 8, 9]),\n",
              " array([5, 1, 8, 0, 7, 9, 6, 3, 2, 4]),\n",
              " array([1, 1, 1, 1, 1, 1, 1, 1, 1, 1]))"
            ]
          },
          "metadata": {},
          "execution_count": 140
        }
      ]
    },
    {
      "cell_type": "code",
      "source": [
        "key, value = np.unique(x, return_counts=True)\n",
        "print(key)\n",
        "print(value)"
      ],
      "metadata": {
        "colab": {
          "base_uri": "https://localhost:8080/"
        },
        "id": "sEz5HYYgkPQT",
        "outputId": "9ee1a684-efe6-421a-e7da-714fd3e80e21"
      },
      "execution_count": 141,
      "outputs": [
        {
          "output_type": "stream",
          "name": "stdout",
          "text": [
            "[0 1 2 3 4 5 6 7 8 9]\n",
            "[1 1 1 1 1 1 1 1 1 1]\n"
          ]
        }
      ]
    },
    {
      "cell_type": "code",
      "source": [
        "# 2개의 시퀀스를, 인덱스로 묶어줌 zip\n",
        "list(zip(key, value))"
      ],
      "metadata": {
        "colab": {
          "base_uri": "https://localhost:8080/"
        },
        "id": "G4o5xbNgkjGC",
        "outputId": "926ca7d1-8098-44ff-b4d9-3c43ba9c6e06"
      },
      "execution_count": 142,
      "outputs": [
        {
          "output_type": "execute_result",
          "data": {
            "text/plain": [
              "[(0, 1),\n",
              " (1, 1),\n",
              " (2, 1),\n",
              " (3, 1),\n",
              " (4, 1),\n",
              " (5, 1),\n",
              " (6, 1),\n",
              " (7, 1),\n",
              " (8, 1),\n",
              " (9, 1)]"
            ]
          },
          "metadata": {},
          "execution_count": 142
        }
      ]
    },
    {
      "cell_type": "code",
      "source": [
        "dict(zip(key, value))"
      ],
      "metadata": {
        "colab": {
          "base_uri": "https://localhost:8080/"
        },
        "id": "UWLruISokprP",
        "outputId": "196924de-868b-4e1c-e128-8aa2095f8bb2"
      },
      "execution_count": 144,
      "outputs": [
        {
          "output_type": "execute_result",
          "data": {
            "text/plain": [
              "{0: 1, 1: 1, 2: 1, 3: 1, 4: 1, 5: 1, 6: 1, 7: 1, 8: 1, 9: 1}"
            ]
          },
          "metadata": {},
          "execution_count": 144
        }
      ]
    },
    {
      "cell_type": "code",
      "source": [
        "x = np.random.randint(30, size=10)\n",
        "x"
      ],
      "metadata": {
        "colab": {
          "base_uri": "https://localhost:8080/"
        },
        "id": "Jl52XxRYktTM",
        "outputId": "c67493ba-8f78-4f64-e520-f652ebc931b6"
      },
      "execution_count": 145,
      "outputs": [
        {
          "output_type": "execute_result",
          "data": {
            "text/plain": [
              "array([ 3,  7,  1,  1,  7, 25,  4, 13, 12, 18])"
            ]
          },
          "metadata": {},
          "execution_count": 145
        }
      ]
    },
    {
      "cell_type": "code",
      "source": [
        "np.bincount(x, minlength=30)"
      ],
      "metadata": {
        "colab": {
          "base_uri": "https://localhost:8080/"
        },
        "id": "TyEWGzJIlIVR",
        "outputId": "de6329fc-003f-4516-bf58-e330e3aeee2c"
      },
      "execution_count": 147,
      "outputs": [
        {
          "output_type": "execute_result",
          "data": {
            "text/plain": [
              "array([0, 2, 0, 1, 1, 0, 0, 2, 0, 0, 0, 0, 1, 1, 0, 0, 0, 0, 1, 0, 0, 0,\n",
              "       0, 0, 0, 1, 0, 0, 0, 0])"
            ]
          },
          "metadata": {},
          "execution_count": 147
        }
      ]
    },
    {
      "cell_type": "code",
      "source": [
        "np.arange(30), np.bincount(x, minlength=30)"
      ],
      "metadata": {
        "colab": {
          "base_uri": "https://localhost:8080/"
        },
        "id": "Y12KSK4RlPvX",
        "outputId": "6130c3d5-bf2f-4a45-e614-1ba41dac932d"
      },
      "execution_count": 149,
      "outputs": [
        {
          "output_type": "execute_result",
          "data": {
            "text/plain": [
              "(array([ 0,  1,  2,  3,  4,  5,  6,  7,  8,  9, 10, 11, 12, 13, 14, 15, 16,\n",
              "        17, 18, 19, 20, 21, 22, 23, 24, 25, 26, 27, 28, 29]),\n",
              " array([0, 2, 0, 1, 1, 0, 0, 2, 0, 0, 0, 0, 1, 1, 0, 0, 0, 0, 1, 0, 0, 0,\n",
              "        0, 0, 0, 1, 0, 0, 0, 0]))"
            ]
          },
          "metadata": {},
          "execution_count": 149
        }
      ]
    },
    {
      "cell_type": "code",
      "source": [
        "dict(zip(np.arange(30), np.bincount(x, minlength=30)))"
      ],
      "metadata": {
        "colab": {
          "base_uri": "https://localhost:8080/"
        },
        "id": "qQwdVlpAlZyn",
        "outputId": "77f474cc-f795-41f1-a0f2-3d8126c072a1"
      },
      "execution_count": 150,
      "outputs": [
        {
          "output_type": "execute_result",
          "data": {
            "text/plain": [
              "{0: 0,\n",
              " 1: 2,\n",
              " 2: 0,\n",
              " 3: 1,\n",
              " 4: 1,\n",
              " 5: 0,\n",
              " 6: 0,\n",
              " 7: 2,\n",
              " 8: 0,\n",
              " 9: 0,\n",
              " 10: 0,\n",
              " 11: 0,\n",
              " 12: 1,\n",
              " 13: 1,\n",
              " 14: 0,\n",
              " 15: 0,\n",
              " 16: 0,\n",
              " 17: 0,\n",
              " 18: 1,\n",
              " 19: 0,\n",
              " 20: 0,\n",
              " 21: 0,\n",
              " 22: 0,\n",
              " 23: 0,\n",
              " 24: 0,\n",
              " 25: 1,\n",
              " 26: 0,\n",
              " 27: 0,\n",
              " 28: 0,\n",
              " 29: 0}"
            ]
          },
          "metadata": {},
          "execution_count": 150
        }
      ]
    },
    {
      "cell_type": "code",
      "source": [],
      "metadata": {
        "id": "Vb-j8xkZldjJ"
      },
      "execution_count": null,
      "outputs": []
    }
  ]
}