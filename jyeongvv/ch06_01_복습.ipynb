{
  "nbformat": 4,
  "nbformat_minor": 0,
  "metadata": {
    "colab": {
      "provenance": [],
      "authorship_tag": "ABX9TyPm5qG3s7ARokBb+jy19D4v",
      "include_colab_link": true
    },
    "kernelspec": {
      "name": "python3",
      "display_name": "Python 3"
    },
    "language_info": {
      "name": "python"
    }
  },
  "cells": [
    {
      "cell_type": "markdown",
      "metadata": {
        "id": "view-in-github",
        "colab_type": "text"
      },
      "source": [
        "<a href=\"https://colab.research.google.com/github/jyeongvv/DataAnalysis_jy/blob/main/jyeongvv/ch06_01_%EB%B3%B5%EC%8A%B5.ipynb\" target=\"_parent\"><img src=\"https://colab.research.google.com/assets/colab-badge.svg\" alt=\"Open In Colab\"/></a>"
      ]
    },
    {
      "cell_type": "code",
      "execution_count": 2,
      "metadata": {
        "id": "UAngpWmXQrNj"
      },
      "outputs": [],
      "source": [
        "import pandas as pd\n",
        "import numpy as np"
      ]
    },
    {
      "cell_type": "code",
      "source": [
        "!pip install finance-datareader -q"
      ],
      "metadata": {
        "id": "jyTnzha4ULZt"
      },
      "execution_count": 4,
      "outputs": []
    },
    {
      "cell_type": "code",
      "source": [
        "import FinanceDataReader as fdr"
      ],
      "metadata": {
        "id": "3a3qTRO_Ub5H"
      },
      "execution_count": 5,
      "outputs": []
    },
    {
      "cell_type": "code",
      "source": [
        "etf_list = fdr.StockListing(\"ETF/KR\")\n",
        "etf_list "
      ],
      "metadata": {
        "colab": {
          "base_uri": "https://localhost:8080/",
          "height": 424
        },
        "id": "UGwLvFXIUmj9",
        "outputId": "4822c445-c900-4ab1-e6d6-d7567760c288"
      },
      "execution_count": 7,
      "outputs": [
        {
          "output_type": "execute_result",
          "data": {
            "text/plain": [
              "     Symbol                   Name\n",
              "0    069500              KODEX 200\n",
              "1    357870    TIGER CD금리투자KIS(합성)\n",
              "2    423160    KODEX KOFR금리액티브(합성)\n",
              "3    371460  TIGER 차이나전기차SOLACTIVE\n",
              "4    252670       KODEX 200선물인버스2X\n",
              "..      ...                    ...\n",
              "673  376250       ARIRANG 탄소효율그린뉴딜\n",
              "674  433870     ARIRANG TDF2050액티브\n",
              "675  315480    KBSTAR 200커뮤니케이션서비스\n",
              "676  287330        KBSTAR 200생활소비재\n",
              "677  287320          KBSTAR 200산업재\n",
              "\n",
              "[678 rows x 2 columns]"
            ],
            "text/html": [
              "\n",
              "  <div id=\"df-dc2b822b-fdbd-48de-aa3c-ccdb5dc5a129\">\n",
              "    <div class=\"colab-df-container\">\n",
              "      <div>\n",
              "<style scoped>\n",
              "    .dataframe tbody tr th:only-of-type {\n",
              "        vertical-align: middle;\n",
              "    }\n",
              "\n",
              "    .dataframe tbody tr th {\n",
              "        vertical-align: top;\n",
              "    }\n",
              "\n",
              "    .dataframe thead th {\n",
              "        text-align: right;\n",
              "    }\n",
              "</style>\n",
              "<table border=\"1\" class=\"dataframe\">\n",
              "  <thead>\n",
              "    <tr style=\"text-align: right;\">\n",
              "      <th></th>\n",
              "      <th>Symbol</th>\n",
              "      <th>Name</th>\n",
              "    </tr>\n",
              "  </thead>\n",
              "  <tbody>\n",
              "    <tr>\n",
              "      <th>0</th>\n",
              "      <td>069500</td>\n",
              "      <td>KODEX 200</td>\n",
              "    </tr>\n",
              "    <tr>\n",
              "      <th>1</th>\n",
              "      <td>357870</td>\n",
              "      <td>TIGER CD금리투자KIS(합성)</td>\n",
              "    </tr>\n",
              "    <tr>\n",
              "      <th>2</th>\n",
              "      <td>423160</td>\n",
              "      <td>KODEX KOFR금리액티브(합성)</td>\n",
              "    </tr>\n",
              "    <tr>\n",
              "      <th>3</th>\n",
              "      <td>371460</td>\n",
              "      <td>TIGER 차이나전기차SOLACTIVE</td>\n",
              "    </tr>\n",
              "    <tr>\n",
              "      <th>4</th>\n",
              "      <td>252670</td>\n",
              "      <td>KODEX 200선물인버스2X</td>\n",
              "    </tr>\n",
              "    <tr>\n",
              "      <th>...</th>\n",
              "      <td>...</td>\n",
              "      <td>...</td>\n",
              "    </tr>\n",
              "    <tr>\n",
              "      <th>673</th>\n",
              "      <td>376250</td>\n",
              "      <td>ARIRANG 탄소효율그린뉴딜</td>\n",
              "    </tr>\n",
              "    <tr>\n",
              "      <th>674</th>\n",
              "      <td>433870</td>\n",
              "      <td>ARIRANG TDF2050액티브</td>\n",
              "    </tr>\n",
              "    <tr>\n",
              "      <th>675</th>\n",
              "      <td>315480</td>\n",
              "      <td>KBSTAR 200커뮤니케이션서비스</td>\n",
              "    </tr>\n",
              "    <tr>\n",
              "      <th>676</th>\n",
              "      <td>287330</td>\n",
              "      <td>KBSTAR 200생활소비재</td>\n",
              "    </tr>\n",
              "    <tr>\n",
              "      <th>677</th>\n",
              "      <td>287320</td>\n",
              "      <td>KBSTAR 200산업재</td>\n",
              "    </tr>\n",
              "  </tbody>\n",
              "</table>\n",
              "<p>678 rows × 2 columns</p>\n",
              "</div>\n",
              "      <button class=\"colab-df-convert\" onclick=\"convertToInteractive('df-dc2b822b-fdbd-48de-aa3c-ccdb5dc5a129')\"\n",
              "              title=\"Convert this dataframe to an interactive table.\"\n",
              "              style=\"display:none;\">\n",
              "        \n",
              "  <svg xmlns=\"http://www.w3.org/2000/svg\" height=\"24px\"viewBox=\"0 0 24 24\"\n",
              "       width=\"24px\">\n",
              "    <path d=\"M0 0h24v24H0V0z\" fill=\"none\"/>\n",
              "    <path d=\"M18.56 5.44l.94 2.06.94-2.06 2.06-.94-2.06-.94-.94-2.06-.94 2.06-2.06.94zm-11 1L8.5 8.5l.94-2.06 2.06-.94-2.06-.94L8.5 2.5l-.94 2.06-2.06.94zm10 10l.94 2.06.94-2.06 2.06-.94-2.06-.94-.94-2.06-.94 2.06-2.06.94z\"/><path d=\"M17.41 7.96l-1.37-1.37c-.4-.4-.92-.59-1.43-.59-.52 0-1.04.2-1.43.59L10.3 9.45l-7.72 7.72c-.78.78-.78 2.05 0 2.83L4 21.41c.39.39.9.59 1.41.59.51 0 1.02-.2 1.41-.59l7.78-7.78 2.81-2.81c.8-.78.8-2.07 0-2.86zM5.41 20L4 18.59l7.72-7.72 1.47 1.35L5.41 20z\"/>\n",
              "  </svg>\n",
              "      </button>\n",
              "      \n",
              "  <style>\n",
              "    .colab-df-container {\n",
              "      display:flex;\n",
              "      flex-wrap:wrap;\n",
              "      gap: 12px;\n",
              "    }\n",
              "\n",
              "    .colab-df-convert {\n",
              "      background-color: #E8F0FE;\n",
              "      border: none;\n",
              "      border-radius: 50%;\n",
              "      cursor: pointer;\n",
              "      display: none;\n",
              "      fill: #1967D2;\n",
              "      height: 32px;\n",
              "      padding: 0 0 0 0;\n",
              "      width: 32px;\n",
              "    }\n",
              "\n",
              "    .colab-df-convert:hover {\n",
              "      background-color: #E2EBFA;\n",
              "      box-shadow: 0px 1px 2px rgba(60, 64, 67, 0.3), 0px 1px 3px 1px rgba(60, 64, 67, 0.15);\n",
              "      fill: #174EA6;\n",
              "    }\n",
              "\n",
              "    [theme=dark] .colab-df-convert {\n",
              "      background-color: #3B4455;\n",
              "      fill: #D2E3FC;\n",
              "    }\n",
              "\n",
              "    [theme=dark] .colab-df-convert:hover {\n",
              "      background-color: #434B5C;\n",
              "      box-shadow: 0px 1px 3px 1px rgba(0, 0, 0, 0.15);\n",
              "      filter: drop-shadow(0px 1px 2px rgba(0, 0, 0, 0.3));\n",
              "      fill: #FFFFFF;\n",
              "    }\n",
              "  </style>\n",
              "\n",
              "      <script>\n",
              "        const buttonEl =\n",
              "          document.querySelector('#df-dc2b822b-fdbd-48de-aa3c-ccdb5dc5a129 button.colab-df-convert');\n",
              "        buttonEl.style.display =\n",
              "          google.colab.kernel.accessAllowed ? 'block' : 'none';\n",
              "\n",
              "        async function convertToInteractive(key) {\n",
              "          const element = document.querySelector('#df-dc2b822b-fdbd-48de-aa3c-ccdb5dc5a129');\n",
              "          const dataTable =\n",
              "            await google.colab.kernel.invokeFunction('convertToInteractive',\n",
              "                                                     [key], {});\n",
              "          if (!dataTable) return;\n",
              "\n",
              "          const docLinkHtml = 'Like what you see? Visit the ' +\n",
              "            '<a target=\"_blank\" href=https://colab.research.google.com/notebooks/data_table.ipynb>data table notebook</a>'\n",
              "            + ' to learn more about interactive tables.';\n",
              "          element.innerHTML = '';\n",
              "          dataTable['output_type'] = 'display_data';\n",
              "          await google.colab.output.renderOutput(dataTable, element);\n",
              "          const docLink = document.createElement('div');\n",
              "          docLink.innerHTML = docLinkHtml;\n",
              "          element.appendChild(docLink);\n",
              "        }\n",
              "      </script>\n",
              "    </div>\n",
              "  </div>\n",
              "  "
            ]
          },
          "metadata": {},
          "execution_count": 7
        }
      ]
    },
    {
      "cell_type": "code",
      "source": [
        "s = etf_list.Name\n",
        "s"
      ],
      "metadata": {
        "colab": {
          "base_uri": "https://localhost:8080/"
        },
        "id": "qjMlFzxBU7p1",
        "outputId": "8e412272-c1f3-4d48-8468-bdbe61d028e0"
      },
      "execution_count": 9,
      "outputs": [
        {
          "output_type": "execute_result",
          "data": {
            "text/plain": [
              "0                  KODEX 200\n",
              "1        TIGER CD금리투자KIS(합성)\n",
              "2        KODEX KOFR금리액티브(합성)\n",
              "3      TIGER 차이나전기차SOLACTIVE\n",
              "4           KODEX 200선물인버스2X\n",
              "               ...          \n",
              "673         ARIRANG 탄소효율그린뉴딜\n",
              "674       ARIRANG TDF2050액티브\n",
              "675      KBSTAR 200커뮤니케이션서비스\n",
              "676          KBSTAR 200생활소비재\n",
              "677            KBSTAR 200산업재\n",
              "Name: Name, Length: 678, dtype: object"
            ]
          },
          "metadata": {},
          "execution_count": 9
        }
      ]
    },
    {
      "cell_type": "code",
      "source": [
        "data = s.values\n",
        "data # 시리즈.values -> 배열\n",
        "# series ->"
      ],
      "metadata": {
        "colab": {
          "base_uri": "https://localhost:8080/"
        },
        "id": "qrPa3K2aVZs2",
        "outputId": "76d5a46b-fe72-4ff2-c790-f70a292ac7f5"
      },
      "execution_count": 10,
      "outputs": [
        {
          "output_type": "execute_result",
          "data": {
            "text/plain": [
              "array(['KODEX 200', 'TIGER CD금리투자KIS(합성)', 'KODEX KOFR금리액티브(합성)',\n",
              "       'TIGER 차이나전기차SOLACTIVE', 'KODEX 200선물인버스2X',\n",
              "       'KODEX 종합채권(AA-이상)액티브', 'TIGER 미국나스닥100', 'TIGER MSCI Korea TR',\n",
              "       'TIGER 200', 'KODEX 200TR', 'KODEX 레버리지', 'TIGER 미국S&P500',\n",
              "       'TIGER 미국필라델피아반도체나스닥', 'KODEX 23-12 은행채(AA+이상)액티브',\n",
              "       'TIGER 미국테크TOP10 INDXX', 'KODEX 단기채권PLUS', 'KODEX 삼성그룹',\n",
              "       'KBSTAR 200', 'TIGER 2차전지테마', 'TIGER 단기통안채',\n",
              "       'KBSTAR KIS종합채권(A-이상)액티브', 'TIGER TOP10', 'KODEX 2차전지산업',\n",
              "       'KODEX 인버스', 'KODEX Top5PlusTR', 'KODEX 코스닥150레버리지', 'KODEX 단기채권',\n",
              "       'TIGER 200 IT', 'KODEX 자동차', 'KODEX 코스닥150선물인버스', 'ARIRANG 200',\n",
              "       'KODEX MSCI Korea TR', 'TIGER KOFR금리액티브(합성)',\n",
              "       'KBSTAR 23-11 회사채(AA-이상)액티브', 'HANARO 200',\n",
              "       'ACE 종합채권(AA-이상)KIS액티브', 'ACE 미국S&P500',\n",
              "       'TIGER 글로벌리튬&2차전지SOLACTIVE(합성)', 'KBSTAR 단기통안채',\n",
              "       'KODEX 선진국MSCI World', 'TIGER 미국달러단기채권액티브',\n",
              "       'ARIRANG 종합채권(AA-이상)액티브', 'KODEX 코스닥150', 'KOSEF 200TR',\n",
              "       'TIGER 24-10 회사채(A+이상)액티브', 'KODEX 미국S&P500TR', 'TIGER 단기채권액티브',\n",
              "       'TIGER KRX2차전지K-뉴딜', 'ACE 미국나스닥100', 'ACE 200',\n",
              "       'TIGER 미국S&P500선물(H)', 'KODEX 미국나스닥100TR', 'KODEX 미국FANG플러스(H)',\n",
              "       'KODEX 단기변동금리부채권액티브', 'KOSEF 국고채10년', 'TIGER 차이나항셍테크',\n",
              "       'TIGER 일본니케이225', 'TIGER 글로벌자율주행&전기차SOLACTIVE', 'KOSEF 200',\n",
              "       'KODEX 코스피', 'KODEX 은행', 'KBSTAR Fn수소경제테마',\n",
              "       'KBSTAR KIS단기종합채권(AA-이상)액티브', 'TIGER 차이나CSI300',\n",
              "       'SOL 종합채권(AA-이상)액티브', 'KBSTAR 코스피', 'KBSTAR 미국나스닥100',\n",
              "       'TIGER 리츠부동산인프라', 'TIGER 코스피', 'KODEX 국고채3년', 'KODEX K-메타버스액티브',\n",
              "       'KODEX 반도체', 'KBSTAR ESG사회책임투자', 'ARIRANG 코스피TR', 'SOL 200TR',\n",
              "       'KBSTAR KIS국고채30년Enhanced', 'TIGER KRX BBIG K-뉴딜', 'ACE 단기통안채',\n",
              "       'KBSTAR 미국S&P500', 'KODEX 골드선물(H)', 'KBSTAR 200TR',\n",
              "       'TIGER 차이나과창판STAR50(합성)', 'TIGER Fn메타버스', 'TIGER 중장기국채',\n",
              "       'ACE 베트남VN30(합성)', 'ARIRANG 고배당주', 'ARIRANG 국고채30년액티브',\n",
              "       'KOSEF 단기자금', 'HANARO MSCI Korea TR', 'KODEX 미국나스닥100레버리지(합성 H)',\n",
              "       'KODEX 장기종합채권(AA-이상)액티브KAP', 'ACE 중국본토CSI300', 'TIGER 여행레저',\n",
              "       'KBSTAR IT플러스', 'KODEX 미국달러선물', 'KODEX TRF3070',\n",
              "       'TIGER 글로벌4차산업혁신기술(합성 H)', 'KBSTAR iSelect메타버스', 'HANARO 200TR',\n",
              "       'KODEX 23-12 국고채액티브', 'KODEX 미국나스닥100선물(H)', 'TIGER 투자등급회사채액티브',\n",
              "       'TIGER 글로벌메타버스액티브', 'ACE 23-12 회사채(AA-이상)액티브',\n",
              "       'KODEX 미국채울트라30년선물(H)', 'TIGER 200선물인버스2X', 'KBSTAR 국고채3년선물인버스',\n",
              "       'KODEX ESG종합채권(A-이상)액티브', 'KODEX 차이나항셍테크', 'KODEX 배당가치',\n",
              "       'TIGER 미국MSCI리츠(합성 H)', 'TIGER 23-12 국공채액티브', 'TIGER 헬스케어',\n",
              "       'TIGER 반도체', 'TIGER 중국소비테마', 'TIGER 현대차그룹+펀더멘털', 'KODEX 차이나CSI300',\n",
              "       'TIGER 종합채권(AA-이상)액티브', 'KODEX 삼성그룹밸류', 'KBSTAR 코스닥150',\n",
              "       'TIGER 코스닥150', 'TIGER 미디어컨텐츠', 'KTOP K200액티브', 'TIGER 미국채10년선물',\n",
              "       'KBSTAR 25-11 회사채(AA-이상)액티브', '히어로즈 단기채권ESG액티브',\n",
              "       'KODEX 미국S&P500선물(H)', 'KBSTAR 국채선물5년추종인버스', 'ACE 국고채10년',\n",
              "       'KBSTAR 코스닥150선물레버리지', 'ACE 24-12 회사채(AA-이상)액티브', 'KBSTAR Fn5G테크',\n",
              "       'TIGER 200 건설', 'KODEX 미국메타버스나스닥액티브', 'KBSTAR 미국단기투자등급회사채액티브',\n",
              "       'TIGER 미국다우존스30', 'KBSTAR 단기국공채액티브', 'KBSTAR 2차전지액티브',\n",
              "       'KODEX 국고채30년액티브', 'KODEX 은선물(H)', 'ACE G2전기차&자율주행액티브',\n",
              "       'SOL 미국배당다우존스', 'TIGER KRX바이오K-뉴딜', 'HANARO 200 TOP10',\n",
              "       'TIGER 200선물레버리지', 'KOSEF 인도Nifty50(합성)', 'ARIRANG 신흥국MSCI(합성 H)',\n",
              "       'KODEX WTI원유선물(H)', 'KODEX 국채선물10년', 'KBSTAR 고배당', 'TIGER 소프트웨어',\n",
              "       'KODEX 미국반도체MV', 'KODEX 미국종합채권SRI액티브(H)', 'ACE 미국WideMoat가치주',\n",
              "       'TIGER Fn반도체TOP10', 'KBSTAR 중국본토대형주CSI100', 'TIGER 경기방어',\n",
              "       'ACE 미국고배당S&P', 'KODEX 한국대만IT프리미어', 'KODEX 차이나2차전지MSCI(합성)',\n",
              "       'TIGER 차이나CSI300레버리지(합성)', '파워 200', 'HANARO e커머스',\n",
              "       'KODEX 차이나과창판STAR50(합성)', 'KODEX 차이나A50', 'TIGER 국채3년',\n",
              "       'KODEX K-신재생에너지액티브', 'TIGER 200 중공업', 'TIGER 화장품',\n",
              "       'KBSTAR 중기우량회사채', 'TIGER 차이나HSCEI', 'KBSTAR Fn컨택트대표',\n",
              "       'TIGER 미국S&P500레버리지(합성 H)', 'TIMEFOLIO Kstock액티브',\n",
              "       'ARIRANG 미국S&P500(H)', 'TIGER 차이나바이오테크SOLACTIVE', 'KBSTAR 금융채액티브',\n",
              "       'TIGER 미국필라델피아반도체레버리지(합성)', 'HANARO 글로벌럭셔리S&P(합성)',\n",
              "       'KODEX 차이나H레버리지(H)', 'TIGER 인버스', 'TIGER KEDI혁신기업ESG30',\n",
              "       'ACE KRX금현물', 'KODEX 건설', 'KODEX 코스피TR', 'TIGER 유로스탁스50(합성 H)',\n",
              "       'HANARO 32-10 국고채액티브', 'KODEX WTI원유선물인버스(H)',\n",
              "       'TIGER 미국S&P500TR(H)', 'KODEX 미국달러선물인버스2X', 'TIGER 코스닥150 레버리지',\n",
              "       'KBSTAR 대형고배당10TR', 'KOSEF 통안채1년', 'TIGER 미국S&P500배당귀족',\n",
              "       'KODEX Fn성장', 'ARIRANG ESG가치주액티브', 'KODEX 200미국채혼합', 'KODEX 차이나H',\n",
              "       'KODEX 아시아달러채권SRI플러스액티브', 'TIGER 글로벌BBIG액티브', 'ACE 단기채권알파액티브',\n",
              "       'HANARO Fn K-뉴딜디지털플러스', 'TIGER 글로벌클라우드컴퓨팅INDXX',\n",
              "       'KODEX 미국S&P500배당귀족커버드콜(합성 H)', 'KODEX 미국달러선물레버리지', 'KODEX 철강',\n",
              "       '에셋플러스 글로벌플랫폼액티브', 'SOL KIS단기통안채', 'SOL 미국S&P500',\n",
              "       'TIGER 퓨처모빌리티액티브', 'TIGER KRX인터넷K-뉴딜', 'TIGER 국고채30년스트립액티브',\n",
              "       'ACE 인도네시아MSCI(합성)', 'TIGER 테슬라채권혼합Fn', 'KODEX 바이오',\n",
              "       'KODEX 유럽탄소배출권선물ICE(H)', 'TIGER 레버리지', 'KODEX 증권',\n",
              "       'TIGER 미국나스닥바이오', 'KBSTAR 국채선물10년', 'KODEX 차이나심천ChiNext(합성)',\n",
              "       'ACE 삼성그룹섹터가중', 'TIGER 차이나클린에너지SOLACTIVE', 'KODEX 헬스케어',\n",
              "       'KOSEF 국고채3년', 'SOL 200 Top10', 'KBSTAR 게임테마', 'KODEX 미국배당프리미엄액티브',\n",
              "       'KOSEF 미국달러선물', 'TIGER 미국나스닥100커버드콜(합성)', 'KODEX IT',\n",
              "       'KODEX K-로봇액티브', 'TIGER 미국나스닥100TR(H)', 'TIGER 리츠부동산인프라채권TR KIS',\n",
              "       'KODEX 미국달러선물인버스', 'HANARO Fn전기&수소차', 'KBSTAR 200선물인버스2X',\n",
              "       'SOL 국고채10년', 'KOSEF 릭소글로벌퓨처모빌리티MSCI', 'KODEX 200ESG',\n",
              "       'ACE 글로벌반도체TOP4 Plus SOLACTIVE', 'TIGER 미국달러선물인버스2X',\n",
              "       'SOL 미국S&P500ESG', 'TIGER 원유선물Enhanced(H)', '대신343 K200',\n",
              "       'KBSTAR 중장기국공채액티브', 'TIGER 골드선물(H)', 'KODEX KRX기후변화솔루션',\n",
              "       'HANARO 200선물레버리지', 'KODEX K-미래차액티브', 'TIGER 삼성그룹펀더멘털',\n",
              "       'TIGER S&P글로벌헬스케어(합성)', 'TIGER 탄소효율그린뉴딜', 'ARIRANG 미국장기우량회사채',\n",
              "       'KODEX 200IT TR', 'KBSTAR 내수주플러스', 'KODEX KRX300',\n",
              "       'KODEX 미디어&엔터테인먼트', 'TIGER 200IT레버리지', 'TIGER 미국나스닥100레버리지(합성)',\n",
              "       'ACE 200TR', 'ACE 미국친환경그린테마INDXX', 'ACE 국고채3년',\n",
              "       'KODEX 아시아반도체공급망exChina액티브', 'TIGER KRX기후변화솔루션',\n",
              "       'SOL 글로벌탄소배출권선물IHS(합성)', 'TIGER 200 헬스케어', 'KODEX 고배당',\n",
              "       'TIGER AI코리아그로스액티브', 'TIGER Fn신재생에너지', 'ARIRANG 미국나스닥테크',\n",
              "       'KODEX 미국S&P500에너지(합성)', 'KBSTAR 국채선물10년인버스', 'TIGER 200TR',\n",
              "       'KODEX 탄소효율그린뉴딜', 'KODEX S&P글로벌인프라(합성)', 'TIGER 차이나CSI300인버스(합성)',\n",
              "       'ARIRANG 미국단기우량회사채', 'TIGER 구리실물', 'TIGER MKF배당귀족', 'KBSTAR 국고채3년',\n",
              "       'TIGER 인도니프티50레버리지(합성)', 'KODEX 미국채10년선물', 'ACE ESG액티브',\n",
              "       'HANARO 단기채권액티브', 'TIGER 농산물선물Enhanced(H)', 'KODEX 에너지화학',\n",
              "       'KODEX 미국러셀2000(H)', 'TIGER 코스피고배당', 'TIGER 글로벌멀티에셋TIF액티브',\n",
              "       'KBSTAR 비메모리반도체액티브', 'ARIRANG K방산Fn', 'KODEX 코스피대형주',\n",
              "       'WOORI 대한민국국고채액티브', 'KODEX TRF5050', 'ARIRANG 코스피50',\n",
              "       'TIGER 원유선물인버스(H)', 'KODEX TRF7030', 'KODEX 삼성전자채권혼합Wise',\n",
              "       'TIGER 차이나반도체FACTSET', 'KODEX 배당성장채권혼합', 'TIGER 일본엔선물',\n",
              "       'KBSTAR 글로벌4차산업IT(합성 H)', 'HANARO Fn K-POP&미디어', 'HANARO 코스닥150',\n",
              "       'TIGER KRX게임K-뉴딜', 'KBSTAR 미국S&P원유생산기업(합성 H)', 'ACE 아시아TOP50S&P',\n",
              "       'KODEX 글로벌4차산업로보틱스(합성)', 'TIGER 미국나스닥100TR채권혼합Fn', 'TIGER 우량가치',\n",
              "       'ACE 러시아MSCI(합성)', 'KBSTAR 200선물인버스', 'TIGER 코스닥150선물인버스',\n",
              "       'KODEX K-친환경선박액티브', 'TIGER 차이나항셍테크레버리지(합성 H)', 'KODEX 코스피100',\n",
              "       'KBSTAR 200선물레버리지', 'KODEX 보험', 'KODEX 배당성장', '에셋플러스 코리아플랫폼액티브',\n",
              "       'TIGER KRX2차전지K-뉴딜레버리지', 'TIGER 유로스탁스배당30', 'KOSEF 미국달러선물레버리지',\n",
              "       'ACE 코스닥150', 'KBSTAR 배터리 리사이클링iSelect', 'KODEX 미국나스닥100(H)',\n",
              "       'ACE 친환경자동차밸류체인액티브', 'KODEX 게임산업', 'KODEX 200롱코스닥150숏선물',\n",
              "       'ARIRANG 미국다우존스고배당주(합성 H)', 'ARIRANG ESG성장주액티브', '마이티 다이나믹퀀트액티브',\n",
              "       'KODEX 미국S&P500(H)', 'TIGER 200 에너지화학', 'TIGER MSCI KOREA ESG리더스',\n",
              "       'FOCUS KRX300', 'KODEX 기계장비', 'HANARO Fn K-게임',\n",
              "       'KODEX 다우존스미국리츠(H)', 'KBSTAR 차이나HSCEI(H)', 'TIGER 배당성장',\n",
              "       'TIGER 단기선진하이일드(합성 H)', 'TIMEFOLIO 이노베이션액티브', 'KODEX 필수소비재',\n",
              "       'KBSTAR 글로벌클린에너지S&P', 'KOSEF 미국달러선물인버스2X', 'KODEX 200가치저변동',\n",
              "       'KODEX Fn시스템반도체', 'SOL 국고채3년', 'TIGER 글로벌자원생산기업(합성 H)',\n",
              "       'KBSTAR 채권혼합', 'KODEX 코스닥150롱코스피200숏선물', 'TIGER 미국달러선물레버리지',\n",
              "       'KBSTAR V&S셀렉트밸류채권혼합', 'FOCUS ESG리더스', 'KBSTAR 글로벌메타버스Moorgate',\n",
              "       'ACE 미국다우존스리츠(합성 H)', 'KODEX 3대농산물선물(H)', 'TIGER 200 금융',\n",
              "       'TIGER K게임', 'HANARO 글로벌탄소배출권선물ICE(합성)', 'KODEX 미국나스닥100선물인버스(H)',\n",
              "       'KODEX TDF2050액티브', 'KODEX 미국S&P500산업재(합성)', 'KODEX 최소변동성',\n",
              "       'ARIRANG 선진국MSCI(합성 H)', 'KODEX 운송', 'ACE 일본Nikkei225(H)',\n",
              "       'TIMEFOLIO 탄소중립액티브', 'KODEX 구리선물(H)', 'KBSTAR 헬스케어채권혼합',\n",
              "       'TIGER 200 철강소재', 'ARIRANG 우주항공&UAM iSelect',\n",
              "       'KODEX 미국ETF산업Top10 Indxx', 'BNK 주주가치액티브', 'ARIRANG 200선물인버스2X',\n",
              "       'KBSTAR 중국MSCI China(H)', 'SOL 코스닥150', 'KOSEF 고배당',\n",
              "       'TIMEFOLIO Korea플러스배당액티브', 'VITA MZ소비액티브', 'KOSEF 코스닥150',\n",
              "       'ARIRANG 고배당주채권혼합', 'KODEX 200exTOP', 'TIGER LG그룹+펀더멘털',\n",
              "       'TIGER 200동일가중', 'KOSEF 국고채10년레버리지', 'ACE 글로벌메타버스테크액티브',\n",
              "       'KODEX 미국클린에너지나스닥', 'KODEX MSCI KOREA ESG유니버설', 'KODEX KRX300레버리지',\n",
              "       'ACE 일본TOPIX레버리지(H)', 'KOSEF 미국S&P500', 'ACE 골드선물 레버리지(합성 H)',\n",
              "       'KBSTAR 국채선물5년추종', 'ACE 멕시코MSCI(합성)', 'TIGER 일본TOPIX(합성 H)',\n",
              "       'KODEX Fn K-뉴딜디지털플러스', '에셋플러스 코리아대장장이액티브', 'FOCUS AI코리아액티브',\n",
              "       '파워 코스피100', 'SOL 유럽탄소배출권선물S&P(H)', 'ARIRANG S&P글로벌인프라',\n",
              "       'KBSTAR 미국고정배당우선증권ICE TR', 'TIGER 코스닥150바이오테크', 'SOL KRX300',\n",
              "       'KOSEF 물가채KIS', 'TIGER KRX300', 'KODEX KTOP30', 'ACE 엔비디아채권혼합블룸버그',\n",
              "       'KODEX 200동일가중', 'KODEX 혁신기술테마액티브', 'SOL 24-06 국고채액티브',\n",
              "       'TIGER 한중전기차(합성)', 'KTOP 코스피50', 'KODEX 일본TOPIX100',\n",
              "       'KOSEF 미국달러선물인버스', 'KBSTAR KRX300', 'ACE 원자력테마딥서치',\n",
              "       'SOL 차이나태양광CSI(합성)', '에셋플러스 글로벌대장장이액티브', 'KODEX 미국스마트모빌리티S&P',\n",
              "       'TIGER 글로벌사이버보안INDXX', 'KOSEF 블루칩', 'SOL 차이나육성산업액티브(합성)',\n",
              "       'KODEX TDF2030액티브', 'KOSEF 200선물인버스2X', '마이다스 KoreaStock액티브',\n",
              "       'HANARO 탄소효율그린뉴딜', 'ARIRANG 200선물레버리지', 'KODEX 200 중소형',\n",
              "       'ACE 글로벌브랜드TOP10블룸버그', 'TIGER 유로스탁스레버리지(합성 H)', 'KODEX MSCI Korea',\n",
              "       'ACE 미국달러단기채권액티브', 'KOSEF KRX100', 'TIGER 로우볼', 'KODEX Fn웹툰&드라마',\n",
              "       'ARIRANG 우량회사채50 1년', 'KODEX 미국S&P바이오(합성)', 'ARIRANG KRX300',\n",
              "       'ARIRANG 미국S&P500', 'TIGER 미국S&P500선물인버스(H)', 'KODEX 콩선물(H)',\n",
              "       'WOORI AI ESG액티브', 'ACE 미국IT인터넷S&P(합성 H)', 'TIGER 미국나스닥넥스트100',\n",
              "       'TIGER 한중반도체(합성)', 'KODEX 한중전기차(합성)', 'ACE 중장기국공채액티브',\n",
              "       'TREX 펀더멘탈 200', 'TIGER 은행', 'KOSEF Fn중소형',\n",
              "       'KBSTAR 미국빅데이터Top3채권혼합iSelect', 'KODEX Fn Top10동일가중', 'ACE 싱가포르리츠',\n",
              "       'TIGER S&P글로벌인프라(합성)', 'FOCUS 혁신기업액티브', '에셋플러스 글로벌영에이지액티브',\n",
              "       'TIGER 우선주', 'KODEX Fn멀티팩터', 'KOSEF 미국S&P500(H)', 'KBSTAR KQ고배당',\n",
              "       'TREX 200', 'SOL 미국TOP5채권혼합40 Solactive', 'ARIRANG 국채선물10년',\n",
              "       'KBSTAR KRX300레버리지', 'HANARO 글로벌워터MSCI(합성)',\n",
              "       'KBSTAR 삼성그룹Top3채권혼합블룸버그', 'HANARO KRX300', 'HANARO KAP초장기국고채',\n",
              "       'ACE 삼성그룹동일가중', 'KBSTAR 글로벌수소경제Indxx', 'SOL 한국형글로벌반도체액티브',\n",
              "       'TIGER 이머징마켓MSCI레버리지(합성 H)', 'KOSEF 차이나A50커넥트레버리지MSCI(합성H)',\n",
              "       'ACE 미국S&P500채권혼합액티브', 'ACE 미국나스닥100채권혼합액티브', 'TIGER 200커버드콜ATM',\n",
              "       'HANARO Fn K-반도체', 'HANARO Fn K-메타버스MZ', 'KOSEF 미국방어배당성장나스닥',\n",
              "       'KOSEF 코스피100', 'KOSEF 독일DAX', '히어로즈 TDF2050액티브',\n",
              "       'ACE 중국본토CSI300레버리지(합성)', 'TIGER 금은선물(H)', 'VITA 밸류알파액티브',\n",
              "       'ARIRANG Apple채권혼합Fn', 'KODEX 밸류Plus', 'ACE 중국과창판STAR50',\n",
              "       'ACE 레버리지', 'ACE 코스피', 'ACE 밸류대형', 'KOSEF SK그룹대표주', 'KODEX MSCI밸류',\n",
              "       'ACE 스마트밸류', 'KODEX TDF2040액티브', 'ACE 미국30년국채선물레버리지(합성 H)',\n",
              "       'ARIRANG KS로우사이즈가중TR', 'TIGER KTOP30', 'KBSTAR 주식혼합',\n",
              "       '마이다스 200커버드콜5%OTM', 'KODEX 한중반도체(합성)', '마이다스 KoreaStock중소형액티브',\n",
              "       'KBSTAR 국채선물3년', 'UNICORN R&D 액티브', 'TIGER 의료기기',\n",
              "       'TIMEFOLIO 미국나스닥100액티브', '히어로즈 TDF2040액티브', 'ARIRANG KS밸류가중TR',\n",
              "       'SOL 한국형글로벌전기차&2차전지액티브', 'ACE 스마트퀄리티', 'KODEX TSE일본리츠(H)',\n",
              "       'TIGER MSCI KOREA ESG유니버설', '히어로즈 TDF2030액티브', 'TIMEFOLIO K컬처액티브',\n",
              "       'WOORI 200', 'KBSTAR KRX300미국달러선물혼합', 'TIMEFOLIO 미국S&P500액티브',\n",
              "       'TIGER 경기방어채권혼합', 'HANARO Fn K-푸드', 'KODEX 모멘텀Plus',\n",
              "       'KOSEF 차이나A50커넥트MSCI', 'KODEX 미국채울트라30년선물인버스(H)', 'ACE 스마트로우볼',\n",
              "       'KOSEF 차이나A50커넥트인버스MSCI(합성 H)', 'KBSTAR 글로벌농업경제MV',\n",
              "       'KOSEF 200선물레버리지', 'HANARO 미국S&P500', 'ACE 베트남VN30선물블룸버그레버리지(H)',\n",
              "       'KODEX 경기소비재', 'KBSTAR 유로스탁스50(H)', 'ACE 스마트모멘텀', 'ACE 코스닥(합성)',\n",
              "       '파워 고배당저변동성', 'ARIRANG 고배당저변동50', '마이티 코스피100',\n",
              "       'ACE 미국스팩&IPO INDXX', 'HANARO 글로벌신재생에너지MSCI(합성)',\n",
              "       'KBSTAR V&S셀렉트밸류', 'HANARO Fn5G산업', 'TIGER 모멘텀',\n",
              "       'KBSTAR 미국장기국채선물(H)', 'KBSTAR 글로벌데이터센터리츠나스닥(합성)',\n",
              "       'HANARO Fn친환경에너지', 'KBSTAR 미국장기국채선물레버리지(합성 H)',\n",
              "       'TIGER 200커뮤니케이션서비스', 'ACE 일본TOPIX인버스(합성 H)', 'KODEX 국채선물3년인버스',\n",
              "       'TIGER 코스피중형주', 'KBSTAR 수출주', 'HANARO 농업융복합산업', 'KBSTAR 5대그룹주',\n",
              "       'ARIRANG 코스피', 'KBSTAR KRX기후변화솔루션', 'KBSTAR 차이나항셍테크',\n",
              "       'ARIRANG 심천차이넥스트(합성)', 'ARIRANG KS모멘텀가중TR', 'KODEX MSCI모멘텀',\n",
              "       'ACE Fn성장소비주도주', 'TIGER 코스닥150IT', 'HANARO Fn조선해운',\n",
              "       'ARIRANG 신흥국MSCI인버스(합성 H)', 'HANARO 고배당', '히어로즈 글로벌리츠이지스액티브',\n",
              "       'TIGER 차이나항셍25', 'ACE 스마트하이베타', 'ARIRANG KS로우볼가중TR',\n",
              "       'KOSEF 릭소글로벌디지털경제MSCI', 'ARIRANG K-유니콘투자기업액티브',\n",
              "       'ARIRANG 글로벌MSCI(합성 H)', 'SOL KEDI메가테크액티브', 'HANARO KRX기후변화솔루션',\n",
              "       'TIGER 200 산업재', 'KODEX 국채선물10년인버스', 'TIGER 200커버드콜5%OTM',\n",
              "       'TIGER 200 경기소비재', 'KBSTAR 200IT', 'KODEX 차이나메타버스액티브',\n",
              "       'ACE 싱가포르리츠채권혼합모닝스타', 'ARIRANG 단기채권액티브', 'MASTER 테크미디어텔레콤액티브',\n",
              "       'HANARO 원자력iSelect', 'KBSTAR 중소형고배당', 'ACE 국채선물10년인버스',\n",
              "       'KODEX K-이노베이션액티브', 'KOSEF 코스닥150선물레버리지', 'ACE 필리핀MSCI(합성)',\n",
              "       'HK S&P코리아로우볼', 'KBSTAR 200에너지화학', 'ACE 차세대가치주액티브',\n",
              "       'ACE 국채선물3년인버스', 'TIGER 라틴35', 'KBSTAR 200고배당커버드콜ATM',\n",
              "       'ARIRANG 스마트베타Quality채권혼합', 'SOL KRX기후변화솔루션', 'KBSTAR 헬스케어',\n",
              "       'KBSTAR 우량업종', 'HK 베스트일레븐액티브', 'SOL 한국형글로벌플랫폼&메타버스액티브',\n",
              "       'ARIRANG KS퀄리티가중TR', 'WOORI 미국S&P우주항공&디펜스', 'HANARO 200선물인버스',\n",
              "       'TIGER 200에너지화학레버리지', 'KOSEF 코스닥150선물인버스', 'KBSTAR TDF2030액티브',\n",
              "       'HANARO 글로벌백신치료제MSCI', 'KBSTAR TDF2040액티브', 'KBSTAR TDF2050액티브',\n",
              "       'KOSEF 미국ETF산업STOXX', 'ACE Fn5G플러스', 'TIGER 증권', 'WOORI 미국S&P500',\n",
              "       '히어로즈 리츠이지스액티브', 'TIGER 지주회사', 'ARIRANG 200동일가중', 'HANARO Fn골프테마',\n",
              "       'KODEX MSCI퀄리티', 'KBSTAR Fn창업투자회사', 'KBSTAR 모멘텀로우볼',\n",
              "       'ARIRANG 코스닥150', 'KOSEF 200선물인버스', 'ARIRANG K리츠Fn',\n",
              "       'SOL 차이나강소기업CSI500(합성 H)', 'KODEX 멀티에셋하이인컴(H)',\n",
              "       'KODEX MSCI EM선물(H)', 'KBSTAR 모멘텀밸류', 'MASTER 스마트커머스액티브',\n",
              "       'KBSTAR Fn K-뉴딜디지털플러스', 'ARIRANG 코스닥150선물인버스', 'ACE 차이나항셍테크',\n",
              "       'KBSTAR 200철강소재', 'HANARO 미국메타버스iSelect', 'KBSTAR 200중공업',\n",
              "       'ARIRANG 중형주저변동50', 'ARIRANG 글로벌D램반도체iSelect', 'TIGER 200 생활소비재',\n",
              "       'TIGER 코스피대형주', 'KBSTAR 코스닥150선물인버스', 'KBSTAR 팔라듐선물(H)',\n",
              "       'HK 하이볼액티브', '마이티 200커버드콜ATM레버리지', 'KBSTAR Fn플랫폼테마',\n",
              "       'ARIRANG 글로벌수소&차세대연료전지MV', 'KODEX 퀄리티Plus', 'TIGER 금속선물(H)',\n",
              "       'ARIRANG 글로벌희토류전략자원기업MV', 'ARIRANG 코스피중형주', 'ACE 인버스',\n",
              "       'ARIRANG 국채선물3년', 'TIGER 방송통신', 'HANARO 코스닥150선물레버리지',\n",
              "       'KODEX 골드선물인버스(H)', 'KBSTAR 200금융', 'ARIRANG 주도업종',\n",
              "       'KBSTAR 200경기소비재', 'KBSTAR 미국장기국채선물인버스(H)',\n",
              "       'TIGER KRX BBIG K-뉴딜레버리지', 'KBSTAR 글로벌원자력iSelect',\n",
              "       'KBSTAR 미국장기국채선물인버스2X(합성 H)', 'ARIRANG 글로벌인공지능산업MV',\n",
              "       'KBSTAR 팔라듐선물인버스(H)', 'KBSTAR 차이나H선물인버스(H)',\n",
              "       'KBSTAR 국채30년레버리지KAP(합성)', 'KBSTAR 200건설', 'ARIRANG ESG우수기업',\n",
              "       'ARIRANG 미국대체투자Top10MV', 'ARIRANG TDF2060액티브',\n",
              "       'ARIRANG TDF2040액티브', 'ARIRANG KRX300헬스케어', 'ARIRANG TDF2030액티브',\n",
              "       'ARIRANG 탄소효율그린뉴딜', 'ARIRANG TDF2050액티브', 'KBSTAR 200커뮤니케이션서비스',\n",
              "       'KBSTAR 200생활소비재', 'KBSTAR 200산업재'], dtype=object)"
            ]
          },
          "metadata": {},
          "execution_count": 10
        }
      ]
    },
    {
      "cell_type": "code",
      "source": [
        "index = etf_list['Symbol'].values\n",
        "index"
      ],
      "metadata": {
        "colab": {
          "base_uri": "https://localhost:8080/"
        },
        "id": "1nzLd0Q4Vhtm",
        "outputId": "3fc30f48-a72d-46b6-cc66-1a8c62fe37da"
      },
      "execution_count": 11,
      "outputs": [
        {
          "output_type": "execute_result",
          "data": {
            "text/plain": [
              "array(['069500', '357870', '423160', '371460', '252670', '273130',\n",
              "       '133690', '310970', '102110', '278530', '122630', '360750',\n",
              "       '381180', '448320', '381170', '214980', '102780', '148020',\n",
              "       '305540', '157450', '385540', '292150', '305720', '114800',\n",
              "       '315930', '233740', '153130', '139260', '091180', '251340',\n",
              "       '152100', '278540', '449170', '448590', '293180', '356540',\n",
              "       '360200', '394670', '196230', '251350', '329750', '451000',\n",
              "       '229200', '294400', '447820', '379800', '272580', '364980',\n",
              "       '367380', '105190', '143850', '379810', '314250', '273140',\n",
              "       '148070', '371160', '241180', '394660', '069660', '226490',\n",
              "       '091170', '367770', '385550', '192090', '436140', '302450',\n",
              "       '368590', '329200', '277630', '114260', '401470', '091160',\n",
              "       '290130', '328370', '295040', '385560', '364960', '190620',\n",
              "       '379780', '132030', '361580', '414780', '400970', '302190',\n",
              "       '245710', '161510', '451600', '130730', '332940', '409820',\n",
              "       '363570', '168580', '228800', '326240', '261240', '329650',\n",
              "       '275980', '401170', '332930', '448310', '304940', '438330',\n",
              "       '412770', '448870', '304660', '252710', '282000', '439860',\n",
              "       '372330', '325020', '182480', '447780', '143860', '091230',\n",
              "       '150460', '138540', '283580', '451540', '213610', '270810',\n",
              "       '232080', '228810', '451060', '305080', '448600', '419890',\n",
              "       '219480', '397410', '365780', '278240', '448880', '367760',\n",
              "       '139220', '411420', '437350', '245340', '272560', '422420',\n",
              "       '439870', '144600', '414270', '446720', '364970', '407310',\n",
              "       '267770', '200250', '195980', '261220', '152380', '266160',\n",
              "       '157490', '390390', '437080', '309230', '396500', '174360',\n",
              "       '139280', '402970', '298770', '419430', '204480', '152870',\n",
              "       '322400', '415340', '169950', '114820', '385510', '139230',\n",
              "       '228790', '136340', '245360', '388280', '225040', '385720',\n",
              "       '269540', '371470', '336160', '423920', '354350', '204450',\n",
              "       '123310', '417630', '411060', '117700', '359210', '195930',\n",
              "       '448490', '271050', '448290', '261260', '233160', '315960',\n",
              "       '122260', '429000', '325010', '395750', '284430', '099140',\n",
              "       '437070', '387270', '440640', '368190', '371450', '276970',\n",
              "       '261250', '117680', '407830', '363510', '433330', '387280',\n",
              "       '365000', '451530', '256440', '447770', '244580', '400570',\n",
              "       '123320', '102970', '203780', '295000', '256750', '108450',\n",
              "       '396510', '266420', '114470', '411540', '300640', '441640',\n",
              "       '138230', '441680', '266370', '445290', '448300', '341850',\n",
              "       '261270', '381560', '252420', '438570', '394350', '337160',\n",
              "       '446770', '261120', '399110', '130680', '434960', '272570',\n",
              "       '319640', '404260', '304780', '385520', '138520', '248270',\n",
              "       '376410', '332620', '363580', '326230', '292190', '266360',\n",
              "       '243880', '418660', '332500', '391600', '114460', '446690',\n",
              "       '404540', '400590', '227540', '279530', '365040', '377990',\n",
              "       '287180', '218420', '295020', '310960', '375770', '269420',\n",
              "       '217780', '332610', '160580', '445910', '114100', '236350',\n",
              "       '308620', '385590', '390950', '137610', '117460', '280930',\n",
              "       '210780', '440340', '388420', '449450', '337140', '426150',\n",
              "       '329660', '122090', '217770', '329670', '448330', '396520',\n",
              "       '237370', '292560', '276650', '395290', '304770', '364990',\n",
              "       '219390', '277540', '276990', '435420', '227570', '265690',\n",
              "       '252410', '250780', '445150', '438320', '237350', '252400',\n",
              "       '140700', '211900', '407820', '412570', '245350', '225800',\n",
              "       '354500', '446700', '449190', '385600', '300950', '360140',\n",
              "       '213630', '395760', '442260', '449180', '139250', '289260',\n",
              "       '292730', '102960', '395280', '352560', '250730', '211560',\n",
              "       '182490', '385710', '266410', '399580', '230480', '223190',\n",
              "       '395160', '438560', '276000', '183700', '360150', '261110',\n",
              "       '241390', '285690', '411720', '181480', '271060', '139270',\n",
              "       '300610', '401590', '409810', '434060', '200030', '279540',\n",
              "       '195970', '140710', '238720', '404120', '138910', '253290',\n",
              "       '139240', '421320', '428560', '445690', '253160', '310080',\n",
              "       '450910', '104530', '441800', '422260', '316670', '251600',\n",
              "       '337150', '138530', '252000', '167860', '411050', '419420',\n",
              "       '289040', '306950', '196030', '449770', '225130', '397420',\n",
              "       '291130', '195920', '368680', '442090', '448570', '140950',\n",
              "       '400580', '269530', '354240', '261070', '292500', '430500',\n",
              "       '292160', '229720', '448540', '252650', '364690', '449540',\n",
              "       '449680', '168300', '101280', '139660', '292050', '433500',\n",
              "       '413220', '433220', '390400', '418670', '104520', '415760',\n",
              "       '433970', '253230', '403790', '375760', '253150', '226980',\n",
              "       '435040', '225050', '156080', '440650', '100910', '174350',\n",
              "       '395150', '239660', '185680', '292750', '429760', '225030',\n",
              "       '138920', '413930', '280320', '429010', '449690', '450180',\n",
              "       '272910', '145850', '091220', '331910', '449580', '395170',\n",
              "       '316300', '269370', '402520', '451150', '261140', '337120',\n",
              "       '449780', '270800', '108590', '447620', '289670', '307010',\n",
              "       '424460', '448630', '304760', '346000', '131890', '417450',\n",
              "       '423170', '225060', '445930', '438080', '438100', '289480',\n",
              "       '395270', '402460', '373790', '153270', '411860', '435550',\n",
              "       '219900', '139320', '452440', '447660', '244670', '416090',\n",
              "       '152500', '305050', '143460', '450120', '275290', '272230',\n",
              "       '433980', '452250', '333950', '228820', '183710', '137930',\n",
              "       '450190', '438740', '432600', '433250', '307510', '426030',\n",
              "       '435540', '333970', '429980', '322120', '352540', '289250',\n",
              "       '435530', '410870', '448100', '319870', '426020', '237440',\n",
              "       '438900', '244620', '441330', '304670', '322130', '445950',\n",
              "       '437370', '253250', '432840', '371130', '266390', '379790',\n",
              "       '272220', '251890', '192720', '251590', '159800', '391590',\n",
              "       '448510', '234310', '367740', '147970', '267440', '375270',\n",
              "       '381570', '267490', '315270', '205720', '292770', '277650',\n",
              "       '140570', '314700', '105780', '227830', '403990', '371150',\n",
              "       '256450', '333960', '275280', '226380', '261060', '441540',\n",
              "       '373530', '322410', '437550', '117690', '322150', '333940',\n",
              "       '394340', '436180', '189400', '444200', '404470', '227550',\n",
              "       '176950', '166400', '139290', '285000', '428510', '342140',\n",
              "       '278620', '407160', '434730', '281990', '299070', '373490',\n",
              "       '291630', '261920', '215620', '284990', '447430', '299080',\n",
              "       '105010', '290080', '238670', '404650', '253280', '140580',\n",
              "       '391670', '429990', '333980', '440910', '306520', '243890',\n",
              "       '291620', '442550', '432850', '442560', '442570', '426330',\n",
              "       '380340', '157500', '444490', '429870', '307520', '295820',\n",
              "       '407300', '275300', '427110', '252730', '301400', '253240',\n",
              "       '429740', '220130', '321410', '291890', '252720', '407170',\n",
              "       '368200', '301410', '371870', '285020', '419170', '285010',\n",
              "       '266550', '442580', '227560', '277640', '275750', '334690',\n",
              "       '391680', '292340', '427120', '419650', '244660', '139310',\n",
              "       '415920', '301440', '145670', '298340', '098560', '306530',\n",
              "       '280940', '284980', '280920', '287310', '267450', '412560',\n",
              "       '442320', '267500', '438210', '334700', '291680', '451670',\n",
              "       '287300', '278420', '426410', '433880', '433860', '309210',\n",
              "       '433850', '376250', '433870', '315480', '287330', '287320'],\n",
              "      dtype=object)"
            ]
          },
          "metadata": {},
          "execution_count": 11
        }
      ]
    },
    {
      "cell_type": "code",
      "source": [
        "a = pd.Series(data, index=index)\n",
        "a"
      ],
      "metadata": {
        "colab": {
          "base_uri": "https://localhost:8080/"
        },
        "id": "ycDZBZxIVOFl",
        "outputId": "d3513046-fdca-4d06-cb5e-5503bad0acff"
      },
      "execution_count": 13,
      "outputs": [
        {
          "output_type": "execute_result",
          "data": {
            "text/plain": [
              "069500                KODEX 200\n",
              "357870      TIGER CD금리투자KIS(합성)\n",
              "423160      KODEX KOFR금리액티브(합성)\n",
              "371460    TIGER 차이나전기차SOLACTIVE\n",
              "252670         KODEX 200선물인버스2X\n",
              "                  ...          \n",
              "376250         ARIRANG 탄소효율그린뉴딜\n",
              "433870       ARIRANG TDF2050액티브\n",
              "315480      KBSTAR 200커뮤니케이션서비스\n",
              "287330          KBSTAR 200생활소비재\n",
              "287320            KBSTAR 200산업재\n",
              "Length: 678, dtype: object"
            ]
          },
          "metadata": {},
          "execution_count": 13
        }
      ]
    },
    {
      "cell_type": "code",
      "source": [
        "a2 = pd.Series(data)\n",
        "a2"
      ],
      "metadata": {
        "colab": {
          "base_uri": "https://localhost:8080/"
        },
        "id": "irGPHuCWVwcV",
        "outputId": "68dace40-bae7-4992-b056-7c6edc0cf80b"
      },
      "execution_count": 14,
      "outputs": [
        {
          "output_type": "execute_result",
          "data": {
            "text/plain": [
              "0                  KODEX 200\n",
              "1        TIGER CD금리투자KIS(합성)\n",
              "2        KODEX KOFR금리액티브(합성)\n",
              "3      TIGER 차이나전기차SOLACTIVE\n",
              "4           KODEX 200선물인버스2X\n",
              "               ...          \n",
              "673         ARIRANG 탄소효율그린뉴딜\n",
              "674       ARIRANG TDF2050액티브\n",
              "675      KBSTAR 200커뮤니케이션서비스\n",
              "676          KBSTAR 200생활소비재\n",
              "677            KBSTAR 200산업재\n",
              "Length: 678, dtype: object"
            ]
          },
          "metadata": {},
          "execution_count": 14
        }
      ]
    },
    {
      "cell_type": "code",
      "source": [
        "a.index"
      ],
      "metadata": {
        "colab": {
          "base_uri": "https://localhost:8080/"
        },
        "id": "aWoccZCFV_X-",
        "outputId": "6bcc4d60-4756-4ce1-b26b-bf91504d20a8"
      },
      "execution_count": 15,
      "outputs": [
        {
          "output_type": "execute_result",
          "data": {
            "text/plain": [
              "Index(['069500', '357870', '423160', '371460', '252670', '273130', '133690',\n",
              "       '310970', '102110', '278530',\n",
              "       ...\n",
              "       '426410', '433880', '433860', '309210', '433850', '376250', '433870',\n",
              "       '315480', '287330', '287320'],\n",
              "      dtype='object', length=678)"
            ]
          },
          "metadata": {},
          "execution_count": 15
        }
      ]
    },
    {
      "cell_type": "code",
      "source": [
        "a.values # dictionary -> values() 와 헷갈리면 안됨 / 속성 () 사용 X"
      ],
      "metadata": {
        "colab": {
          "base_uri": "https://localhost:8080/"
        },
        "id": "69yGvfRNWA1i",
        "outputId": "508ac9e0-9d6e-43da-c616-3e76f2e5ce31"
      },
      "execution_count": 16,
      "outputs": [
        {
          "output_type": "execute_result",
          "data": {
            "text/plain": [
              "array(['KODEX 200', 'TIGER CD금리투자KIS(합성)', 'KODEX KOFR금리액티브(합성)',\n",
              "       'TIGER 차이나전기차SOLACTIVE', 'KODEX 200선물인버스2X',\n",
              "       'KODEX 종합채권(AA-이상)액티브', 'TIGER 미국나스닥100', 'TIGER MSCI Korea TR',\n",
              "       'TIGER 200', 'KODEX 200TR', 'KODEX 레버리지', 'TIGER 미국S&P500',\n",
              "       'TIGER 미국필라델피아반도체나스닥', 'KODEX 23-12 은행채(AA+이상)액티브',\n",
              "       'TIGER 미국테크TOP10 INDXX', 'KODEX 단기채권PLUS', 'KODEX 삼성그룹',\n",
              "       'KBSTAR 200', 'TIGER 2차전지테마', 'TIGER 단기통안채',\n",
              "       'KBSTAR KIS종합채권(A-이상)액티브', 'TIGER TOP10', 'KODEX 2차전지산업',\n",
              "       'KODEX 인버스', 'KODEX Top5PlusTR', 'KODEX 코스닥150레버리지', 'KODEX 단기채권',\n",
              "       'TIGER 200 IT', 'KODEX 자동차', 'KODEX 코스닥150선물인버스', 'ARIRANG 200',\n",
              "       'KODEX MSCI Korea TR', 'TIGER KOFR금리액티브(합성)',\n",
              "       'KBSTAR 23-11 회사채(AA-이상)액티브', 'HANARO 200',\n",
              "       'ACE 종합채권(AA-이상)KIS액티브', 'ACE 미국S&P500',\n",
              "       'TIGER 글로벌리튬&2차전지SOLACTIVE(합성)', 'KBSTAR 단기통안채',\n",
              "       'KODEX 선진국MSCI World', 'TIGER 미국달러단기채권액티브',\n",
              "       'ARIRANG 종합채권(AA-이상)액티브', 'KODEX 코스닥150', 'KOSEF 200TR',\n",
              "       'TIGER 24-10 회사채(A+이상)액티브', 'KODEX 미국S&P500TR', 'TIGER 단기채권액티브',\n",
              "       'TIGER KRX2차전지K-뉴딜', 'ACE 미국나스닥100', 'ACE 200',\n",
              "       'TIGER 미국S&P500선물(H)', 'KODEX 미국나스닥100TR', 'KODEX 미국FANG플러스(H)',\n",
              "       'KODEX 단기변동금리부채권액티브', 'KOSEF 국고채10년', 'TIGER 차이나항셍테크',\n",
              "       'TIGER 일본니케이225', 'TIGER 글로벌자율주행&전기차SOLACTIVE', 'KOSEF 200',\n",
              "       'KODEX 코스피', 'KODEX 은행', 'KBSTAR Fn수소경제테마',\n",
              "       'KBSTAR KIS단기종합채권(AA-이상)액티브', 'TIGER 차이나CSI300',\n",
              "       'SOL 종합채권(AA-이상)액티브', 'KBSTAR 코스피', 'KBSTAR 미국나스닥100',\n",
              "       'TIGER 리츠부동산인프라', 'TIGER 코스피', 'KODEX 국고채3년', 'KODEX K-메타버스액티브',\n",
              "       'KODEX 반도체', 'KBSTAR ESG사회책임투자', 'ARIRANG 코스피TR', 'SOL 200TR',\n",
              "       'KBSTAR KIS국고채30년Enhanced', 'TIGER KRX BBIG K-뉴딜', 'ACE 단기통안채',\n",
              "       'KBSTAR 미국S&P500', 'KODEX 골드선물(H)', 'KBSTAR 200TR',\n",
              "       'TIGER 차이나과창판STAR50(합성)', 'TIGER Fn메타버스', 'TIGER 중장기국채',\n",
              "       'ACE 베트남VN30(합성)', 'ARIRANG 고배당주', 'ARIRANG 국고채30년액티브',\n",
              "       'KOSEF 단기자금', 'HANARO MSCI Korea TR', 'KODEX 미국나스닥100레버리지(합성 H)',\n",
              "       'KODEX 장기종합채권(AA-이상)액티브KAP', 'ACE 중국본토CSI300', 'TIGER 여행레저',\n",
              "       'KBSTAR IT플러스', 'KODEX 미국달러선물', 'KODEX TRF3070',\n",
              "       'TIGER 글로벌4차산업혁신기술(합성 H)', 'KBSTAR iSelect메타버스', 'HANARO 200TR',\n",
              "       'KODEX 23-12 국고채액티브', 'KODEX 미국나스닥100선물(H)', 'TIGER 투자등급회사채액티브',\n",
              "       'TIGER 글로벌메타버스액티브', 'ACE 23-12 회사채(AA-이상)액티브',\n",
              "       'KODEX 미국채울트라30년선물(H)', 'TIGER 200선물인버스2X', 'KBSTAR 국고채3년선물인버스',\n",
              "       'KODEX ESG종합채권(A-이상)액티브', 'KODEX 차이나항셍테크', 'KODEX 배당가치',\n",
              "       'TIGER 미국MSCI리츠(합성 H)', 'TIGER 23-12 국공채액티브', 'TIGER 헬스케어',\n",
              "       'TIGER 반도체', 'TIGER 중국소비테마', 'TIGER 현대차그룹+펀더멘털', 'KODEX 차이나CSI300',\n",
              "       'TIGER 종합채권(AA-이상)액티브', 'KODEX 삼성그룹밸류', 'KBSTAR 코스닥150',\n",
              "       'TIGER 코스닥150', 'TIGER 미디어컨텐츠', 'KTOP K200액티브', 'TIGER 미국채10년선물',\n",
              "       'KBSTAR 25-11 회사채(AA-이상)액티브', '히어로즈 단기채권ESG액티브',\n",
              "       'KODEX 미국S&P500선물(H)', 'KBSTAR 국채선물5년추종인버스', 'ACE 국고채10년',\n",
              "       'KBSTAR 코스닥150선물레버리지', 'ACE 24-12 회사채(AA-이상)액티브', 'KBSTAR Fn5G테크',\n",
              "       'TIGER 200 건설', 'KODEX 미국메타버스나스닥액티브', 'KBSTAR 미국단기투자등급회사채액티브',\n",
              "       'TIGER 미국다우존스30', 'KBSTAR 단기국공채액티브', 'KBSTAR 2차전지액티브',\n",
              "       'KODEX 국고채30년액티브', 'KODEX 은선물(H)', 'ACE G2전기차&자율주행액티브',\n",
              "       'SOL 미국배당다우존스', 'TIGER KRX바이오K-뉴딜', 'HANARO 200 TOP10',\n",
              "       'TIGER 200선물레버리지', 'KOSEF 인도Nifty50(합성)', 'ARIRANG 신흥국MSCI(합성 H)',\n",
              "       'KODEX WTI원유선물(H)', 'KODEX 국채선물10년', 'KBSTAR 고배당', 'TIGER 소프트웨어',\n",
              "       'KODEX 미국반도체MV', 'KODEX 미국종합채권SRI액티브(H)', 'ACE 미국WideMoat가치주',\n",
              "       'TIGER Fn반도체TOP10', 'KBSTAR 중국본토대형주CSI100', 'TIGER 경기방어',\n",
              "       'ACE 미국고배당S&P', 'KODEX 한국대만IT프리미어', 'KODEX 차이나2차전지MSCI(합성)',\n",
              "       'TIGER 차이나CSI300레버리지(합성)', '파워 200', 'HANARO e커머스',\n",
              "       'KODEX 차이나과창판STAR50(합성)', 'KODEX 차이나A50', 'TIGER 국채3년',\n",
              "       'KODEX K-신재생에너지액티브', 'TIGER 200 중공업', 'TIGER 화장품',\n",
              "       'KBSTAR 중기우량회사채', 'TIGER 차이나HSCEI', 'KBSTAR Fn컨택트대표',\n",
              "       'TIGER 미국S&P500레버리지(합성 H)', 'TIMEFOLIO Kstock액티브',\n",
              "       'ARIRANG 미국S&P500(H)', 'TIGER 차이나바이오테크SOLACTIVE', 'KBSTAR 금융채액티브',\n",
              "       'TIGER 미국필라델피아반도체레버리지(합성)', 'HANARO 글로벌럭셔리S&P(합성)',\n",
              "       'KODEX 차이나H레버리지(H)', 'TIGER 인버스', 'TIGER KEDI혁신기업ESG30',\n",
              "       'ACE KRX금현물', 'KODEX 건설', 'KODEX 코스피TR', 'TIGER 유로스탁스50(합성 H)',\n",
              "       'HANARO 32-10 국고채액티브', 'KODEX WTI원유선물인버스(H)',\n",
              "       'TIGER 미국S&P500TR(H)', 'KODEX 미국달러선물인버스2X', 'TIGER 코스닥150 레버리지',\n",
              "       'KBSTAR 대형고배당10TR', 'KOSEF 통안채1년', 'TIGER 미국S&P500배당귀족',\n",
              "       'KODEX Fn성장', 'ARIRANG ESG가치주액티브', 'KODEX 200미국채혼합', 'KODEX 차이나H',\n",
              "       'KODEX 아시아달러채권SRI플러스액티브', 'TIGER 글로벌BBIG액티브', 'ACE 단기채권알파액티브',\n",
              "       'HANARO Fn K-뉴딜디지털플러스', 'TIGER 글로벌클라우드컴퓨팅INDXX',\n",
              "       'KODEX 미국S&P500배당귀족커버드콜(합성 H)', 'KODEX 미국달러선물레버리지', 'KODEX 철강',\n",
              "       '에셋플러스 글로벌플랫폼액티브', 'SOL KIS단기통안채', 'SOL 미국S&P500',\n",
              "       'TIGER 퓨처모빌리티액티브', 'TIGER KRX인터넷K-뉴딜', 'TIGER 국고채30년스트립액티브',\n",
              "       'ACE 인도네시아MSCI(합성)', 'TIGER 테슬라채권혼합Fn', 'KODEX 바이오',\n",
              "       'KODEX 유럽탄소배출권선물ICE(H)', 'TIGER 레버리지', 'KODEX 증권',\n",
              "       'TIGER 미국나스닥바이오', 'KBSTAR 국채선물10년', 'KODEX 차이나심천ChiNext(합성)',\n",
              "       'ACE 삼성그룹섹터가중', 'TIGER 차이나클린에너지SOLACTIVE', 'KODEX 헬스케어',\n",
              "       'KOSEF 국고채3년', 'SOL 200 Top10', 'KBSTAR 게임테마', 'KODEX 미국배당프리미엄액티브',\n",
              "       'KOSEF 미국달러선물', 'TIGER 미국나스닥100커버드콜(합성)', 'KODEX IT',\n",
              "       'KODEX K-로봇액티브', 'TIGER 미국나스닥100TR(H)', 'TIGER 리츠부동산인프라채권TR KIS',\n",
              "       'KODEX 미국달러선물인버스', 'HANARO Fn전기&수소차', 'KBSTAR 200선물인버스2X',\n",
              "       'SOL 국고채10년', 'KOSEF 릭소글로벌퓨처모빌리티MSCI', 'KODEX 200ESG',\n",
              "       'ACE 글로벌반도체TOP4 Plus SOLACTIVE', 'TIGER 미국달러선물인버스2X',\n",
              "       'SOL 미국S&P500ESG', 'TIGER 원유선물Enhanced(H)', '대신343 K200',\n",
              "       'KBSTAR 중장기국공채액티브', 'TIGER 골드선물(H)', 'KODEX KRX기후변화솔루션',\n",
              "       'HANARO 200선물레버리지', 'KODEX K-미래차액티브', 'TIGER 삼성그룹펀더멘털',\n",
              "       'TIGER S&P글로벌헬스케어(합성)', 'TIGER 탄소효율그린뉴딜', 'ARIRANG 미국장기우량회사채',\n",
              "       'KODEX 200IT TR', 'KBSTAR 내수주플러스', 'KODEX KRX300',\n",
              "       'KODEX 미디어&엔터테인먼트', 'TIGER 200IT레버리지', 'TIGER 미국나스닥100레버리지(합성)',\n",
              "       'ACE 200TR', 'ACE 미국친환경그린테마INDXX', 'ACE 국고채3년',\n",
              "       'KODEX 아시아반도체공급망exChina액티브', 'TIGER KRX기후변화솔루션',\n",
              "       'SOL 글로벌탄소배출권선물IHS(합성)', 'TIGER 200 헬스케어', 'KODEX 고배당',\n",
              "       'TIGER AI코리아그로스액티브', 'TIGER Fn신재생에너지', 'ARIRANG 미국나스닥테크',\n",
              "       'KODEX 미국S&P500에너지(합성)', 'KBSTAR 국채선물10년인버스', 'TIGER 200TR',\n",
              "       'KODEX 탄소효율그린뉴딜', 'KODEX S&P글로벌인프라(합성)', 'TIGER 차이나CSI300인버스(합성)',\n",
              "       'ARIRANG 미국단기우량회사채', 'TIGER 구리실물', 'TIGER MKF배당귀족', 'KBSTAR 국고채3년',\n",
              "       'TIGER 인도니프티50레버리지(합성)', 'KODEX 미국채10년선물', 'ACE ESG액티브',\n",
              "       'HANARO 단기채권액티브', 'TIGER 농산물선물Enhanced(H)', 'KODEX 에너지화학',\n",
              "       'KODEX 미국러셀2000(H)', 'TIGER 코스피고배당', 'TIGER 글로벌멀티에셋TIF액티브',\n",
              "       'KBSTAR 비메모리반도체액티브', 'ARIRANG K방산Fn', 'KODEX 코스피대형주',\n",
              "       'WOORI 대한민국국고채액티브', 'KODEX TRF5050', 'ARIRANG 코스피50',\n",
              "       'TIGER 원유선물인버스(H)', 'KODEX TRF7030', 'KODEX 삼성전자채권혼합Wise',\n",
              "       'TIGER 차이나반도체FACTSET', 'KODEX 배당성장채권혼합', 'TIGER 일본엔선물',\n",
              "       'KBSTAR 글로벌4차산업IT(합성 H)', 'HANARO Fn K-POP&미디어', 'HANARO 코스닥150',\n",
              "       'TIGER KRX게임K-뉴딜', 'KBSTAR 미국S&P원유생산기업(합성 H)', 'ACE 아시아TOP50S&P',\n",
              "       'KODEX 글로벌4차산업로보틱스(합성)', 'TIGER 미국나스닥100TR채권혼합Fn', 'TIGER 우량가치',\n",
              "       'ACE 러시아MSCI(합성)', 'KBSTAR 200선물인버스', 'TIGER 코스닥150선물인버스',\n",
              "       'KODEX K-친환경선박액티브', 'TIGER 차이나항셍테크레버리지(합성 H)', 'KODEX 코스피100',\n",
              "       'KBSTAR 200선물레버리지', 'KODEX 보험', 'KODEX 배당성장', '에셋플러스 코리아플랫폼액티브',\n",
              "       'TIGER KRX2차전지K-뉴딜레버리지', 'TIGER 유로스탁스배당30', 'KOSEF 미국달러선물레버리지',\n",
              "       'ACE 코스닥150', 'KBSTAR 배터리 리사이클링iSelect', 'KODEX 미국나스닥100(H)',\n",
              "       'ACE 친환경자동차밸류체인액티브', 'KODEX 게임산업', 'KODEX 200롱코스닥150숏선물',\n",
              "       'ARIRANG 미국다우존스고배당주(합성 H)', 'ARIRANG ESG성장주액티브', '마이티 다이나믹퀀트액티브',\n",
              "       'KODEX 미국S&P500(H)', 'TIGER 200 에너지화학', 'TIGER MSCI KOREA ESG리더스',\n",
              "       'FOCUS KRX300', 'KODEX 기계장비', 'HANARO Fn K-게임',\n",
              "       'KODEX 다우존스미국리츠(H)', 'KBSTAR 차이나HSCEI(H)', 'TIGER 배당성장',\n",
              "       'TIGER 단기선진하이일드(합성 H)', 'TIMEFOLIO 이노베이션액티브', 'KODEX 필수소비재',\n",
              "       'KBSTAR 글로벌클린에너지S&P', 'KOSEF 미국달러선물인버스2X', 'KODEX 200가치저변동',\n",
              "       'KODEX Fn시스템반도체', 'SOL 국고채3년', 'TIGER 글로벌자원생산기업(합성 H)',\n",
              "       'KBSTAR 채권혼합', 'KODEX 코스닥150롱코스피200숏선물', 'TIGER 미국달러선물레버리지',\n",
              "       'KBSTAR V&S셀렉트밸류채권혼합', 'FOCUS ESG리더스', 'KBSTAR 글로벌메타버스Moorgate',\n",
              "       'ACE 미국다우존스리츠(합성 H)', 'KODEX 3대농산물선물(H)', 'TIGER 200 금융',\n",
              "       'TIGER K게임', 'HANARO 글로벌탄소배출권선물ICE(합성)', 'KODEX 미국나스닥100선물인버스(H)',\n",
              "       'KODEX TDF2050액티브', 'KODEX 미국S&P500산업재(합성)', 'KODEX 최소변동성',\n",
              "       'ARIRANG 선진국MSCI(합성 H)', 'KODEX 운송', 'ACE 일본Nikkei225(H)',\n",
              "       'TIMEFOLIO 탄소중립액티브', 'KODEX 구리선물(H)', 'KBSTAR 헬스케어채권혼합',\n",
              "       'TIGER 200 철강소재', 'ARIRANG 우주항공&UAM iSelect',\n",
              "       'KODEX 미국ETF산업Top10 Indxx', 'BNK 주주가치액티브', 'ARIRANG 200선물인버스2X',\n",
              "       'KBSTAR 중국MSCI China(H)', 'SOL 코스닥150', 'KOSEF 고배당',\n",
              "       'TIMEFOLIO Korea플러스배당액티브', 'VITA MZ소비액티브', 'KOSEF 코스닥150',\n",
              "       'ARIRANG 고배당주채권혼합', 'KODEX 200exTOP', 'TIGER LG그룹+펀더멘털',\n",
              "       'TIGER 200동일가중', 'KOSEF 국고채10년레버리지', 'ACE 글로벌메타버스테크액티브',\n",
              "       'KODEX 미국클린에너지나스닥', 'KODEX MSCI KOREA ESG유니버설', 'KODEX KRX300레버리지',\n",
              "       'ACE 일본TOPIX레버리지(H)', 'KOSEF 미국S&P500', 'ACE 골드선물 레버리지(합성 H)',\n",
              "       'KBSTAR 국채선물5년추종', 'ACE 멕시코MSCI(합성)', 'TIGER 일본TOPIX(합성 H)',\n",
              "       'KODEX Fn K-뉴딜디지털플러스', '에셋플러스 코리아대장장이액티브', 'FOCUS AI코리아액티브',\n",
              "       '파워 코스피100', 'SOL 유럽탄소배출권선물S&P(H)', 'ARIRANG S&P글로벌인프라',\n",
              "       'KBSTAR 미국고정배당우선증권ICE TR', 'TIGER 코스닥150바이오테크', 'SOL KRX300',\n",
              "       'KOSEF 물가채KIS', 'TIGER KRX300', 'KODEX KTOP30', 'ACE 엔비디아채권혼합블룸버그',\n",
              "       'KODEX 200동일가중', 'KODEX 혁신기술테마액티브', 'SOL 24-06 국고채액티브',\n",
              "       'TIGER 한중전기차(합성)', 'KTOP 코스피50', 'KODEX 일본TOPIX100',\n",
              "       'KOSEF 미국달러선물인버스', 'KBSTAR KRX300', 'ACE 원자력테마딥서치',\n",
              "       'SOL 차이나태양광CSI(합성)', '에셋플러스 글로벌대장장이액티브', 'KODEX 미국스마트모빌리티S&P',\n",
              "       'TIGER 글로벌사이버보안INDXX', 'KOSEF 블루칩', 'SOL 차이나육성산업액티브(합성)',\n",
              "       'KODEX TDF2030액티브', 'KOSEF 200선물인버스2X', '마이다스 KoreaStock액티브',\n",
              "       'HANARO 탄소효율그린뉴딜', 'ARIRANG 200선물레버리지', 'KODEX 200 중소형',\n",
              "       'ACE 글로벌브랜드TOP10블룸버그', 'TIGER 유로스탁스레버리지(합성 H)', 'KODEX MSCI Korea',\n",
              "       'ACE 미국달러단기채권액티브', 'KOSEF KRX100', 'TIGER 로우볼', 'KODEX Fn웹툰&드라마',\n",
              "       'ARIRANG 우량회사채50 1년', 'KODEX 미국S&P바이오(합성)', 'ARIRANG KRX300',\n",
              "       'ARIRANG 미국S&P500', 'TIGER 미국S&P500선물인버스(H)', 'KODEX 콩선물(H)',\n",
              "       'WOORI AI ESG액티브', 'ACE 미국IT인터넷S&P(합성 H)', 'TIGER 미국나스닥넥스트100',\n",
              "       'TIGER 한중반도체(합성)', 'KODEX 한중전기차(합성)', 'ACE 중장기국공채액티브',\n",
              "       'TREX 펀더멘탈 200', 'TIGER 은행', 'KOSEF Fn중소형',\n",
              "       'KBSTAR 미국빅데이터Top3채권혼합iSelect', 'KODEX Fn Top10동일가중', 'ACE 싱가포르리츠',\n",
              "       'TIGER S&P글로벌인프라(합성)', 'FOCUS 혁신기업액티브', '에셋플러스 글로벌영에이지액티브',\n",
              "       'TIGER 우선주', 'KODEX Fn멀티팩터', 'KOSEF 미국S&P500(H)', 'KBSTAR KQ고배당',\n",
              "       'TREX 200', 'SOL 미국TOP5채권혼합40 Solactive', 'ARIRANG 국채선물10년',\n",
              "       'KBSTAR KRX300레버리지', 'HANARO 글로벌워터MSCI(합성)',\n",
              "       'KBSTAR 삼성그룹Top3채권혼합블룸버그', 'HANARO KRX300', 'HANARO KAP초장기국고채',\n",
              "       'ACE 삼성그룹동일가중', 'KBSTAR 글로벌수소경제Indxx', 'SOL 한국형글로벌반도체액티브',\n",
              "       'TIGER 이머징마켓MSCI레버리지(합성 H)', 'KOSEF 차이나A50커넥트레버리지MSCI(합성H)',\n",
              "       'ACE 미국S&P500채권혼합액티브', 'ACE 미국나스닥100채권혼합액티브', 'TIGER 200커버드콜ATM',\n",
              "       'HANARO Fn K-반도체', 'HANARO Fn K-메타버스MZ', 'KOSEF 미국방어배당성장나스닥',\n",
              "       'KOSEF 코스피100', 'KOSEF 독일DAX', '히어로즈 TDF2050액티브',\n",
              "       'ACE 중국본토CSI300레버리지(합성)', 'TIGER 금은선물(H)', 'VITA 밸류알파액티브',\n",
              "       'ARIRANG Apple채권혼합Fn', 'KODEX 밸류Plus', 'ACE 중국과창판STAR50',\n",
              "       'ACE 레버리지', 'ACE 코스피', 'ACE 밸류대형', 'KOSEF SK그룹대표주', 'KODEX MSCI밸류',\n",
              "       'ACE 스마트밸류', 'KODEX TDF2040액티브', 'ACE 미국30년국채선물레버리지(합성 H)',\n",
              "       'ARIRANG KS로우사이즈가중TR', 'TIGER KTOP30', 'KBSTAR 주식혼합',\n",
              "       '마이다스 200커버드콜5%OTM', 'KODEX 한중반도체(합성)', '마이다스 KoreaStock중소형액티브',\n",
              "       'KBSTAR 국채선물3년', 'UNICORN R&D 액티브', 'TIGER 의료기기',\n",
              "       'TIMEFOLIO 미국나스닥100액티브', '히어로즈 TDF2040액티브', 'ARIRANG KS밸류가중TR',\n",
              "       'SOL 한국형글로벌전기차&2차전지액티브', 'ACE 스마트퀄리티', 'KODEX TSE일본리츠(H)',\n",
              "       'TIGER MSCI KOREA ESG유니버설', '히어로즈 TDF2030액티브', 'TIMEFOLIO K컬처액티브',\n",
              "       'WOORI 200', 'KBSTAR KRX300미국달러선물혼합', 'TIMEFOLIO 미국S&P500액티브',\n",
              "       'TIGER 경기방어채권혼합', 'HANARO Fn K-푸드', 'KODEX 모멘텀Plus',\n",
              "       'KOSEF 차이나A50커넥트MSCI', 'KODEX 미국채울트라30년선물인버스(H)', 'ACE 스마트로우볼',\n",
              "       'KOSEF 차이나A50커넥트인버스MSCI(합성 H)', 'KBSTAR 글로벌농업경제MV',\n",
              "       'KOSEF 200선물레버리지', 'HANARO 미국S&P500', 'ACE 베트남VN30선물블룸버그레버리지(H)',\n",
              "       'KODEX 경기소비재', 'KBSTAR 유로스탁스50(H)', 'ACE 스마트모멘텀', 'ACE 코스닥(합성)',\n",
              "       '파워 고배당저변동성', 'ARIRANG 고배당저변동50', '마이티 코스피100',\n",
              "       'ACE 미국스팩&IPO INDXX', 'HANARO 글로벌신재생에너지MSCI(합성)',\n",
              "       'KBSTAR V&S셀렉트밸류', 'HANARO Fn5G산업', 'TIGER 모멘텀',\n",
              "       'KBSTAR 미국장기국채선물(H)', 'KBSTAR 글로벌데이터센터리츠나스닥(합성)',\n",
              "       'HANARO Fn친환경에너지', 'KBSTAR 미국장기국채선물레버리지(합성 H)',\n",
              "       'TIGER 200커뮤니케이션서비스', 'ACE 일본TOPIX인버스(합성 H)', 'KODEX 국채선물3년인버스',\n",
              "       'TIGER 코스피중형주', 'KBSTAR 수출주', 'HANARO 농업융복합산업', 'KBSTAR 5대그룹주',\n",
              "       'ARIRANG 코스피', 'KBSTAR KRX기후변화솔루션', 'KBSTAR 차이나항셍테크',\n",
              "       'ARIRANG 심천차이넥스트(합성)', 'ARIRANG KS모멘텀가중TR', 'KODEX MSCI모멘텀',\n",
              "       'ACE Fn성장소비주도주', 'TIGER 코스닥150IT', 'HANARO Fn조선해운',\n",
              "       'ARIRANG 신흥국MSCI인버스(합성 H)', 'HANARO 고배당', '히어로즈 글로벌리츠이지스액티브',\n",
              "       'TIGER 차이나항셍25', 'ACE 스마트하이베타', 'ARIRANG KS로우볼가중TR',\n",
              "       'KOSEF 릭소글로벌디지털경제MSCI', 'ARIRANG K-유니콘투자기업액티브',\n",
              "       'ARIRANG 글로벌MSCI(합성 H)', 'SOL KEDI메가테크액티브', 'HANARO KRX기후변화솔루션',\n",
              "       'TIGER 200 산업재', 'KODEX 국채선물10년인버스', 'TIGER 200커버드콜5%OTM',\n",
              "       'TIGER 200 경기소비재', 'KBSTAR 200IT', 'KODEX 차이나메타버스액티브',\n",
              "       'ACE 싱가포르리츠채권혼합모닝스타', 'ARIRANG 단기채권액티브', 'MASTER 테크미디어텔레콤액티브',\n",
              "       'HANARO 원자력iSelect', 'KBSTAR 중소형고배당', 'ACE 국채선물10년인버스',\n",
              "       'KODEX K-이노베이션액티브', 'KOSEF 코스닥150선물레버리지', 'ACE 필리핀MSCI(합성)',\n",
              "       'HK S&P코리아로우볼', 'KBSTAR 200에너지화학', 'ACE 차세대가치주액티브',\n",
              "       'ACE 국채선물3년인버스', 'TIGER 라틴35', 'KBSTAR 200고배당커버드콜ATM',\n",
              "       'ARIRANG 스마트베타Quality채권혼합', 'SOL KRX기후변화솔루션', 'KBSTAR 헬스케어',\n",
              "       'KBSTAR 우량업종', 'HK 베스트일레븐액티브', 'SOL 한국형글로벌플랫폼&메타버스액티브',\n",
              "       'ARIRANG KS퀄리티가중TR', 'WOORI 미국S&P우주항공&디펜스', 'HANARO 200선물인버스',\n",
              "       'TIGER 200에너지화학레버리지', 'KOSEF 코스닥150선물인버스', 'KBSTAR TDF2030액티브',\n",
              "       'HANARO 글로벌백신치료제MSCI', 'KBSTAR TDF2040액티브', 'KBSTAR TDF2050액티브',\n",
              "       'KOSEF 미국ETF산업STOXX', 'ACE Fn5G플러스', 'TIGER 증권', 'WOORI 미국S&P500',\n",
              "       '히어로즈 리츠이지스액티브', 'TIGER 지주회사', 'ARIRANG 200동일가중', 'HANARO Fn골프테마',\n",
              "       'KODEX MSCI퀄리티', 'KBSTAR Fn창업투자회사', 'KBSTAR 모멘텀로우볼',\n",
              "       'ARIRANG 코스닥150', 'KOSEF 200선물인버스', 'ARIRANG K리츠Fn',\n",
              "       'SOL 차이나강소기업CSI500(합성 H)', 'KODEX 멀티에셋하이인컴(H)',\n",
              "       'KODEX MSCI EM선물(H)', 'KBSTAR 모멘텀밸류', 'MASTER 스마트커머스액티브',\n",
              "       'KBSTAR Fn K-뉴딜디지털플러스', 'ARIRANG 코스닥150선물인버스', 'ACE 차이나항셍테크',\n",
              "       'KBSTAR 200철강소재', 'HANARO 미국메타버스iSelect', 'KBSTAR 200중공업',\n",
              "       'ARIRANG 중형주저변동50', 'ARIRANG 글로벌D램반도체iSelect', 'TIGER 200 생활소비재',\n",
              "       'TIGER 코스피대형주', 'KBSTAR 코스닥150선물인버스', 'KBSTAR 팔라듐선물(H)',\n",
              "       'HK 하이볼액티브', '마이티 200커버드콜ATM레버리지', 'KBSTAR Fn플랫폼테마',\n",
              "       'ARIRANG 글로벌수소&차세대연료전지MV', 'KODEX 퀄리티Plus', 'TIGER 금속선물(H)',\n",
              "       'ARIRANG 글로벌희토류전략자원기업MV', 'ARIRANG 코스피중형주', 'ACE 인버스',\n",
              "       'ARIRANG 국채선물3년', 'TIGER 방송통신', 'HANARO 코스닥150선물레버리지',\n",
              "       'KODEX 골드선물인버스(H)', 'KBSTAR 200금융', 'ARIRANG 주도업종',\n",
              "       'KBSTAR 200경기소비재', 'KBSTAR 미국장기국채선물인버스(H)',\n",
              "       'TIGER KRX BBIG K-뉴딜레버리지', 'KBSTAR 글로벌원자력iSelect',\n",
              "       'KBSTAR 미국장기국채선물인버스2X(합성 H)', 'ARIRANG 글로벌인공지능산업MV',\n",
              "       'KBSTAR 팔라듐선물인버스(H)', 'KBSTAR 차이나H선물인버스(H)',\n",
              "       'KBSTAR 국채30년레버리지KAP(합성)', 'KBSTAR 200건설', 'ARIRANG ESG우수기업',\n",
              "       'ARIRANG 미국대체투자Top10MV', 'ARIRANG TDF2060액티브',\n",
              "       'ARIRANG TDF2040액티브', 'ARIRANG KRX300헬스케어', 'ARIRANG TDF2030액티브',\n",
              "       'ARIRANG 탄소효율그린뉴딜', 'ARIRANG TDF2050액티브', 'KBSTAR 200커뮤니케이션서비스',\n",
              "       'KBSTAR 200생활소비재', 'KBSTAR 200산업재'], dtype=object)"
            ]
          },
          "metadata": {},
          "execution_count": 16
        }
      ]
    },
    {
      "cell_type": "code",
      "source": [
        "a"
      ],
      "metadata": {
        "colab": {
          "base_uri": "https://localhost:8080/"
        },
        "id": "rZol9-_MWCus",
        "outputId": "5def4128-a464-4bb2-ac43-a06d77c98680"
      },
      "execution_count": 18,
      "outputs": [
        {
          "output_type": "execute_result",
          "data": {
            "text/plain": [
              "069500                KODEX 200\n",
              "357870      TIGER CD금리투자KIS(합성)\n",
              "423160      KODEX KOFR금리액티브(합성)\n",
              "371460    TIGER 차이나전기차SOLACTIVE\n",
              "252670         KODEX 200선물인버스2X\n",
              "                  ...          \n",
              "376250         ARIRANG 탄소효율그린뉴딜\n",
              "433870       ARIRANG TDF2050액티브\n",
              "315480      KBSTAR 200커뮤니케이션서비스\n",
              "287330          KBSTAR 200생활소비재\n",
              "287320            KBSTAR 200산업재\n",
              "Length: 678, dtype: object"
            ]
          },
          "metadata": {},
          "execution_count": 18
        }
      ]
    },
    {
      "cell_type": "code",
      "source": [
        "a * 2"
      ],
      "metadata": {
        "colab": {
          "base_uri": "https://localhost:8080/"
        },
        "id": "e4oaidTYWXJR",
        "outputId": "4b3bd9b1-c1d6-4b58-ac6b-0b07d286210e"
      },
      "execution_count": 19,
      "outputs": [
        {
          "output_type": "execute_result",
          "data": {
            "text/plain": [
              "069500                            KODEX 200KODEX 200\n",
              "357870        TIGER CD금리투자KIS(합성)TIGER CD금리투자KIS(합성)\n",
              "423160        KODEX KOFR금리액티브(합성)KODEX KOFR금리액티브(합성)\n",
              "371460    TIGER 차이나전기차SOLACTIVETIGER 차이나전기차SOLACTIVE\n",
              "252670              KODEX 200선물인버스2XKODEX 200선물인버스2X\n",
              "                             ...                    \n",
              "376250              ARIRANG 탄소효율그린뉴딜ARIRANG 탄소효율그린뉴딜\n",
              "433870          ARIRANG TDF2050액티브ARIRANG TDF2050액티브\n",
              "315480        KBSTAR 200커뮤니케이션서비스KBSTAR 200커뮤니케이션서비스\n",
              "287330                KBSTAR 200생활소비재KBSTAR 200생활소비재\n",
              "287320                    KBSTAR 200산업재KBSTAR 200산업재\n",
              "Length: 678, dtype: object"
            ]
          },
          "metadata": {},
          "execution_count": 19
        }
      ]
    },
    {
      "cell_type": "code",
      "source": [
        "a + a # 벡터화연산이 지원 (시리즈에서도)"
      ],
      "metadata": {
        "colab": {
          "base_uri": "https://localhost:8080/"
        },
        "id": "6p4SV3GKWZT1",
        "outputId": "340cd3f4-09f0-4889-c316-af5643e719f7"
      },
      "execution_count": 22,
      "outputs": [
        {
          "output_type": "execute_result",
          "data": {
            "text/plain": [
              "069500                            KODEX 200KODEX 200\n",
              "357870        TIGER CD금리투자KIS(합성)TIGER CD금리투자KIS(합성)\n",
              "423160        KODEX KOFR금리액티브(합성)KODEX KOFR금리액티브(합성)\n",
              "371460    TIGER 차이나전기차SOLACTIVETIGER 차이나전기차SOLACTIVE\n",
              "252670              KODEX 200선물인버스2XKODEX 200선물인버스2X\n",
              "                             ...                    \n",
              "376250              ARIRANG 탄소효율그린뉴딜ARIRANG 탄소효율그린뉴딜\n",
              "433870          ARIRANG TDF2050액티브ARIRANG TDF2050액티브\n",
              "315480        KBSTAR 200커뮤니케이션서비스KBSTAR 200커뮤니케이션서비스\n",
              "287330                KBSTAR 200생활소비재KBSTAR 200생활소비재\n",
              "287320                    KBSTAR 200산업재KBSTAR 200산업재\n",
              "Length: 678, dtype: object"
            ]
          },
          "metadata": {},
          "execution_count": 22
        }
      ]
    },
    {
      "cell_type": "code",
      "source": [
        "a[0], a['069500']"
      ],
      "metadata": {
        "colab": {
          "base_uri": "https://localhost:8080/"
        },
        "id": "2sGZo4qrWdLg",
        "outputId": "24f2058d-2d48-4f72-ea95-4deec170bf0e"
      },
      "execution_count": 26,
      "outputs": [
        {
          "output_type": "execute_result",
          "data": {
            "text/plain": [
              "('KODEX 200', 'KODEX 200')"
            ]
          },
          "metadata": {},
          "execution_count": 26
        }
      ]
    },
    {
      "cell_type": "code",
      "source": [
        "a[-1]"
      ],
      "metadata": {
        "colab": {
          "base_uri": "https://localhost:8080/",
          "height": 36
        },
        "id": "Q0RWNN7LWlJw",
        "outputId": "2a92e60d-6d0b-4594-ffaa-40ca671763fb"
      },
      "execution_count": 27,
      "outputs": [
        {
          "output_type": "execute_result",
          "data": {
            "text/plain": [
              "'KBSTAR 200산업재'"
            ],
            "application/vnd.google.colaboratory.intrinsic+json": {
              "type": "string"
            }
          },
          "metadata": {},
          "execution_count": 27
        }
      ]
    },
    {
      "cell_type": "code",
      "source": [
        "a[[0, 3, -1]] # numpy -> 정수배열 인덱싱"
      ],
      "metadata": {
        "colab": {
          "base_uri": "https://localhost:8080/"
        },
        "id": "10G4YmGUWvB7",
        "outputId": "d1dfb2b9-febb-4b68-9d85-f0af5d917621"
      },
      "execution_count": 31,
      "outputs": [
        {
          "output_type": "execute_result",
          "data": {
            "text/plain": [
              "069500                KODEX 200\n",
              "371460    TIGER 차이나전기차SOLACTIVE\n",
              "287320            KBSTAR 200산업재\n",
              "dtype: object"
            ]
          },
          "metadata": {},
          "execution_count": 31
        }
      ]
    },
    {
      "cell_type": "code",
      "source": [
        "a[['315480', '371460', '433870']] # numpy -> 인덱스 라벨로도 배열 인덱싱 가능"
      ],
      "metadata": {
        "colab": {
          "base_uri": "https://localhost:8080/"
        },
        "id": "4kwQZzyJW3b2",
        "outputId": "ff6e5647-20c6-4a8b-de4b-92879e6cb1fa"
      },
      "execution_count": 33,
      "outputs": [
        {
          "output_type": "execute_result",
          "data": {
            "text/plain": [
              "315480      KBSTAR 200커뮤니케이션서비스\n",
              "371460    TIGER 차이나전기차SOLACTIVE\n",
              "433870       ARIRANG TDF2050액티브\n",
              "dtype: object"
            ]
          },
          "metadata": {},
          "execution_count": 33
        }
      ]
    },
    {
      "cell_type": "code",
      "source": [
        "kospi = fdr.DataReader('069500').Volume\n",
        "china = fdr.DataReader('371460').Volume\n",
        "kospi, china"
      ],
      "metadata": {
        "colab": {
          "base_uri": "https://localhost:8080/"
        },
        "id": "cU5k8K8HXLao",
        "outputId": "cc8ddd51-44d9-42f6-d9a4-43d45dee7ac0"
      },
      "execution_count": 34,
      "outputs": [
        {
          "output_type": "execute_result",
          "data": {
            "text/plain": [
              "(Date\n",
              " 2002-10-14     3719554\n",
              " 2002-10-15     3303231\n",
              " 2002-10-16     2942972\n",
              " 2002-10-17     3018929\n",
              " 2002-10-18     1906949\n",
              "                 ...   \n",
              " 2023-03-07     6041336\n",
              " 2023-03-08    10926009\n",
              " 2023-03-09     6727453\n",
              " 2023-03-10     8278301\n",
              " 2023-03-13      671613\n",
              " Name: Volume, Length: 5049, dtype: int64, Date\n",
              " 2020-12-08    1048978\n",
              " 2020-12-09     775168\n",
              " 2020-12-10     278461\n",
              " 2020-12-11     449881\n",
              " 2020-12-14     165223\n",
              "                ...   \n",
              " 2023-03-07    5439303\n",
              " 2023-03-08    4425528\n",
              " 2023-03-09    5001159\n",
              " 2023-03-10    5975088\n",
              " 2023-03-13     305122\n",
              " Name: Volume, Length: 558, dtype: int64)"
            ]
          },
          "metadata": {},
          "execution_count": 34
        }
      ]
    },
    {
      "cell_type": "code",
      "source": [
        "kospi[(kospi > 10000000) & (kospi > 20000000)] # 불리언 배열 인덱싱3"
      ],
      "metadata": {
        "colab": {
          "base_uri": "https://localhost:8080/"
        },
        "id": "hVjxIE1sXpZi",
        "outputId": "4d2a708f-9b0f-479e-bf83-33b63fe3ca2a"
      },
      "execution_count": 37,
      "outputs": [
        {
          "output_type": "execute_result",
          "data": {
            "text/plain": [
              "Date\n",
              "2008-09-11    25821479\n",
              "2013-04-05    25242897\n",
              "2013-06-10    23969215\n",
              "2013-06-13    23888656\n",
              "2013-06-14    26020211\n",
              "2013-09-12    28546345\n",
              "2013-12-12    24599902\n",
              "2013-12-13    23037054\n",
              "2014-01-06    21367601\n",
              "2014-01-27    29296774\n",
              "2014-02-05    22532937\n",
              "2014-03-13    22209812\n",
              "2014-07-30    25566557\n",
              "2014-09-23    22603858\n",
              "2014-10-02    23164927\n",
              "2014-12-11    29308371\n",
              "2015-01-07    22129783\n",
              "2015-08-24    24285831\n",
              "2015-08-25    27249458\n",
              "2016-01-20    21576667\n",
              "2016-01-21    25056037\n",
              "2016-02-12    24408051\n",
              "2016-06-24    22290241\n",
              "2016-11-09    21877054\n",
              "2016-11-10    20117655\n",
              "2017-10-23    22568090\n",
              "2017-10-31    20547006\n",
              "2018-01-31    21084426\n",
              "2018-05-31    20372861\n",
              "2020-02-28    22994981\n",
              "2020-03-10    24112121\n",
              "2020-03-11    20018594\n",
              "2020-03-12    29267768\n",
              "2020-03-13    36012438\n",
              "2020-03-16    42825377\n",
              "2020-03-17    50386375\n",
              "2020-03-18    30168481\n",
              "2020-03-19    62722881\n",
              "2020-03-20    42662610\n",
              "2020-03-23    23954264\n",
              "2020-03-24    20305099\n",
              "2020-03-25    37708094\n",
              "2020-04-09    21415221\n",
              "2020-04-13    31051472\n",
              "2020-04-14    20222874\n",
              "2020-04-21    20713341\n",
              "2020-04-22    22131166\n",
              "2020-06-15    20804074\n",
              "2020-09-23    20807557\n",
              "2020-09-24    21660794\n",
              "2020-10-30    20844417\n",
              "2021-01-11    24148715\n",
              "2021-01-12    26643557\n",
              "Name: Volume, dtype: int64"
            ]
          },
          "metadata": {},
          "execution_count": 37
        }
      ]
    },
    {
      "cell_type": "code",
      "source": [
        "china[1:200]"
      ],
      "metadata": {
        "colab": {
          "base_uri": "https://localhost:8080/"
        },
        "id": "WzIxgsIkXxzv",
        "outputId": "6d8a7c6f-76ee-425c-eaf4-b5a08c18f428"
      },
      "execution_count": 38,
      "outputs": [
        {
          "output_type": "execute_result",
          "data": {
            "text/plain": [
              "Date\n",
              "2020-12-09      775168\n",
              "2020-12-10      278461\n",
              "2020-12-11      449881\n",
              "2020-12-14      165223\n",
              "2020-12-15      418493\n",
              "                ...   \n",
              "2021-09-23     5375040\n",
              "2021-09-24     6894670\n",
              "2021-09-27    10264560\n",
              "2021-09-28     4209286\n",
              "2021-09-29     6305614\n",
              "Name: Volume, Length: 199, dtype: int64"
            ]
          },
          "metadata": {},
          "execution_count": 38
        }
      ]
    },
    {
      "cell_type": "code",
      "source": [
        "china[:10:2]"
      ],
      "metadata": {
        "colab": {
          "base_uri": "https://localhost:8080/"
        },
        "id": "9LY9ghVrYURb",
        "outputId": "282a59ce-58a0-41d7-90ff-e5b90f184062"
      },
      "execution_count": 41,
      "outputs": [
        {
          "output_type": "execute_result",
          "data": {
            "text/plain": [
              "Date\n",
              "2020-12-08    1048978\n",
              "2020-12-10     278461\n",
              "2020-12-14     165223\n",
              "2020-12-16     527895\n",
              "2020-12-18     392843\n",
              "Name: Volume, dtype: int64"
            ]
          },
          "metadata": {},
          "execution_count": 41
        }
      ]
    },
    {
      "cell_type": "code",
      "source": [
        "china.tail(10)"
      ],
      "metadata": {
        "colab": {
          "base_uri": "https://localhost:8080/"
        },
        "id": "SL90Vf2hYZGu",
        "outputId": "86581761-1879-4227-a7de-860b97feb544"
      },
      "execution_count": 43,
      "outputs": [
        {
          "output_type": "execute_result",
          "data": {
            "text/plain": [
              "Date\n",
              "2023-02-27    3460909\n",
              "2023-02-28    3755890\n",
              "2023-03-02    4212024\n",
              "2023-03-03    4787613\n",
              "2023-03-06    7684520\n",
              "2023-03-07    5439303\n",
              "2023-03-08    4425528\n",
              "2023-03-09    5001159\n",
              "2023-03-10    5975088\n",
              "2023-03-13     305122\n",
              "Name: Volume, dtype: int64"
            ]
          },
          "metadata": {},
          "execution_count": 43
        }
      ]
    },
    {
      "cell_type": "code",
      "source": [
        "china[:'2023-03-10'] # 문자열로 슬라이싱 시 끝점 포함 \n",
        "# 날짜 데이터는 자료가 없어도 슬라이싱 가능"
      ],
      "metadata": {
        "colab": {
          "base_uri": "https://localhost:8080/"
        },
        "id": "S_FzzLc3YcHN",
        "outputId": "5408f82f-8e55-4137-a4cc-7221e0cd4d99"
      },
      "execution_count": 45,
      "outputs": [
        {
          "output_type": "execute_result",
          "data": {
            "text/plain": [
              "Date\n",
              "2020-12-08    1048978\n",
              "2020-12-09     775168\n",
              "2020-12-10     278461\n",
              "2020-12-11     449881\n",
              "2020-12-14     165223\n",
              "               ...   \n",
              "2023-03-06    7684520\n",
              "2023-03-07    5439303\n",
              "2023-03-08    4425528\n",
              "2023-03-09    5001159\n",
              "2023-03-10    5975088\n",
              "Name: Volume, Length: 557, dtype: int64"
            ]
          },
          "metadata": {},
          "execution_count": 45
        }
      ]
    },
    {
      "cell_type": "code",
      "source": [
        "d = dict(china[:'2023-03-10'].items())\n",
        "d"
      ],
      "metadata": {
        "colab": {
          "base_uri": "https://localhost:8080/"
        },
        "id": "_aA5wyMGYuGt",
        "outputId": "2c20a5f2-63ae-46a0-b4d8-806cc87286b1"
      },
      "execution_count": 48,
      "outputs": [
        {
          "output_type": "execute_result",
          "data": {
            "text/plain": [
              "{Timestamp('2020-12-08 00:00:00'): 1048978,\n",
              " Timestamp('2020-12-09 00:00:00'): 775168,\n",
              " Timestamp('2020-12-10 00:00:00'): 278461,\n",
              " Timestamp('2020-12-11 00:00:00'): 449881,\n",
              " Timestamp('2020-12-14 00:00:00'): 165223,\n",
              " Timestamp('2020-12-15 00:00:00'): 418493,\n",
              " Timestamp('2020-12-16 00:00:00'): 527895,\n",
              " Timestamp('2020-12-17 00:00:00'): 497866,\n",
              " Timestamp('2020-12-18 00:00:00'): 392843,\n",
              " Timestamp('2020-12-21 00:00:00'): 817886,\n",
              " Timestamp('2020-12-22 00:00:00'): 842614,\n",
              " Timestamp('2020-12-23 00:00:00'): 599122,\n",
              " Timestamp('2020-12-24 00:00:00'): 304825,\n",
              " Timestamp('2020-12-28 00:00:00'): 456384,\n",
              " Timestamp('2020-12-29 00:00:00'): 1074048,\n",
              " Timestamp('2020-12-30 00:00:00'): 423626,\n",
              " Timestamp('2021-01-04 00:00:00'): 1006268,\n",
              " Timestamp('2021-01-05 00:00:00'): 1137313,\n",
              " Timestamp('2021-01-06 00:00:00'): 1968305,\n",
              " Timestamp('2021-01-07 00:00:00'): 1264086,\n",
              " Timestamp('2021-01-08 00:00:00'): 2553849,\n",
              " Timestamp('2021-01-11 00:00:00'): 1754160,\n",
              " Timestamp('2021-01-12 00:00:00'): 843926,\n",
              " Timestamp('2021-01-13 00:00:00'): 1919135,\n",
              " Timestamp('2021-01-14 00:00:00'): 1363328,\n",
              " Timestamp('2021-01-15 00:00:00'): 1424782,\n",
              " Timestamp('2021-01-18 00:00:00'): 895957,\n",
              " Timestamp('2021-01-19 00:00:00'): 1900128,\n",
              " Timestamp('2021-01-20 00:00:00'): 1413693,\n",
              " Timestamp('2021-01-21 00:00:00'): 1383822,\n",
              " Timestamp('2021-01-22 00:00:00'): 1604833,\n",
              " Timestamp('2021-01-25 00:00:00'): 6886044,\n",
              " Timestamp('2021-01-26 00:00:00'): 5027577,\n",
              " Timestamp('2021-01-27 00:00:00'): 3575800,\n",
              " Timestamp('2021-01-28 00:00:00'): 2576485,\n",
              " Timestamp('2021-01-29 00:00:00'): 2775964,\n",
              " Timestamp('2021-02-01 00:00:00'): 2858189,\n",
              " Timestamp('2021-02-02 00:00:00'): 2509373,\n",
              " Timestamp('2021-02-03 00:00:00'): 2201792,\n",
              " Timestamp('2021-02-04 00:00:00'): 3269765,\n",
              " Timestamp('2021-02-05 00:00:00'): 2328257,\n",
              " Timestamp('2021-02-08 00:00:00'): 2190683,\n",
              " Timestamp('2021-02-09 00:00:00'): 1565462,\n",
              " Timestamp('2021-02-10 00:00:00'): 1650000,\n",
              " Timestamp('2021-02-15 00:00:00'): 1883325,\n",
              " Timestamp('2021-02-16 00:00:00'): 1841028,\n",
              " Timestamp('2021-02-17 00:00:00'): 1461551,\n",
              " Timestamp('2021-02-18 00:00:00'): 3891698,\n",
              " Timestamp('2021-02-19 00:00:00'): 4193739,\n",
              " Timestamp('2021-02-22 00:00:00'): 2700177,\n",
              " Timestamp('2021-02-23 00:00:00'): 2678541,\n",
              " Timestamp('2021-02-24 00:00:00'): 3560738,\n",
              " Timestamp('2021-02-25 00:00:00'): 3075500,\n",
              " Timestamp('2021-02-26 00:00:00'): 2622440,\n",
              " Timestamp('2021-03-02 00:00:00'): 1799369,\n",
              " Timestamp('2021-03-03 00:00:00'): 1223879,\n",
              " Timestamp('2021-03-04 00:00:00'): 2390998,\n",
              " Timestamp('2021-03-05 00:00:00'): 1661308,\n",
              " Timestamp('2021-03-08 00:00:00'): 2304985,\n",
              " Timestamp('2021-03-09 00:00:00'): 2062775,\n",
              " Timestamp('2021-03-10 00:00:00'): 1116867,\n",
              " Timestamp('2021-03-11 00:00:00'): 1444034,\n",
              " Timestamp('2021-03-12 00:00:00'): 2124073,\n",
              " Timestamp('2021-03-15 00:00:00'): 1835471,\n",
              " Timestamp('2021-03-16 00:00:00'): 1527830,\n",
              " Timestamp('2021-03-17 00:00:00'): 1289466,\n",
              " Timestamp('2021-03-18 00:00:00'): 1200748,\n",
              " Timestamp('2021-03-19 00:00:00'): 1545195,\n",
              " Timestamp('2021-03-22 00:00:00'): 875480,\n",
              " Timestamp('2021-03-23 00:00:00'): 2194810,\n",
              " Timestamp('2021-03-24 00:00:00'): 1806263,\n",
              " Timestamp('2021-03-25 00:00:00'): 1707694,\n",
              " Timestamp('2021-03-26 00:00:00'): 1428644,\n",
              " Timestamp('2021-03-29 00:00:00'): 918918,\n",
              " Timestamp('2021-03-30 00:00:00'): 1049497,\n",
              " Timestamp('2021-03-31 00:00:00'): 1000961,\n",
              " Timestamp('2021-04-01 00:00:00'): 752142,\n",
              " Timestamp('2021-04-02 00:00:00'): 878435,\n",
              " Timestamp('2021-04-05 00:00:00'): 780379,\n",
              " Timestamp('2021-04-06 00:00:00'): 854749,\n",
              " Timestamp('2021-04-07 00:00:00'): 1525461,\n",
              " Timestamp('2021-04-08 00:00:00'): 1024626,\n",
              " Timestamp('2021-04-09 00:00:00'): 1983644,\n",
              " Timestamp('2021-04-12 00:00:00'): 1953939,\n",
              " Timestamp('2021-04-13 00:00:00'): 1597888,\n",
              " Timestamp('2021-04-14 00:00:00'): 1700266,\n",
              " Timestamp('2021-04-15 00:00:00'): 1102955,\n",
              " Timestamp('2021-04-16 00:00:00'): 1505213,\n",
              " Timestamp('2021-04-19 00:00:00'): 2771581,\n",
              " Timestamp('2021-04-20 00:00:00'): 1791560,\n",
              " Timestamp('2021-04-21 00:00:00'): 1176810,\n",
              " Timestamp('2021-04-22 00:00:00'): 1344511,\n",
              " Timestamp('2021-04-23 00:00:00'): 906191,\n",
              " Timestamp('2021-04-26 00:00:00'): 1284917,\n",
              " Timestamp('2021-04-27 00:00:00'): 1206303,\n",
              " Timestamp('2021-04-28 00:00:00'): 1582609,\n",
              " Timestamp('2021-04-29 00:00:00'): 960981,\n",
              " Timestamp('2021-04-30 00:00:00'): 2080716,\n",
              " Timestamp('2021-05-03 00:00:00'): 595128,\n",
              " Timestamp('2021-05-04 00:00:00'): 536762,\n",
              " Timestamp('2021-05-06 00:00:00'): 1029243,\n",
              " Timestamp('2021-05-07 00:00:00'): 1598561,\n",
              " Timestamp('2021-05-10 00:00:00'): 1246707,\n",
              " Timestamp('2021-05-11 00:00:00'): 1107911,\n",
              " Timestamp('2021-05-12 00:00:00'): 907242,\n",
              " Timestamp('2021-05-13 00:00:00'): 905863,\n",
              " Timestamp('2021-05-14 00:00:00'): 901812,\n",
              " Timestamp('2021-05-17 00:00:00'): 2813118,\n",
              " Timestamp('2021-05-18 00:00:00'): 874368,\n",
              " Timestamp('2021-05-20 00:00:00'): 4018344,\n",
              " Timestamp('2021-05-21 00:00:00'): 2849954,\n",
              " Timestamp('2021-05-24 00:00:00'): 1280560,\n",
              " Timestamp('2021-05-25 00:00:00'): 1076368,\n",
              " Timestamp('2021-05-26 00:00:00'): 1227329,\n",
              " Timestamp('2021-05-27 00:00:00'): 951400,\n",
              " Timestamp('2021-05-28 00:00:00'): 3758546,\n",
              " Timestamp('2021-05-31 00:00:00'): 3355142,\n",
              " Timestamp('2021-06-01 00:00:00'): 2488103,\n",
              " Timestamp('2021-06-02 00:00:00'): 1775607,\n",
              " Timestamp('2021-06-03 00:00:00'): 2329143,\n",
              " Timestamp('2021-06-04 00:00:00'): 4990841,\n",
              " Timestamp('2021-06-07 00:00:00'): 2380765,\n",
              " Timestamp('2021-06-08 00:00:00'): 2105992,\n",
              " Timestamp('2021-06-09 00:00:00'): 1660449,\n",
              " Timestamp('2021-06-10 00:00:00'): 4626301,\n",
              " Timestamp('2021-06-11 00:00:00'): 3858707,\n",
              " Timestamp('2021-06-14 00:00:00'): 1019275,\n",
              " Timestamp('2021-06-15 00:00:00'): 3495517,\n",
              " Timestamp('2021-06-16 00:00:00'): 6961315,\n",
              " Timestamp('2021-06-17 00:00:00'): 2822945,\n",
              " Timestamp('2021-06-18 00:00:00'): 5307767,\n",
              " Timestamp('2021-06-21 00:00:00'): 4087623,\n",
              " Timestamp('2021-06-22 00:00:00'): 2021006,\n",
              " Timestamp('2021-06-23 00:00:00'): 3569602,\n",
              " Timestamp('2021-06-24 00:00:00'): 3000877,\n",
              " Timestamp('2021-06-25 00:00:00'): 2385050,\n",
              " Timestamp('2021-06-28 00:00:00'): 3380073,\n",
              " Timestamp('2021-06-29 00:00:00'): 3173591,\n",
              " Timestamp('2021-06-30 00:00:00'): 3065150,\n",
              " Timestamp('2021-07-01 00:00:00'): 1946997,\n",
              " Timestamp('2021-07-02 00:00:00'): 2721222,\n",
              " Timestamp('2021-07-05 00:00:00'): 3323029,\n",
              " Timestamp('2021-07-06 00:00:00'): 5746423,\n",
              " Timestamp('2021-07-07 00:00:00'): 7681651,\n",
              " Timestamp('2021-07-08 00:00:00'): 6134176,\n",
              " Timestamp('2021-07-09 00:00:00'): 4899277,\n",
              " Timestamp('2021-07-12 00:00:00'): 6156177,\n",
              " Timestamp('2021-07-13 00:00:00'): 9097884,\n",
              " Timestamp('2021-07-14 00:00:00'): 6134072,\n",
              " Timestamp('2021-07-15 00:00:00'): 6491349,\n",
              " Timestamp('2021-07-16 00:00:00'): 5003664,\n",
              " Timestamp('2021-07-19 00:00:00'): 5245102,\n",
              " Timestamp('2021-07-20 00:00:00'): 4142657,\n",
              " Timestamp('2021-07-21 00:00:00'): 5596942,\n",
              " Timestamp('2021-07-22 00:00:00'): 5755492,\n",
              " Timestamp('2021-07-23 00:00:00'): 4088235,\n",
              " Timestamp('2021-07-26 00:00:00'): 4991868,\n",
              " Timestamp('2021-07-27 00:00:00'): 4942029,\n",
              " Timestamp('2021-07-28 00:00:00'): 9686350,\n",
              " Timestamp('2021-07-29 00:00:00'): 6050849,\n",
              " Timestamp('2021-07-30 00:00:00'): 6616481,\n",
              " Timestamp('2021-08-02 00:00:00'): 9613806,\n",
              " Timestamp('2021-08-03 00:00:00'): 7414820,\n",
              " Timestamp('2021-08-04 00:00:00'): 10094009,\n",
              " Timestamp('2021-08-05 00:00:00'): 6725749,\n",
              " Timestamp('2021-08-06 00:00:00'): 7695694,\n",
              " Timestamp('2021-08-09 00:00:00'): 15481216,\n",
              " Timestamp('2021-08-10 00:00:00'): 9156066,\n",
              " Timestamp('2021-08-11 00:00:00'): 6631422,\n",
              " Timestamp('2021-08-12 00:00:00'): 6161257,\n",
              " Timestamp('2021-08-13 00:00:00'): 10408773,\n",
              " Timestamp('2021-08-17 00:00:00'): 11432506,\n",
              " Timestamp('2021-08-18 00:00:00'): 6759998,\n",
              " Timestamp('2021-08-19 00:00:00'): 10907575,\n",
              " Timestamp('2021-08-20 00:00:00'): 5966828,\n",
              " Timestamp('2021-08-23 00:00:00'): 4617027,\n",
              " Timestamp('2021-08-24 00:00:00'): 9206115,\n",
              " Timestamp('2021-08-25 00:00:00'): 4739603,\n",
              " Timestamp('2021-08-26 00:00:00'): 4687752,\n",
              " Timestamp('2021-08-27 00:00:00'): 4138999,\n",
              " Timestamp('2021-08-30 00:00:00'): 7173356,\n",
              " Timestamp('2021-08-31 00:00:00'): 8929142,\n",
              " Timestamp('2021-09-01 00:00:00'): 12615612,\n",
              " Timestamp('2021-09-02 00:00:00'): 4243917,\n",
              " Timestamp('2021-09-03 00:00:00'): 12461544,\n",
              " Timestamp('2021-09-06 00:00:00'): 6573664,\n",
              " Timestamp('2021-09-07 00:00:00'): 13618257,\n",
              " Timestamp('2021-09-08 00:00:00'): 5881121,\n",
              " Timestamp('2021-09-09 00:00:00'): 5554328,\n",
              " Timestamp('2021-09-10 00:00:00'): 4707358,\n",
              " Timestamp('2021-09-13 00:00:00'): 5211304,\n",
              " Timestamp('2021-09-14 00:00:00'): 15041915,\n",
              " Timestamp('2021-09-15 00:00:00'): 4148041,\n",
              " Timestamp('2021-09-16 00:00:00'): 8425184,\n",
              " Timestamp('2021-09-17 00:00:00'): 8664835,\n",
              " Timestamp('2021-09-23 00:00:00'): 5375040,\n",
              " Timestamp('2021-09-24 00:00:00'): 6894670,\n",
              " Timestamp('2021-09-27 00:00:00'): 10264560,\n",
              " Timestamp('2021-09-28 00:00:00'): 4209286,\n",
              " Timestamp('2021-09-29 00:00:00'): 6305614,\n",
              " Timestamp('2021-09-30 00:00:00'): 5941244,\n",
              " Timestamp('2021-10-01 00:00:00'): 1412563,\n",
              " Timestamp('2021-10-05 00:00:00'): 1968348,\n",
              " Timestamp('2021-10-06 00:00:00'): 1157653,\n",
              " Timestamp('2021-10-07 00:00:00'): 1662123,\n",
              " Timestamp('2021-10-08 00:00:00'): 5393186,\n",
              " Timestamp('2021-10-12 00:00:00'): 3258602,\n",
              " Timestamp('2021-10-13 00:00:00'): 3952982,\n",
              " Timestamp('2021-10-14 00:00:00'): 2315181,\n",
              " Timestamp('2021-10-15 00:00:00'): 8425200,\n",
              " Timestamp('2021-10-18 00:00:00'): 9033802,\n",
              " Timestamp('2021-10-19 00:00:00'): 12237462,\n",
              " Timestamp('2021-10-20 00:00:00'): 9512272,\n",
              " Timestamp('2021-10-21 00:00:00'): 2966083,\n",
              " Timestamp('2021-10-22 00:00:00'): 3851099,\n",
              " Timestamp('2021-10-25 00:00:00'): 4860144,\n",
              " Timestamp('2021-10-26 00:00:00'): 7220616,\n",
              " Timestamp('2021-10-27 00:00:00'): 5024716,\n",
              " Timestamp('2021-10-28 00:00:00'): 7934177,\n",
              " Timestamp('2021-10-29 00:00:00'): 6467365,\n",
              " Timestamp('2021-11-01 00:00:00'): 6113849,\n",
              " Timestamp('2021-11-02 00:00:00'): 5971170,\n",
              " Timestamp('2021-11-03 00:00:00'): 6298318,\n",
              " Timestamp('2021-11-04 00:00:00'): 5653786,\n",
              " Timestamp('2021-11-05 00:00:00'): 4923689,\n",
              " Timestamp('2021-11-08 00:00:00'): 8359075,\n",
              " Timestamp('2021-11-09 00:00:00'): 7614626,\n",
              " Timestamp('2021-11-10 00:00:00'): 8582030,\n",
              " Timestamp('2021-11-11 00:00:00'): 6165503,\n",
              " Timestamp('2021-11-12 00:00:00'): 5754234,\n",
              " Timestamp('2021-11-15 00:00:00'): 21679589,\n",
              " Timestamp('2021-11-16 00:00:00'): 13760882,\n",
              " Timestamp('2021-11-17 00:00:00'): 6793817,\n",
              " Timestamp('2021-11-18 00:00:00'): 7346570,\n",
              " Timestamp('2021-11-19 00:00:00'): 4866911,\n",
              " Timestamp('2021-11-22 00:00:00'): 12782552,\n",
              " Timestamp('2021-11-23 00:00:00'): 4764401,\n",
              " Timestamp('2021-11-24 00:00:00'): 4439756,\n",
              " Timestamp('2021-11-25 00:00:00'): 5761685,\n",
              " Timestamp('2021-11-26 00:00:00'): 4964263,\n",
              " Timestamp('2021-11-29 00:00:00'): 10368445,\n",
              " Timestamp('2021-11-30 00:00:00'): 4314350,\n",
              " Timestamp('2021-12-01 00:00:00'): 7014831,\n",
              " Timestamp('2021-12-02 00:00:00'): 3034798,\n",
              " Timestamp('2021-12-03 00:00:00'): 3506820,\n",
              " Timestamp('2021-12-06 00:00:00'): 4176310,\n",
              " Timestamp('2021-12-07 00:00:00'): 13611281,\n",
              " Timestamp('2021-12-08 00:00:00'): 4838203,\n",
              " Timestamp('2021-12-09 00:00:00'): 3891685,\n",
              " Timestamp('2021-12-10 00:00:00'): 3682075,\n",
              " Timestamp('2021-12-13 00:00:00'): 3889561,\n",
              " Timestamp('2021-12-14 00:00:00'): 3278325,\n",
              " Timestamp('2021-12-15 00:00:00'): 2136304,\n",
              " Timestamp('2021-12-16 00:00:00'): 4804220,\n",
              " Timestamp('2021-12-17 00:00:00'): 6036568,\n",
              " Timestamp('2021-12-20 00:00:00'): 6438176,\n",
              " Timestamp('2021-12-21 00:00:00'): 5777274,\n",
              " Timestamp('2021-12-22 00:00:00'): 2885603,\n",
              " Timestamp('2021-12-23 00:00:00'): 4553291,\n",
              " Timestamp('2021-12-24 00:00:00'): 8557706,\n",
              " Timestamp('2021-12-27 00:00:00'): 4250410,\n",
              " Timestamp('2021-12-28 00:00:00'): 5173088,\n",
              " Timestamp('2021-12-29 00:00:00'): 4103791,\n",
              " Timestamp('2021-12-30 00:00:00'): 2529035,\n",
              " Timestamp('2022-01-03 00:00:00'): 2001480,\n",
              " Timestamp('2022-01-04 00:00:00'): 8715790,\n",
              " Timestamp('2022-01-05 00:00:00'): 9075118,\n",
              " Timestamp('2022-01-06 00:00:00'): 6077287,\n",
              " Timestamp('2022-01-07 00:00:00'): 6734252,\n",
              " Timestamp('2022-01-10 00:00:00'): 4270657,\n",
              " Timestamp('2022-01-11 00:00:00'): 4055923,\n",
              " Timestamp('2022-01-12 00:00:00'): 4804511,\n",
              " Timestamp('2022-01-13 00:00:00'): 4655008,\n",
              " Timestamp('2022-01-14 00:00:00'): 2995964,\n",
              " Timestamp('2022-01-17 00:00:00'): 3877503,\n",
              " Timestamp('2022-01-18 00:00:00'): 3669392,\n",
              " Timestamp('2022-01-19 00:00:00'): 6809219,\n",
              " Timestamp('2022-01-20 00:00:00'): 4502883,\n",
              " Timestamp('2022-01-21 00:00:00'): 4125450,\n",
              " Timestamp('2022-01-24 00:00:00'): 5173237,\n",
              " Timestamp('2022-01-25 00:00:00'): 3356682,\n",
              " Timestamp('2022-01-26 00:00:00'): 3025869,\n",
              " Timestamp('2022-01-27 00:00:00'): 2826789,\n",
              " Timestamp('2022-01-28 00:00:00'): 3538107,\n",
              " Timestamp('2022-02-03 00:00:00'): 1673613,\n",
              " Timestamp('2022-02-04 00:00:00'): 1682491,\n",
              " Timestamp('2022-02-07 00:00:00'): 3526994,\n",
              " Timestamp('2022-02-08 00:00:00'): 9805691,\n",
              " Timestamp('2022-02-09 00:00:00'): 5069059,\n",
              " Timestamp('2022-02-10 00:00:00'): 8719006,\n",
              " Timestamp('2022-02-11 00:00:00'): 5780745,\n",
              " Timestamp('2022-02-14 00:00:00'): 4748733,\n",
              " Timestamp('2022-02-15 00:00:00'): 4769985,\n",
              " Timestamp('2022-02-16 00:00:00'): 3888379,\n",
              " Timestamp('2022-02-17 00:00:00'): 5593572,\n",
              " Timestamp('2022-02-18 00:00:00'): 3199624,\n",
              " Timestamp('2022-02-21 00:00:00'): 2357990,\n",
              " Timestamp('2022-02-22 00:00:00'): 3243741,\n",
              " Timestamp('2022-02-23 00:00:00'): 4639042,\n",
              " Timestamp('2022-02-24 00:00:00'): 5003934,\n",
              " Timestamp('2022-02-25 00:00:00'): 4262967,\n",
              " Timestamp('2022-02-28 00:00:00'): 3451249,\n",
              " Timestamp('2022-03-02 00:00:00'): 4992961,\n",
              " Timestamp('2022-03-03 00:00:00'): 5704041,\n",
              " Timestamp('2022-03-04 00:00:00'): 4087172,\n",
              " Timestamp('2022-03-07 00:00:00'): 5977677,\n",
              " Timestamp('2022-03-08 00:00:00'): 7517393,\n",
              " Timestamp('2022-03-10 00:00:00'): 5352814,\n",
              " Timestamp('2022-03-11 00:00:00'): 5973578,\n",
              " Timestamp('2022-03-14 00:00:00'): 4856750,\n",
              " Timestamp('2022-03-15 00:00:00'): 6831238,\n",
              " Timestamp('2022-03-16 00:00:00'): 7655975,\n",
              " Timestamp('2022-03-17 00:00:00'): 5282281,\n",
              " Timestamp('2022-03-18 00:00:00'): 4618329,\n",
              " Timestamp('2022-03-21 00:00:00'): 4981512,\n",
              " Timestamp('2022-03-22 00:00:00'): 4598331,\n",
              " Timestamp('2022-03-23 00:00:00'): 4025416,\n",
              " Timestamp('2022-03-24 00:00:00'): 4509444,\n",
              " Timestamp('2022-03-25 00:00:00'): 5926830,\n",
              " Timestamp('2022-03-28 00:00:00'): 5795998,\n",
              " Timestamp('2022-03-29 00:00:00'): 5042363,\n",
              " Timestamp('2022-03-30 00:00:00'): 5763014,\n",
              " Timestamp('2022-03-31 00:00:00'): 7671014,\n",
              " Timestamp('2022-04-01 00:00:00'): 4861734,\n",
              " Timestamp('2022-04-04 00:00:00'): 1776943,\n",
              " Timestamp('2022-04-05 00:00:00'): 2383703,\n",
              " Timestamp('2022-04-06 00:00:00'): 5051621,\n",
              " Timestamp('2022-04-07 00:00:00'): 4373002,\n",
              " Timestamp('2022-04-08 00:00:00'): 5572334,\n",
              " Timestamp('2022-04-11 00:00:00'): 10058920,\n",
              " Timestamp('2022-04-12 00:00:00'): 5424080,\n",
              " Timestamp('2022-04-13 00:00:00'): 6541795,\n",
              " Timestamp('2022-04-14 00:00:00'): 4730907,\n",
              " Timestamp('2022-04-15 00:00:00'): 5661236,\n",
              " Timestamp('2022-04-18 00:00:00'): 4581165,\n",
              " Timestamp('2022-04-19 00:00:00'): 4704514,\n",
              " Timestamp('2022-04-20 00:00:00'): 6029557,\n",
              " Timestamp('2022-04-21 00:00:00'): 12372538,\n",
              " Timestamp('2022-04-22 00:00:00'): 7075429,\n",
              " Timestamp('2022-04-25 00:00:00'): 11981188,\n",
              " Timestamp('2022-04-26 00:00:00'): 8896055,\n",
              " Timestamp('2022-04-27 00:00:00'): 10857737,\n",
              " Timestamp('2022-04-28 00:00:00'): 8983744,\n",
              " Timestamp('2022-04-29 00:00:00'): 8552248,\n",
              " Timestamp('2022-05-02 00:00:00'): 1532364,\n",
              " Timestamp('2022-05-03 00:00:00'): 1453830,\n",
              " Timestamp('2022-05-04 00:00:00'): 956895,\n",
              " Timestamp('2022-05-06 00:00:00'): 2935458,\n",
              " Timestamp('2022-05-09 00:00:00'): 1924141,\n",
              " Timestamp('2022-05-10 00:00:00'): 5058361,\n",
              " Timestamp('2022-05-11 00:00:00'): 10788745,\n",
              " Timestamp('2022-05-12 00:00:00'): 4066814,\n",
              " Timestamp('2022-05-13 00:00:00'): 5189333,\n",
              " Timestamp('2022-05-16 00:00:00'): 5127500,\n",
              " Timestamp('2022-05-17 00:00:00'): 7332652,\n",
              " Timestamp('2022-05-18 00:00:00'): 6558190,\n",
              " Timestamp('2022-05-19 00:00:00'): 5835461,\n",
              " Timestamp('2022-05-20 00:00:00'): 8691869,\n",
              " Timestamp('2022-05-23 00:00:00'): 5014489,\n",
              " Timestamp('2022-05-24 00:00:00'): 6537212,\n",
              " Timestamp('2022-05-25 00:00:00'): 5619372,\n",
              " Timestamp('2022-05-26 00:00:00'): 5926471,\n",
              " Timestamp('2022-05-27 00:00:00'): 4481045,\n",
              " Timestamp('2022-05-30 00:00:00'): 4249220,\n",
              " Timestamp('2022-05-31 00:00:00'): 6229899,\n",
              " Timestamp('2022-06-02 00:00:00'): 9532056,\n",
              " Timestamp('2022-06-03 00:00:00'): 2714783,\n",
              " Timestamp('2022-06-07 00:00:00'): 8623882,\n",
              " Timestamp('2022-06-08 00:00:00'): 8729119,\n",
              " Timestamp('2022-06-09 00:00:00'): 8880544,\n",
              " Timestamp('2022-06-10 00:00:00'): 14289580,\n",
              " Timestamp('2022-06-13 00:00:00'): 15983560,\n",
              " Timestamp('2022-06-14 00:00:00'): 10128095,\n",
              " Timestamp('2022-06-15 00:00:00'): 12080754,\n",
              " Timestamp('2022-06-16 00:00:00'): 8880777,\n",
              " Timestamp('2022-06-17 00:00:00'): 18335765,\n",
              " Timestamp('2022-06-20 00:00:00'): 13749285,\n",
              " Timestamp('2022-06-21 00:00:00'): 11307001,\n",
              " Timestamp('2022-06-22 00:00:00'): 11498663,\n",
              " Timestamp('2022-06-23 00:00:00'): 13757429,\n",
              " Timestamp('2022-06-24 00:00:00'): 13790900,\n",
              " Timestamp('2022-06-27 00:00:00'): 9533147,\n",
              " Timestamp('2022-06-28 00:00:00'): 9818767,\n",
              " Timestamp('2022-06-29 00:00:00'): 10156829,\n",
              " Timestamp('2022-06-30 00:00:00'): 8087811,\n",
              " Timestamp('2022-07-01 00:00:00'): 5234381,\n",
              " Timestamp('2022-07-04 00:00:00'): 9188757,\n",
              " Timestamp('2022-07-05 00:00:00'): 7754991,\n",
              " Timestamp('2022-07-06 00:00:00'): 7049117,\n",
              " Timestamp('2022-07-07 00:00:00'): 11776131,\n",
              " Timestamp('2022-07-08 00:00:00'): 7696604,\n",
              " Timestamp('2022-07-11 00:00:00'): 9046438,\n",
              " Timestamp('2022-07-12 00:00:00'): 14173150,\n",
              " Timestamp('2022-07-13 00:00:00'): 12128975,\n",
              " Timestamp('2022-07-14 00:00:00'): 10449261,\n",
              " Timestamp('2022-07-15 00:00:00'): 9195794,\n",
              " Timestamp('2022-07-18 00:00:00'): 7299731,\n",
              " Timestamp('2022-07-19 00:00:00'): 7374555,\n",
              " Timestamp('2022-07-20 00:00:00'): 5102699,\n",
              " Timestamp('2022-07-21 00:00:00'): 6012553,\n",
              " Timestamp('2022-07-22 00:00:00'): 6300268,\n",
              " Timestamp('2022-07-25 00:00:00'): 4927895,\n",
              " Timestamp('2022-07-26 00:00:00'): 4921601,\n",
              " Timestamp('2022-07-27 00:00:00'): 4333558,\n",
              " Timestamp('2022-07-28 00:00:00'): 5835147,\n",
              " Timestamp('2022-07-29 00:00:00'): 5030524,\n",
              " Timestamp('2022-08-01 00:00:00'): 5981387,\n",
              " Timestamp('2022-08-02 00:00:00'): 5518028,\n",
              " Timestamp('2022-08-03 00:00:00'): 7357050,\n",
              " Timestamp('2022-08-04 00:00:00'): 5918090,\n",
              " Timestamp('2022-08-05 00:00:00'): 6184760,\n",
              " Timestamp('2022-08-08 00:00:00'): 3025805,\n",
              " Timestamp('2022-08-09 00:00:00'): 5406309,\n",
              " Timestamp('2022-08-10 00:00:00'): 4398704,\n",
              " Timestamp('2022-08-11 00:00:00'): 7097320,\n",
              " Timestamp('2022-08-12 00:00:00'): 4765959,\n",
              " Timestamp('2022-08-16 00:00:00'): 5911863,\n",
              " Timestamp('2022-08-17 00:00:00'): 6146927,\n",
              " Timestamp('2022-08-18 00:00:00'): 4382156,\n",
              " Timestamp('2022-08-19 00:00:00'): 5331106,\n",
              " Timestamp('2022-08-22 00:00:00'): 8691483,\n",
              " Timestamp('2022-08-23 00:00:00'): 6533784,\n",
              " Timestamp('2022-08-24 00:00:00'): 8714686,\n",
              " Timestamp('2022-08-25 00:00:00'): 10721634,\n",
              " Timestamp('2022-08-26 00:00:00'): 7116268,\n",
              " Timestamp('2022-08-29 00:00:00'): 4617418,\n",
              " Timestamp('2022-08-30 00:00:00'): 5419732,\n",
              " Timestamp('2022-08-31 00:00:00'): 8458883,\n",
              " Timestamp('2022-09-01 00:00:00'): 5109840,\n",
              " Timestamp('2022-09-02 00:00:00'): 4154592,\n",
              " Timestamp('2022-09-05 00:00:00'): 4049914,\n",
              " Timestamp('2022-09-06 00:00:00'): 4291432,\n",
              " Timestamp('2022-09-07 00:00:00'): 3805141,\n",
              " Timestamp('2022-09-08 00:00:00'): 3476030,\n",
              " Timestamp('2022-09-13 00:00:00'): 2977305,\n",
              " Timestamp('2022-09-14 00:00:00'): 3401268,\n",
              " Timestamp('2022-09-15 00:00:00'): 6205720,\n",
              " Timestamp('2022-09-16 00:00:00'): 3918265,\n",
              " Timestamp('2022-09-19 00:00:00'): 3447259,\n",
              " Timestamp('2022-09-20 00:00:00'): 3557200,\n",
              " Timestamp('2022-09-21 00:00:00'): 2041022,\n",
              " Timestamp('2022-09-22 00:00:00'): 2926504,\n",
              " Timestamp('2022-09-23 00:00:00'): 4011599,\n",
              " Timestamp('2022-09-26 00:00:00'): 3459072,\n",
              " Timestamp('2022-09-27 00:00:00'): 2181787,\n",
              " Timestamp('2022-09-28 00:00:00'): 2962158,\n",
              " Timestamp('2022-09-29 00:00:00'): 2668656,\n",
              " Timestamp('2022-09-30 00:00:00'): 2290088,\n",
              " Timestamp('2022-10-04 00:00:00'): 943968,\n",
              " Timestamp('2022-10-05 00:00:00'): 2411953,\n",
              " Timestamp('2022-10-06 00:00:00'): 1374870,\n",
              " Timestamp('2022-10-07 00:00:00'): 977081,\n",
              " Timestamp('2022-10-11 00:00:00'): 3259228,\n",
              " Timestamp('2022-10-12 00:00:00'): 3630655,\n",
              " Timestamp('2022-10-13 00:00:00'): 2097484,\n",
              " Timestamp('2022-10-14 00:00:00'): 3003681,\n",
              " Timestamp('2022-10-17 00:00:00'): 2255250,\n",
              " Timestamp('2022-10-18 00:00:00'): 2904598,\n",
              " Timestamp('2022-10-19 00:00:00'): 2632234,\n",
              " Timestamp('2022-10-20 00:00:00'): 3792647,\n",
              " Timestamp('2022-10-21 00:00:00'): 3086297,\n",
              " Timestamp('2022-10-24 00:00:00'): 3507114,\n",
              " Timestamp('2022-10-25 00:00:00'): 5256758,\n",
              " Timestamp('2022-10-26 00:00:00'): 2954881,\n",
              " Timestamp('2022-10-27 00:00:00'): 4179649,\n",
              " Timestamp('2022-10-28 00:00:00'): 8312507,\n",
              " Timestamp('2022-10-31 00:00:00'): 3245033,\n",
              " Timestamp('2022-11-01 00:00:00'): 4227388,\n",
              " Timestamp('2022-11-02 00:00:00'): 3601904,\n",
              " Timestamp('2022-11-03 00:00:00'): 3079631,\n",
              " Timestamp('2022-11-04 00:00:00'): 6627391,\n",
              " Timestamp('2022-11-07 00:00:00'): 5163990,\n",
              " Timestamp('2022-11-08 00:00:00'): 5004284,\n",
              " Timestamp('2022-11-09 00:00:00'): 3159448,\n",
              " Timestamp('2022-11-10 00:00:00'): 3894854,\n",
              " Timestamp('2022-11-11 00:00:00'): 5894656,\n",
              " Timestamp('2022-11-14 00:00:00'): 6666967,\n",
              " Timestamp('2022-11-15 00:00:00'): 4249020,\n",
              " Timestamp('2022-11-16 00:00:00'): 4670376,\n",
              " Timestamp('2022-11-17 00:00:00'): 6097205,\n",
              " Timestamp('2022-11-18 00:00:00'): 3973079,\n",
              " Timestamp('2022-11-21 00:00:00'): 2295985,\n",
              " Timestamp('2022-11-22 00:00:00'): 2530397,\n",
              " Timestamp('2022-11-23 00:00:00'): 2984477,\n",
              " Timestamp('2022-11-24 00:00:00'): 4697147,\n",
              " Timestamp('2022-11-25 00:00:00'): 7156574,\n",
              " Timestamp('2022-11-28 00:00:00'): 3794424,\n",
              " Timestamp('2022-11-29 00:00:00'): 4038043,\n",
              " Timestamp('2022-11-30 00:00:00'): 3453718,\n",
              " Timestamp('2022-12-01 00:00:00'): 3929779,\n",
              " Timestamp('2022-12-02 00:00:00'): 2117393,\n",
              " Timestamp('2022-12-05 00:00:00'): 4774285,\n",
              " Timestamp('2022-12-06 00:00:00'): 4429191,\n",
              " Timestamp('2022-12-07 00:00:00'): 5584564,\n",
              " Timestamp('2022-12-08 00:00:00'): 3478139,\n",
              " Timestamp('2022-12-09 00:00:00'): 3728867,\n",
              " Timestamp('2022-12-12 00:00:00'): 1708131,\n",
              " Timestamp('2022-12-13 00:00:00'): 2795058,\n",
              " Timestamp('2022-12-14 00:00:00'): 3341589,\n",
              " Timestamp('2022-12-15 00:00:00'): 3497566,\n",
              " Timestamp('2022-12-16 00:00:00'): 3281231,\n",
              " Timestamp('2022-12-19 00:00:00'): 2490554,\n",
              " Timestamp('2022-12-20 00:00:00'): 3709073,\n",
              " Timestamp('2022-12-21 00:00:00'): 2355258,\n",
              " Timestamp('2022-12-22 00:00:00'): 4970809,\n",
              " Timestamp('2022-12-23 00:00:00'): 2309190,\n",
              " Timestamp('2022-12-26 00:00:00'): 2912160,\n",
              " Timestamp('2022-12-27 00:00:00'): 2980407,\n",
              " Timestamp('2022-12-28 00:00:00'): 2427583,\n",
              " Timestamp('2022-12-29 00:00:00'): 1867650,\n",
              " Timestamp('2023-01-02 00:00:00'): 674776,\n",
              " Timestamp('2023-01-03 00:00:00'): 1588039,\n",
              " Timestamp('2023-01-04 00:00:00'): 3501562,\n",
              " Timestamp('2023-01-05 00:00:00'): 3151686,\n",
              " Timestamp('2023-01-06 00:00:00'): 3430186,\n",
              " Timestamp('2023-01-09 00:00:00'): 3157813,\n",
              " Timestamp('2023-01-10 00:00:00'): 3771027,\n",
              " Timestamp('2023-01-11 00:00:00'): 3079947,\n",
              " Timestamp('2023-01-12 00:00:00'): 4590733,\n",
              " Timestamp('2023-01-13 00:00:00'): 4163207,\n",
              " Timestamp('2023-01-16 00:00:00'): 3266757,\n",
              " Timestamp('2023-01-17 00:00:00'): 3198101,\n",
              " Timestamp('2023-01-18 00:00:00'): 3245989,\n",
              " Timestamp('2023-01-19 00:00:00'): 2998124,\n",
              " Timestamp('2023-01-20 00:00:00'): 3552952,\n",
              " Timestamp('2023-01-25 00:00:00'): 1411490,\n",
              " Timestamp('2023-01-26 00:00:00'): 1731612,\n",
              " Timestamp('2023-01-27 00:00:00'): 2269498,\n",
              " Timestamp('2023-01-30 00:00:00'): 4089522,\n",
              " Timestamp('2023-01-31 00:00:00'): 3110616,\n",
              " Timestamp('2023-02-01 00:00:00'): 2513925,\n",
              " Timestamp('2023-02-02 00:00:00'): 4278350,\n",
              " Timestamp('2023-02-03 00:00:00'): 4635869,\n",
              " Timestamp('2023-02-06 00:00:00'): 2613048,\n",
              " Timestamp('2023-02-07 00:00:00'): 2509609,\n",
              " Timestamp('2023-02-08 00:00:00'): 2941477,\n",
              " Timestamp('2023-02-09 00:00:00'): 3134582,\n",
              " Timestamp('2023-02-10 00:00:00'): 4537429,\n",
              " Timestamp('2023-02-13 00:00:00'): 3175638,\n",
              " Timestamp('2023-02-14 00:00:00'): 3835378,\n",
              " Timestamp('2023-02-15 00:00:00'): 3948415,\n",
              " Timestamp('2023-02-16 00:00:00'): 4873243,\n",
              " Timestamp('2023-02-17 00:00:00'): 5090381,\n",
              " Timestamp('2023-02-20 00:00:00'): 4789474,\n",
              " Timestamp('2023-02-21 00:00:00'): 3441883,\n",
              " Timestamp('2023-02-22 00:00:00'): 2868784,\n",
              " Timestamp('2023-02-23 00:00:00'): 2655238,\n",
              " Timestamp('2023-02-24 00:00:00'): 3248472,\n",
              " Timestamp('2023-02-27 00:00:00'): 3460909,\n",
              " Timestamp('2023-02-28 00:00:00'): 3755890,\n",
              " Timestamp('2023-03-02 00:00:00'): 4212024,\n",
              " Timestamp('2023-03-03 00:00:00'): 4787613,\n",
              " Timestamp('2023-03-06 00:00:00'): 7684520,\n",
              " Timestamp('2023-03-07 00:00:00'): 5439303,\n",
              " Timestamp('2023-03-08 00:00:00'): 4425528,\n",
              " Timestamp('2023-03-09 00:00:00'): 5001159,\n",
              " Timestamp('2023-03-10 00:00:00'): 5975088}"
            ]
          },
          "metadata": {},
          "execution_count": 48
        }
      ]
    },
    {
      "cell_type": "code",
      "source": [
        "pd.Series(d)"
      ],
      "metadata": {
        "colab": {
          "base_uri": "https://localhost:8080/"
        },
        "id": "tO3SQhY0Y7iK",
        "outputId": "efbfcece-8c23-4704-b43d-f01831f9e927"
      },
      "execution_count": 50,
      "outputs": [
        {
          "output_type": "execute_result",
          "data": {
            "text/plain": [
              "2020-12-08    1048978\n",
              "2020-12-09     775168\n",
              "2020-12-10     278461\n",
              "2020-12-11     449881\n",
              "2020-12-14     165223\n",
              "               ...   \n",
              "2023-03-06    7684520\n",
              "2023-03-07    5439303\n",
              "2023-03-08    4425528\n",
              "2023-03-09    5001159\n",
              "2023-03-10    5975088\n",
              "Length: 557, dtype: int64"
            ]
          },
          "metadata": {},
          "execution_count": 50
        }
      ]
    },
    {
      "cell_type": "code",
      "source": [
        "kospi, china"
      ],
      "metadata": {
        "colab": {
          "base_uri": "https://localhost:8080/"
        },
        "id": "MKHms8R9ZATj",
        "outputId": "8ce414d7-f4f0-473c-a625-3306bdbe26f2"
      },
      "execution_count": 53,
      "outputs": [
        {
          "output_type": "execute_result",
          "data": {
            "text/plain": [
              "(Date\n",
              " 2002-10-14     3719554\n",
              " 2002-10-15     3303231\n",
              " 2002-10-16     2942972\n",
              " 2002-10-17     3018929\n",
              " 2002-10-18     1906949\n",
              "                 ...   \n",
              " 2023-03-07     6041336\n",
              " 2023-03-08    10926009\n",
              " 2023-03-09     6727453\n",
              " 2023-03-10     8278301\n",
              " 2023-03-13      671613\n",
              " Name: Volume, Length: 5049, dtype: int64, Date\n",
              " 2020-12-08    1048978\n",
              " 2020-12-09     775168\n",
              " 2020-12-10     278461\n",
              " 2020-12-11     449881\n",
              " 2020-12-14     165223\n",
              "                ...   \n",
              " 2023-03-07    5439303\n",
              " 2023-03-08    4425528\n",
              " 2023-03-09    5001159\n",
              " 2023-03-10    5975088\n",
              " 2023-03-13     305122\n",
              " Name: Volume, Length: 558, dtype: int64)"
            ]
          },
          "metadata": {},
          "execution_count": 53
        }
      ]
    },
    {
      "cell_type": "code",
      "source": [
        "kospi - china # 공통 인덱스는 계산이 됨. 서로 둘 다 없는 인덱스는? NaN (Null, NA, 결축치)"
      ],
      "metadata": {
        "colab": {
          "base_uri": "https://localhost:8080/"
        },
        "id": "SKZQ3UdPZFOS",
        "outputId": "3473445f-7d3e-4593-f54b-6e070ed64745"
      },
      "execution_count": 56,
      "outputs": [
        {
          "output_type": "execute_result",
          "data": {
            "text/plain": [
              "Date\n",
              "2002-10-14          NaN\n",
              "2002-10-15          NaN\n",
              "2002-10-16          NaN\n",
              "2002-10-17          NaN\n",
              "2002-10-18          NaN\n",
              "                ...    \n",
              "2023-03-07     602033.0\n",
              "2023-03-08    6500481.0\n",
              "2023-03-09    1726294.0\n",
              "2023-03-10    2303213.0\n",
              "2023-03-13     366491.0\n",
              "Name: Volume, Length: 5049, dtype: float64"
            ]
          },
          "metadata": {},
          "execution_count": 56
        }
      ]
    },
    {
      "cell_type": "code",
      "source": [
        "s = kospi - china\n",
        "s"
      ],
      "metadata": {
        "colab": {
          "base_uri": "https://localhost:8080/"
        },
        "id": "esVY10JHZNDW",
        "outputId": "09ead69f-c752-478a-af83-e49edbe336d3"
      },
      "execution_count": 57,
      "outputs": [
        {
          "output_type": "execute_result",
          "data": {
            "text/plain": [
              "Date\n",
              "2002-10-14          NaN\n",
              "2002-10-15          NaN\n",
              "2002-10-16          NaN\n",
              "2002-10-17          NaN\n",
              "2002-10-18          NaN\n",
              "                ...    \n",
              "2023-03-07     602033.0\n",
              "2023-03-08    6500481.0\n",
              "2023-03-09    1726294.0\n",
              "2023-03-10    2303213.0\n",
              "2023-03-13     366491.0\n",
              "Name: Volume, Length: 5049, dtype: float64"
            ]
          },
          "metadata": {},
          "execution_count": 57
        }
      ]
    },
    {
      "cell_type": "code",
      "source": [
        "s[s.isnull()] # null인 값만 남기기"
      ],
      "metadata": {
        "colab": {
          "base_uri": "https://localhost:8080/"
        },
        "id": "yLLpmpSIZ4--",
        "outputId": "0f4fcf4f-04dd-41aa-a477-2fe858546b20"
      },
      "execution_count": 64,
      "outputs": [
        {
          "output_type": "execute_result",
          "data": {
            "text/plain": [
              "Date\n",
              "2002-10-14   NaN\n",
              "2002-10-15   NaN\n",
              "2002-10-16   NaN\n",
              "2002-10-17   NaN\n",
              "2002-10-18   NaN\n",
              "              ..\n",
              "2020-12-01   NaN\n",
              "2020-12-02   NaN\n",
              "2020-12-03   NaN\n",
              "2020-12-04   NaN\n",
              "2020-12-07   NaN\n",
              "Name: Volume, Length: 4491, dtype: float64"
            ]
          },
          "metadata": {},
          "execution_count": 64
        }
      ]
    },
    {
      "cell_type": "code",
      "source": [
        "s[s.notnull()] # 불리언 배열을 통해서 -> notnull만 남기기"
      ],
      "metadata": {
        "colab": {
          "base_uri": "https://localhost:8080/"
        },
        "id": "xMe21zrwZgU9",
        "outputId": "84f32f1f-c9d4-4c33-9658-e0c0bbe5768f"
      },
      "execution_count": 63,
      "outputs": [
        {
          "output_type": "execute_result",
          "data": {
            "text/plain": [
              "Date\n",
              "2020-12-08    12714435.0\n",
              "2020-12-09    13071574.0\n",
              "2020-12-10    11992268.0\n",
              "2020-12-11    10457238.0\n",
              "2020-12-14    14140566.0\n",
              "                 ...    \n",
              "2023-03-07      602033.0\n",
              "2023-03-08     6500481.0\n",
              "2023-03-09     1726294.0\n",
              "2023-03-10     2303213.0\n",
              "2023-03-13      366491.0\n",
              "Name: Volume, Length: 558, dtype: float64"
            ]
          },
          "metadata": {},
          "execution_count": 63
        }
      ]
    },
    {
      "cell_type": "code",
      "source": [
        "s.dropna() # dropna 메소드 -> 실제 값만 남기기(공통값)"
      ],
      "metadata": {
        "colab": {
          "base_uri": "https://localhost:8080/"
        },
        "id": "UiAFXC3MZjWV",
        "outputId": "b59f613c-1a0c-4092-b623-b946659683ea"
      },
      "execution_count": 62,
      "outputs": [
        {
          "output_type": "execute_result",
          "data": {
            "text/plain": [
              "Date\n",
              "2020-12-08    12714435.0\n",
              "2020-12-09    13071574.0\n",
              "2020-12-10    11992268.0\n",
              "2020-12-11    10457238.0\n",
              "2020-12-14    14140566.0\n",
              "                 ...    \n",
              "2023-03-07      602033.0\n",
              "2023-03-08     6500481.0\n",
              "2023-03-09     1726294.0\n",
              "2023-03-10     2303213.0\n",
              "2023-03-13      366491.0\n",
              "Name: Volume, Length: 558, dtype: float64"
            ]
          },
          "metadata": {},
          "execution_count": 62
        }
      ]
    },
    {
      "cell_type": "code",
      "source": [
        "s"
      ],
      "metadata": {
        "colab": {
          "base_uri": "https://localhost:8080/"
        },
        "id": "LplbiaqTZniR",
        "outputId": "29900ce3-d98e-4979-b56c-da09024b376d"
      },
      "execution_count": 60,
      "outputs": [
        {
          "output_type": "execute_result",
          "data": {
            "text/plain": [
              "Date\n",
              "2002-10-14          NaN\n",
              "2002-10-15          NaN\n",
              "2002-10-16          NaN\n",
              "2002-10-17          NaN\n",
              "2002-10-18          NaN\n",
              "                ...    \n",
              "2023-03-07     602033.0\n",
              "2023-03-08    6500481.0\n",
              "2023-03-09    1726294.0\n",
              "2023-03-10    2303213.0\n",
              "2023-03-13     366491.0\n",
              "Name: Volume, Length: 5049, dtype: float64"
            ]
          },
          "metadata": {},
          "execution_count": 60
        }
      ]
    },
    {
      "cell_type": "markdown",
      "source": [
        "\n",
        "---\n"
      ],
      "metadata": {
        "id": "W_PGQM9EaFNf"
      }
    },
    {
      "cell_type": "code",
      "source": [
        "a"
      ],
      "metadata": {
        "colab": {
          "base_uri": "https://localhost:8080/"
        },
        "id": "nrWAj90naEsW",
        "outputId": "f21ba500-319b-46a4-a97c-ec03196baaba"
      },
      "execution_count": 66,
      "outputs": [
        {
          "output_type": "execute_result",
          "data": {
            "text/plain": [
              "069500                KODEX 200\n",
              "357870      TIGER CD금리투자KIS(합성)\n",
              "423160      KODEX KOFR금리액티브(합성)\n",
              "371460    TIGER 차이나전기차SOLACTIVE\n",
              "252670         KODEX 200선물인버스2X\n",
              "                  ...          \n",
              "376250         ARIRANG 탄소효율그린뉴딜\n",
              "433870       ARIRANG TDF2050액티브\n",
              "315480      KBSTAR 200커뮤니케이션서비스\n",
              "287330          KBSTAR 200생활소비재\n",
              "287320            KBSTAR 200산업재\n",
              "Length: 678, dtype: object"
            ]
          },
          "metadata": {},
          "execution_count": 66
        }
      ]
    },
    {
      "cell_type": "code",
      "source": [
        "a['069500'] = 'KODEX 코스피 200'\n",
        "a"
      ],
      "metadata": {
        "colab": {
          "base_uri": "https://localhost:8080/"
        },
        "id": "mm_7pR0HaH8t",
        "outputId": "d54e07d0-190b-45fd-a639-b85347b06ccd"
      },
      "execution_count": 67,
      "outputs": [
        {
          "output_type": "execute_result",
          "data": {
            "text/plain": [
              "069500            KODEX 코스피 200\n",
              "357870      TIGER CD금리투자KIS(합성)\n",
              "423160      KODEX KOFR금리액티브(합성)\n",
              "371460    TIGER 차이나전기차SOLACTIVE\n",
              "252670         KODEX 200선물인버스2X\n",
              "                  ...          \n",
              "376250         ARIRANG 탄소효율그린뉴딜\n",
              "433870       ARIRANG TDF2050액티브\n",
              "315480      KBSTAR 200커뮤니케이션서비스\n",
              "287330          KBSTAR 200생활소비재\n",
              "287320            KBSTAR 200산업재\n",
              "Length: 678, dtype: object"
            ]
          },
          "metadata": {},
          "execution_count": 67
        }
      ]
    },
    {
      "cell_type": "code",
      "source": [
        "del a['371460']\n",
        "a"
      ],
      "metadata": {
        "colab": {
          "base_uri": "https://localhost:8080/"
        },
        "id": "GBHti0jTaOqi",
        "outputId": "230a8ae6-d45f-411e-bf01-08ad35d56edc"
      },
      "execution_count": 70,
      "outputs": [
        {
          "output_type": "execute_result",
          "data": {
            "text/plain": [
              "069500           KODEX 코스피 200\n",
              "357870     TIGER CD금리투자KIS(합성)\n",
              "252670        KODEX 200선물인버스2X\n",
              "273130    KODEX 종합채권(AA-이상)액티브\n",
              "133690          TIGER 미국나스닥100\n",
              "                  ...         \n",
              "376250        ARIRANG 탄소효율그린뉴딜\n",
              "433870      ARIRANG TDF2050액티브\n",
              "315480     KBSTAR 200커뮤니케이션서비스\n",
              "287330         KBSTAR 200생활소비재\n",
              "287320           KBSTAR 200산업재\n",
              "Length: 676, dtype: object"
            ]
          },
          "metadata": {},
          "execution_count": 70
        }
      ]
    },
    {
      "cell_type": "code",
      "source": [
        "import requests"
      ],
      "metadata": {
        "id": "axDXjrVXaRcn"
      },
      "execution_count": 76,
      "outputs": []
    },
    {
      "cell_type": "markdown",
      "source": [
        "https://search.naver.com/search.naver?where=news&query=%EB%A6%AC%ED%8A%AC&sm=tab_opt&sort=1&photo=0&field=0&pd=0&ds=&de=&docid=&related=0&mynews=0&office_type=0&office_section_code=0&news_office_checked=&nso=so%3Add%2Cp%3Aall&is_sug_officeid=0"
      ],
      "metadata": {
        "id": "fJi2ARStcDKj"
      }
    },
    {
      "cell_type": "code",
      "source": [
        "url = 'https://search.naver.com/search.naver?where=news&query=%EB%A6%AC%ED%8A%AC&'\n",
        "url_ = 'https://search.naver.com/search.naver'\n",
        "where = 'news'\n",
        "query = '%EB%A6%AC%ED%8A%AC'\n",
        "sort = 1\n",
        "url = f'{url_}?where = {where}&query = {query}&sort={sort}'\n",
        "\n",
        "response = requests.get(url)\n",
        "response"
      ],
      "metadata": {
        "colab": {
          "base_uri": "https://localhost:8080/"
        },
        "id": "USDeDXNDajQD",
        "outputId": "5665bc50-1b71-44ff-9079-01f6fb913b03"
      },
      "execution_count": 80,
      "outputs": [
        {
          "output_type": "execute_result",
          "data": {
            "text/plain": [
              "<Response [200]>"
            ]
          },
          "metadata": {},
          "execution_count": 80
        }
      ]
    },
    {
      "cell_type": "code",
      "source": [
        "response.text"
      ],
      "metadata": {
        "colab": {
          "base_uri": "https://localhost:8080/",
          "height": 268
        },
        "id": "WOYPxptTdEEN",
        "outputId": "11393a4a-cf14-4e52-af72-44654b01fb1e"
      },
      "execution_count": 81,
      "outputs": [
        {
          "output_type": "execute_result",
          "data": {
            "text/plain": [
              "'<!doctype html> <html lang=\"ko\"> <head> <meta charset=\"utf-8\"> <meta name=\"referrer\" content=\"always\">  <meta name=\"format-detection\" content=\"telephone=no,address=no,email=no\"> <meta name=\"viewport\" content=\"width=device-width,initial-scale=1.0,maximum-scale=2.0\"> <meta property=\"og:title\" content=\" : 네이버 통합검색\"/> <meta property=\"og:image\" content=\"https://ssl.pstatic.net/sstatic/search/common/og_v3.png\"> <meta property=\"og:description\" content=\"\\'\\'의 네이버 통합검색 결과입니다.\"> <meta name=\"description\" lang=\"ko\" content=\"\\'\\'의 네이버 통합검색 결과입니다.\"> <title> : 네이버 통합검색</title> <link rel=\"shortcut icon\" href=\"https://ssl.pstatic.net/sstatic/search/favicon/favicon_191118_pc.ico\">  <link rel=\"search\" type=\"application/opensearchdescription+xml\" href=\"https://ssl.pstatic.net/sstatic/search/opensearch-description.https.xml\" title=\"Naver\" /><link rel=\"stylesheet\" type=\"text/css\" href=\"https://ssl.pstatic.net/sstatic/search/pc/css/search1_230216.css\"> <link rel=\"stylesheet\" type=\"text/css\" href=\"https://ssl.pstatic.net/sstatic/search/pc/css/search2_230209.css\"> <link rel=\"stylesheet\" type=\"text/css\" href=\"https://ssl.pstatic.net/sstatic/search/pc/css/sp_autocomplete_220526.css\"><script type=\"text/javascript\"> if (!String.prototype.trim) { String.prototype.trim = function () { return this.replace(/^[\\\\s\\\\uFEFF\\\\xA0]+|[\\\\s\\\\uFEFF\\\\xA0]+$/g, \\'\\'); }; } if (!Array.prototype.indexOf) { Array.prototype.indexOf = function(searchElement, fromIndex) { var k; if (this == null) { throw new TypeError(\\'\"this\" is null or not defined\\'); } var o = Object(this); var len = o.length >>> 0; if (len === 0) { return -1; } var n = fromIndex | 0; if (n >= len) { return -1; } k = Math.max(n >= 0 ? n : len - Math.abs(n), 0); while (k < len) { if (k in o && o[k] === searchElement) { return k; } k++; } return -1; }; } if (!Array.prototype.filter) { Array.prototype.filter = function(func, thisArg) { \\'use strict\\'; if (!((typeof func === \\'Function\\' || typeof func === \\'function\\') && this)) throw new TypeError(); var len = this.length >>> 0, res = new Array(len), t = this, c = 0, i = -1; var kValue; if (thisArg === undefined) { while (++i !== len) { if (i in this) { kValue = t[i]; if (func(t[i], i, t)) { res[c++] = kValue; } } } } else { while (++i !== len) { if (i in this) { kValue = t[i]; if (func.call(thisArg, t[i], i, t)) { res[c++] = kValue; } } } } res.length = c; return res; }; } if (typeof(encodeURIComponent) != \"function\") { encodeURIComponent = function (s) { function toHex (n) { var hexchars = \"0123456789ABCDEF\" ; return \"%%\" + hexchars.charAt(n>>4) + hexchars.charAt(n&0xF) ; } var es = \"\" ; for (var i = 0; i < s.length;) { var c = s.charCodeAt(i++) ; if ((c&0xF800) == 0xD800) { var sc = s.charCodeAt(i++) ; c = ((c-0xD800)<<10) + (sc-0xDC00) + 0x10000 ; } if (!(c&~0x7F)) { if ((c>=65&&c<=90) || (c>=97&&c<=122) || (c>=48&&c<=57) || (c>=45&&c<=46) || c==95 || c==33 || c==126 || (c>=39&&c<=42)) es += String.fromCharCode(c) ; else es += toHex(c) ; } else if (!(c&~0x7FF)) es += toHex(0xC0+(c>>6)) + toHex(c&0x3F) ; else if (!(c&~0xFFFF)) es += toHex(0xE0+(c>>12)) + toHex(0x80+(c>>6&0x3F)) + toHex(0x80+(c&0x3F)) ; else es += toHex(0xF0+(c>>18)) + toHex(0x80+(c>>12&0x3F)) + toHex(0x80+(c>>6&0x3F)) + toHex(0x80+(c&0x3F)) ; } return es ; } } naver = window.naver || {}; naver.search = naver.search || {}; naver.search.abt_param = \"\"; var g_D = 0 ; naver.search.error = (function () { var errorList = Array() ; return { add : function (s) { errorList.push(s) ; }, clear : function () { delete errorList ; }, get : function (s) { return errorList ; }, getString : function (d) { if (typeof d === \\'undefined\\') d = \\'|\\' ; return errorList.join(d) ; } } })(); naver.search.cookie = (function () { return { set : function (key, value, expire, domain) { var cookie = key + \"=\" + escape(value); if (typeof expire !== \\'undefined\\') { if (expire instanceof Date) { cookie = cookie + \"; expires=\" + expire.toUTCString(); } else { var exdate = new Date((new Date()).getTime() + expire*1000); cookie = cookie + \"; expires=\" + exdate.toUTCString(); } } cookie = cookie + \"; path=/\"; if (domain != null) { cookie = cookie + \"; domain=\" + domain; } document.cookie = cookie; }, get : function (key) { var cookie_list = document.cookie.split(/\\\\s*;\\\\s*/); for (var i = 0; i < cookie_list.length; i++) { var tmp_list = cookie_list[i].split(\"=\"); var c_key = tmp_list[0].trim(); var c_value = tmp_list[1]; if (key == c_key) { return unescape(c_value); } } return null; } } })(); naver.search.https = window.location.protocol == \"https:\"; naver.search.meta_referrer = 0; var _nx_js_load = (function () { var scrs = {} ; return function (script, callback) { scrs[script] = {} ; scrs[script].domscript = document.createElement(\\'script\\'); scrs[script].domscript.src = script ; if (callback) scrs[script].callback = (callback instanceof Array) ? callback : [callback]; scrs[script].domscript.onloadDone = false; scrs[script].domscript.onload = function() { scrs[script].domscript.onloadDone = true; if (scrs[script].callback) { for (var i = 0; i < scrs[script].callback.length; i++) { scrs[script].callback[i]() ; } } scrs[script].domscript.onload = scrs[script].domscript.onreadystatechange = null; } ; scrs[script].domscript.onreadystatechange = function() { if ( (\"loaded\" === scrs[script].domscript.readyState || \"complete\" === scrs[script].domscript.readyState) && !scrs[script].domscript.onloadDone ) { scrs[script].domscript.onload(); } } ; document.getElementsByTagName(\\'head\\')[0].appendChild(scrs[script].domscript); }; })() ; var nx_js_defer_load = (function() { var info = {} ; return function(scrname, callback, t) { var nx_load_once = (function() { return function(scrname) { if (info[scrname].t > 0) setTimeout(function() { _nx_js_load(scrname, info[scrname].callback) ; }, t) ; else _nx_js_load(scrname, info[scrname].callback) ; } ; })(); if (t < 0) t = 0 ; if (info[scrname]) { n = info[scrname].length; for (var i = 0; i < n; i++) { if (info[scrname][i] == callback) return ; } if (t < info[scrname].t) info[scrname].t = t ; } else { info[scrname] = {} ; info[scrname].callback = [] ; info[scrname].t = t ; jindo.$Fn(function() { nx_load_once(scrname) ; }).attach(window, \"load\") ; } info[scrname].callback.push(callback) ; }; })(); function nx_js_lazyload(scripts, onload, is_serial) { if (!(scripts instanceof Array)) { scripts = [scripts]; } if (is_serial) { function load_next() { if (scripts.length == 0) { onload(); return; } _nx_js_load( scripts.shift(), load_next ) ; } load_next(); } else { var load_check = function() { var num_js = scripts.length; return function() { num_js--; if (num_js <= 0) { onload(); } } }(); for (var i = 0; i < scripts.length; i++) { _nx_js_load( scripts[i], load_check ) ; } } } function nx_defer_eval (id) { var codeElement = document.getElementById(id), code = codeElement.innerHTML; eval(code.replace(/\\\\/\\\\*/, \\'\\').replace(/\\\\*\\\\//, \\'\\')); } </script><script> try { document.execCommand(\\'BackgroundImageCache\\', false, true); } catch(e) {} if (top.frames.length!=0 || window!=top) window.open(location, \"_top\") ; naver = window.naver || {}; naver.search = naver.search || {}; naver.search.ext = naver.search.ext || {}; naver.search.map_api = { v2 : \"https://ssl.pstatic.net/sstatic.map/openapi/openapi_v23.js\", v3 : \"https://ssl.pstatic.net/sstatic.map/openapi/maps3.js\" } ; var nx_au_cookie_domain = \"search.naver.com\" ; var nx_mobile_agent = 0 ; var headerfooter_query = \"\" ; var headerfooter_query_encoded = \"\" ; var headerfooter_time_year = 2023 ; var headerfooter_time_month = 3 ; var headerfooter_time_day = 13 ; var headerfooter_time_hour = 9 ; var headerfooter_time_minute = 52 ; var headerfooter_time_second = 24 ; var headerfooter_time_wday = 1 ; var headerfooter_time_year_s = \"2023\" ; var headerfooter_time_month_s = \"03\" ; var headerfooter_time_day_s = \"13\" ; var headerfooter_time_hour_s = \"09\" ; var headerfooter_time_minute_s = \"52\" ; var headerfooter_time_second_s = \"24\" ; var headerfooter_time_wday_s = \"1\" ; var g_ssc = \"tab.nx.all\" ; var g_query = \"\" ; var g_puid = \"isHzysp0JXVssvBed8ZssssstA0-076061\" ; var g_suid = \"/OWqENzLK7Sqve22S2Ml9A==\" ; var g_tab = \"nexearch\" ; var g_stab = \"nexearch\" ; var g_crt = naver.search.abt_param; var g_nx_splugin ; document.documentElement.setAttribute(\\'data-useragent\\', window.navigator.userAgent.toLowerCase()) ; document.documentElement.setAttribute(\\'data-platform\\', window.navigator.platform.toLowerCase()) ; var g_er_image, g_er_count = 0 ; function g_er (msg) { if (g_er_count++ > 0) return ; g_er_image = new Image() ; g_er_image.src = \"http://er.search.naver.com/er?f=\"+g_tab+\"&w=\"+g_stab+\"&q=&u=\"+encodeURIComponent(document.location)+\"&m=\"+encodeURIComponent(msg) ; } function trim_space (q) { var head_re = /^ */; var tail_re = / *$/; q = q.replace(head_re, \"\"); q = q.replace(tail_re, \"\"); return q; } function trim_crlf (q) { var crlf = /[\\\\r|\\\\n]/ ; q = q.replace(crlf, \"\") ; return q ; } function include_script (type, defer, src, charset) { var script = document.createElement(\"script\") ; script.type = type, script.defer = defer ; script.src = src ; if (charset) script.charset = charset ; else script.charset = \\'utf-8\\' ; document.getElementsByTagName(\\'head\\')[0].appendChild(script) ; return script ; } function include_style (src, charset) { var h = document.getElementsByTagName(\"head\")[0] ; var l = document.createElement(\\'link\\') ; l.type = \\'text/css\\' ; l.rel = \\'stylesheet\\' ; if (charset) l.charset = charset ; else l.charset = \\'utf-8\\' ; l.media = \\'screen\\' ; l.href = src ; h.appendChild(l) ; } function bt (id, after) { document.getElementById(id).src = after ; } function urlencode (q) { return encodeURIComponent(q).replace(/%20/g, \"+\").replace(/[!~\\'()]/g, function(c) { return \\'%\\' + c.charCodeAt(0).toString(16).toUpperCase() ; }); } function urldecode (q) { return decodeURIComponent(q.replace(/\\\\+/g, \" \")); } function urlexpand (url) { var href = document.location.href ; if (url == \"\") return href ; if (url.match(/^[-.A-Za-z]+:/)) return url ; if (url.charAt(0) == \\'#\\') return href.split(\"#\")[0] + url ; if (url.charAt(0) == \\'?\\') return href.split(\"?\")[0] + url ; if (url.charAt(0) == \\'/\\') return href.replace(/([^:\\\\/])\\\\/.*$/, \"$1\") + url ; return href.substring(0, href.lastIndexOf(\"/\")+1) + url ; } function tt_sub_disable (o) { if (typeof(o.tt_sub) == \"undefined\") return false ; if ((typeof(o.tt_sub) == \"object\") && (o.tt_sub.length)) { var i ; for (var i=0; i<o.tt_sub.length; i++) o.tt_sub[i].disabled = true ; } else o.tt_sub.disabled = true ; return true ; } function cpip () { var evt, sx = sy = px = py = -1 ; try { evt = window.event ; } catch (e) {} try { sx=evt.clientX-document.body.clientLeft, sy=evt.clientY-document.body.clientTop ; } catch (e) {} try { px=document.body.scrollLeft+(sx<0?0:sx), py=document.documentElement.scrollTop+(sy<0?0:sy) ; } catch (e) {} try { if (evt.pageX) px=evt.pageX ; if (evt.pageY) py=evt.pageY ; } catch (e) {} return \"px=\"+px+\"&py=\"+py+\"&sx=\"+sx+\"&sy=\"+sy ; } function nxGetCommonCRParam () { return \"p=\"+urlencode(g_puid)+\"&q=\"+urlencode(g_query)+\"&ie=utf8&rev=1&ssc=\"+urlencode(g_ssc)+\"&f=\"+urlencode(g_tab)+\"&w=\"+urlencode(g_stab)+\"&s=\"+urlencode(g_suid)+\"&time=\"+urlencode((new Date()).getTime())+g_crt ; } function getCRRankingByParam (p, info) { if (typeof info == \\'undefined\\' || info == null) return 0 ; var cr = 0 ; try { var y, z ; var y = p.split(\\'&\\') ; for (var i = 0; i < y.length; i++) { if (z = y[i].split(\\'=\\')) { if (z[0] == \\'a\\') { for (var j = 0; j < info.length; j++) { var a = info[j].area.split(/[*.]/)[0]; if (z[1].substr(0, a.length) == a) { cr = j + 1 ; break ; } } break ; } } } } catch (e) { } return cr ; } function getCRRanking (p) { var cr = 0 ; if (typeof naver.search.section == \\'undefined\\') return cr ; if (typeof naver.search.section.main != \\'undefined\\') cr = getCRRankingByParam(p, naver.search.section.main) ; if (cr) return cr ; if (typeof naver.search.section.main2 != \\'undefined\\') cr = getCRRankingByParam(p, naver.search.section.main2) ; return cr ; } function isOutlink (u) { if (!u || u.indexOf(\"://\") < 0) return false; var b = (u.search(/^\\\\w*:\\\\/\\\\/([^:/?]*\\\\.|)*(?!(ad)?cr\\\\.)[^.:/?]+\\\\.+naver\\\\.com(:\\\\d*)?(\\\\/|$)/) < 0);  return b; } function nxGetCRURL (m, a, b, c, d, e) { var p = \"\" ; var u ; if (c==undefined && d==undefined && e==undefined) { p = (a==undefined?\"\":\"&\"+a) + (b==undefined || a.indexOf(\"u=\")==0 || a.indexOf(\"&u=\") > 0 ?\"\":\"&u=\"+urlencode(b)) ; u = b ; } else { p = (a==undefined ? \"\" : \"&a=\"+urlencode(a)) + (b==undefined ? \"\" : \"&r=\"+urlencode(b)) + (c==undefined ? \"\" : \"&i=\"+urlencode(c)) + (d==undefined ? \"\" : \"&u=\"+urlencode(d)) + (e==undefined ? \"\" : \"&\"+e) ; u = d ; } if (! p) return null ; if (0 && u && u.indexOf(\"/search.naver?\") >= 0) { var r = /((?:^|&)u=)([^&]*%2Fsearch.naver%3F(?:[^%&]|%[^2]|%2[^3])*)/; var pu = p.match(r); pu = pu && pu[2] ? pu[2] : \\'\\';  p = p.replace(r, \\'$1\\' + pu); } var url ; if (naver.search.https) { url = (naver.search.meta_referrer ? \"/p/crd\" : \"/p/cr\") + \"/rd\"; if (m != 0) m = 1; } else { out = isOutlink(u); url = \"http://cr.naver.com\" + (g_D && out ? \"/nr\" : \"/rd\"); if (m != 0) m = g_D && out ? 2 : 1; } url += \"?m=\" + m + \"&\" + cpip() + \"&\" + nxGetCommonCRParam() + p; return url; } function tCR (a, b, c, d, e) { var l = nxGetCRURL(0, a, b, c, d, e) ; var cr = getCRRanking(l) ; if (cr > 0) l = l + \"&cr=\" + cr ; if (document.images) (new Image()).src = l ; else document.location = l ; return false ; } function gCR (u, a, r, i, e, t) { if (u) u = urlexpand(u) ; var l = nxGetCRURL(1, a, r, i, u, e) ; var o = document.createElement(\"a\") ; var cr = getCRRanking(l) ; if (cr > 0) l = l + \"&cr=\" + cr ; if (o.click) { o.href = l ; o.style.display = \"none\" ; document.body.appendChild(o) ; o.click() ; } else document.location = l ; } function goCR (o, p, t) { var p0 = o.getAttribute && o.getAttribute(\"crp\"), u = o.href, u0 = u ; if (p0 && u.indexOf(p0)>0 && u.match(/\\\\/(rd|nr)\\\\?/)) { u = u0 = o.getAttribute && o.getAttribute(\"cru\") || u ; p = p0 ; } p0 = p ; tt_sub_disable(o) ; if (p.indexOf(\"u=javascript\") >= 0) t = true ; /* no frame/iframe but new window */ var n = (o.ownerDocument==document && o.target && o.target!=\"_self\" && o.target!=\"_parent\" && o.target!=\"_top\") && !(window.location.protocol&&window.location.protocol.indexOf(\"https:\")==0) ; var cr = getCRRanking(p) ; if (cr > 0) p = p + \"&cr=\" + cr ;  u = nxGetCRURL(t?0:(n?-1:1), p, u) ; if (u && !u.match(/m=0&/)) { if (o.setAttribute) { if (p0) o.setAttribute(\"crp\", p0) ; if (u0) o.setAttribute(\"cru\", u0) ; if (g_D && naver.search.https && naver.search.meta_referrer && o.href && isOutlink(o.href)) o.setAttribute(\"rel\", \"noreferrer\"); } var a = o.innerHTML ; o.href = u ; if (o.innerHTML != a) o.innerHTML = a ; } else if (document.images) (new Image()).src = u ; return true ; } function goOtherCR (o, p) { return goCR(o, p, false) ; } function goOtherTCR (o, p) { return goCR(o, p, true) ; } function get_form_url (o) { var url = o.getAttribute(\"action\") ; if (url == null) url = \"\" ; var e, n = 0 ; for (var i=0; i<o.elements.length; i++) { e = o.elements[i] ; if (e.disabled || !e.name) continue ; url += (n++>0?\"&\":url.indexOf(\"?\")<0?\"?\":url.indexOf(\"?\")<url.length-1?\"&\":\"\") + encodeURIComponent(e.name) + \"=\" + encodeURIComponent(e.value) ; } return url ; } function formCR (o, area, rank, id) { if (typeof o == \\'string\\') o = document.getElementById(o) ; var target = o.getAttribute(\"target\") ; if (target && target!=\"_self\" && target!=\"_parent\" && target!=\"_top\" || /^post$/i.test(o.getAttribute(\"method\"))) { tCR(area, rank, id) ; o.submit() ; return false ; } var url = get_form_url(o) ; var a = document.createElement(\"a\") ; a.href = url ; var p = area != undefined ? \"a=\" + area : \"\" ; if (rank != undefined) p += (p?\"&\":\"\") + \"r=\" + encodeURIComponent(rank) ; if (id != undefined) p += (p?\"&\":\"\") + \"i=\" + encodeURIComponent(id) ; if (url != undefined) p += (p?\"&\":\"\") + \"u=\" + encodeURIComponent(urlexpand(url)) ; goCR(a, p) ; if (navigator.userAgent.indexOf(\\'MSIE\\') > 0) { a.style.display = \\'none\\' ; o.appendChild(a) ; a.click() ; } else document.location = a.href ; return false ; } function rank_val (rank, name, sign, number, ad_onair) { this.rank = rank ; this.name = name ; this.sign = sign ; this.number = number ; this.ad_onair = ad_onair ; } function rr_hotquery_val (titleImg, totalLink, ad_onair) { this.titleImg = titleImg ; this.totalLink = totalLink ; this.ad_onair = ad_onair ; } function rr_append () { for (var i=0; i<rr_list.length; i++) if (rr_list[i].qname==hotqry_Name && rr_list[i].dir==hotqry_Dir) return 0 ; var o = { order:hotqry_Order, contid:hotqry_ContID, qname:hotqry_Name, dir:hotqry_Dir, toprank:hotqry_TopRank, rankdown:hotqry_RankDown, clicklog:hotqry_ClickLog, toprank_idx:toprank_idx, lowrank_idx:lowrank_idx, topranklist:toprank, lowranklist:lowrank_idx>=0?lowrank:null } ; rr_list = rr_list.concat(o) ; return 1 ; } var msg_hidden_idle=null; function msg (id) { if(msg_hidden_idle) clearInterval(msg_hidden_idle); if(id) { var mid=document.getElementById(id); mid.style.display=\\'\\'; mid.style.visibility=\\'visible\\'; } } function msg_hidden (id, f) { if(f) hidden(id); else msg_hidden_idle=setInterval(\"hidden(\\'\"+id+\"\\')\",100); } function hidden (id) { var mid=document.getElementById(id); mid.style.display=\\'none\\'; mid.style.visibility=\\'hidden\\'; } function nx_check_basic () { return ; } function nx_set_cookie (name, value, expire, domain) { var cookie = name + \"=\" + escape(value); if (expire != null) { if (expire instanceof Date) { cookie = cookie + \"; expires=\" + expire.toUTCString(); } else { var exdate = new Date((new Date()).getTime() + expire*1000); cookie = cookie + \"; expires=\" + exdate.toUTCString(); } } cookie = cookie + \"; path=/\"; if (domain != null) { cookie = cookie + \"; domain=\" + domain; } document.cookie = cookie; } function nx_get_cookie (name) { var cookie_list = document.cookie.split(/\\\\s*;\\\\s*/); for (var i = 0; i < cookie_list.length; i++) { var tmp_list = cookie_list[i].split(\"=\"); var c_name = trim_space(tmp_list[0]); var c_value = tmp_list[1]; if (name == c_name) { return unescape(c_value); } } return null; } var nx_default_charset = document.charset ; function nx_form_emul_charset (form) { if (/msie/i.test(navigator.userAgent) && !/opera/i.test(navigator.userAgent)) { document.charset = form.acceptCharset ; window.onbeforeunload = function () { document.charset = nx_default_charset ; } ; } return true; } (function() { function ignore(e) { var tagName = e.target.tagName.toUpperCase(); var ignoreTargets = [\"INPUT\", \"SELECT\", \"TEXTAREA\", \"EMBED\", \"OBJECT\"]; var isKeyV = e.key.toLowerCase() === \"v\"; if (ignoreTargets.indexOf(tagName) !== -1 || isContentEditable(e)) return true; else if (e.altKey) return true; else if (e.ctrlKey && !isKeyV) return true; else if (e.metaKey && !isKeyV) return true; else if (isSpaceKey(e)) return true; return false; } function isContentEditable(e) { return e.target.contentEditable === \\'true\\'; } function stop(e) { e.preventDefault(); e.stopPropagation(); } function focus(reset) { var query = document.getElementById(\"nx_query\"); scrollTo(0, 0); if (reset) query.value = \"\"; query.focus(); query.select(); } function isSpaceKey(e) { return e.code === \"Space\" || e.key === \"Spacebar\" || e.key === \" \"; } function isShiftKeyAndSpaceKey(e) { return e.shiftKey && isSpaceKey(e); } function isF2Key(e) { return e.key === \"F2\"; } function isInsertKey(e) { return e.key === \"Insert\" || e.code === \"Insert\"; } function isSingleCharKey(e) { return e.key.length === 1; } document.addEventListener(\"keydown\", function onKeydown(e) { try { if (ignore(e)) return; if (isShiftKeyAndSpaceKey(e) || isF2Key(e) || isInsertKey(e)) { stop(e); focus(); } else if (isSingleCharKey(e)) { focus(true); } } catch (err) {} }); })(); (function(exportTarget) { var lcs_options = { nnb: true }; var lcs_version = \"v0.8.3\"; var lcs_add = {}; var lcs_bc = {}; var lcs_perf = {}; var lcs_do_count = 0; var lcs_do_retry_count = 0; var lcs_waiting_pageshow = false; function lcs_do(optional_etc) { var etc = optional_etc || {}; if (lcs_waiting_pageshow) { return; } var retry = function(__etc) { return function() { window.setTimeout(function() { lcs_waiting_pageshow = false; lcs_do(__etc); }, 10); } }(etc); if (document.readyState !== \"complete\") { var eventName = \"onpageshow\" in window ? \"pageshow\" : \"load\"; if (document.addEventListener) { window.addEventListener(eventName, retry, false); } else { window.attachEvent(\"on\"+ eventName, retry); } lcs_do_retry_count++; lcs_waiting_pageshow = true; return; } if (!window.lcs_SerName) { window.lcs_SerName = \"lcs.naver.com\"; } var rs = \"\"; var index; var itarVal; var doc = document; var wlt = window.location; var lcsServerAddr; try { lcsServerAddr = \"https://\" + window.lcs_SerName + \"/m?\"; } catch (e) { return; } try { rs = lcsServerAddr + \"u=\" + encodeURIComponent(wlt.href) + \"&e=\" + (doc.referrer ? encodeURIComponent(doc.referrer) : \"\"); } catch (e) {} try { if (typeof lcs_add.i == \"undefined\") lcs_add.i = \"\"; if (lcs_do_count < 1) { lcs_setBrowserCapa(); if (lcs_options.nnb) { lcs_setNNB(); } lcs_setConnectionType(); lcs_setNavigationTiming(); var loadEventStart = lcs_perf[\"loadEventStart\"] || 0; var loadEventEnd = lcs_perf[\"loadEventEnd\"] || 0; if (loadEventEnd < loadEventStart && lcs_do_retry_count < 3) { lcs_do_retry_count++; lcs_waiting_pageshow = true; retry(); return; } lcs_setPaintTiming(); lcs_setNavigationType(); } for (index in lcs_bc) { if (typeof lcs_bc[index] !== \"function\") rs += \"&\" + index + \"=\" + encodeURIComponent(lcs_bc[index]); } for (index in lcs_add) { itarVal = lcs_add[index]; if (itarVal !== undefined && typeof itarVal !== \"function\") { rs += \"&\" + index + \"=\" + encodeURIComponent(itarVal); } } if (lcs_do_count < 1) { for (index in lcs_perf) { itarVal = lcs_perf[index]; if (itarVal) { rs += \"&\" + index + \"=\" + encodeURIComponent(itarVal); } } } var dni = !!etc.dni ? etc.dni : getCookie(\"NAPP_DI\"); if (!!dni) { etc.dni = dni; } else { delete etc.dni; } for (index in etc) { if ( (index.length >= 3 && typeof etc[index] !== \"function\") || index === \"qy\" ) { rs += \"&\" + index + \"=\" + encodeURIComponent(etc[index]); } } if (!!etc === false || !!etc.pid === false) { var pidFallback; if (window.g_pid) { pidFallback = g_pid; } else { pidFallback = lcs_get_lpid(); } rs += \"&pid=\" + encodeURIComponent(pidFallback); } var timeStr = new Date().getTime(); rs += \"&ts=\" + timeStr; rs += \"&EOU\"; var obj = document.createElement(\"img\"); obj.src = rs; obj.onload = function() { obj.onload = null; return; }; lcs_do_count++; } catch (e) { return; } } function getCookie(name) { var value = document.cookie.match(\\'(^|;) ?\\' + name + \\'=([^;]*)(;|$)\\'); return value? value[2] : \"\"; } function lcs_do_gdid(gdid, etc) { try { if (gdid) { lcs_add[\"i\"] = gdid; if (etc) { lcs_do(etc); } else { lcs_do(); } } } catch (e) {} } function getLocalStorage() { var localStorage = null; try { localStorage = window.localStorage; } catch (e) {} try { if (!localStorage) localStorage = window.sessionStorage; } catch (e) {} return localStorage || null; } function lcs_setNNB() { try { var lsg = getLocalStorage(); if (lsg) { if (lsg.ls) { var lc = lsg.ls; if (lc.length == 13) { lcs_add[\"ls\"] = lc; return; } } var nnb = lcs_getNNBfromCookie(); if (nnb != null && nnb != \"\") { lsg.ls = nnb; lcs_add[\"ls\"] = nnb; } } } catch (e) {} } function lcs_setBrowserCapa() { lcs_bc[\"os\"] = lcs_getOS(); lcs_bc[\"ln\"] = lcs_getlanguage(); lcs_bc[\"sr\"] = lcs_getScreen(); lcs_bc[\"pr\"] = window.devicePixelRatio || 1; var windowSize = lcs_getWindowSize(); lcs_bc[\"bw\"] = windowSize[\"bw\"]; lcs_bc[\"bh\"] = windowSize[\"bh\"]; lcs_bc[\"c\"] = lcs_getColorDepth(); lcs_bc[\"j\"] = lcs_getJavaEnabled(); lcs_bc[\"k\"] = lcs_getCookieEnabled(); } function lcs_getOS() { var lcs_os = \"\"; try { navigator.platform ? (lcs_os = navigator.platform) : \"\"; } catch (e) {} return lcs_os; } function lcs_getlanguage() { var lcs_ln = \"\"; try { navigator.userLanguage ? (lcs_ln = navigator.userLanguage) : navigator.language ? (lcs_ln = navigator.language) : \"\"; } catch (e) {} return lcs_ln; } function lcs_getScreen() { var lcs_sr = \"\"; try { if (window.screen && screen.width && screen.height) { lcs_sr = screen.width + \"x\" + screen.height; } else if (window.java || self.java) { var sr = java.awt.Toolkit.getDefaultToolkit().getScreenSize(); lcs_sr = sr.width + \"x\" + sr.height; } } catch (e) { lcs_sr = \"\"; } return lcs_sr; } function lcs_getWindowSize() { var doc = document; var size = { bw: \"\", bh: \"\" }; try { size[\"bw\"] = doc.documentElement.clientWidth ? doc.documentElement.clientWidth : doc.body.clientWidth; size[\"bh\"] = doc.documentElement.clientHeight ? doc.documentElement.clientHeight : doc.body.clientHeight; } catch (e) {} return size; } function lcs_getColorDepth() { var colorDepth = \"\"; try { if (window.screen) { colorDepth = screen.colorDepth ? screen.colorDepth : screen.pixelDepth; } else if (window.java || self.java) { var c = java.awt.Toolkit.getDefaultToolkit() .getColorModel() .getPixelSize(); colorDepth = c; } } catch (e) { colorDepth = \"\"; } return colorDepth; } function lcs_getJavaEnabled() { var jsEnable = \"\"; try { jsEnable = navigator.javaEnabled() ? \"Y\" : \"N\"; } catch (e) {} return jsEnable; } function lcs_getCookieEnabled() { var cookieEnable = \"\"; try { cookieEnable = navigator.cookieEnabled ? \"Y\" : \"N\"; } catch (e) {} return cookieEnable; } function lcs_getNNBfromCookie() { try { var ck = document.cookie; var k, v, i, ArrCookies = ck.split(\";\"); for (i = 0; i < ArrCookies.length; i++) { k = ArrCookies[i].substr(0, ArrCookies[i].indexOf(\"=\")); v = ArrCookies[i].substr(ArrCookies[i].indexOf(\"=\") + 1); k = k.replace(/^\\\\s+|\\\\s+$/g, \"\"); if (k == \"NNB\") { return unescape(v); } } } catch (e) {} } function lcs_setConnectionType() { var connection = navigator.connection; if (connection) { if (connection.type && connection.type.length > 1) { lcs_add[\"ct\"] = connection.type; } if (connection.effectiveType) { lcs_add[\"ect\"] = connection.effectiveType; } } } function lcs_setNavigationTiming() { var performance = window.performance || {}; if (performance.timing) { var pt = performance.timing; for (var key in pt) { var value = pt[key]; if (typeof value === \"number\") { lcs_perf[key] = value; } } } } function lcs_setPaintTiming() { var performance = window.performance || {}; try { if (performance.getEntriesByType) { var performanceEntries = performance.getEntriesByType(\"paint\"); performanceEntries.forEach(function(performanceEntry, i, entries) { var name = performanceEntry.name; switch (name) { case \"first-paint\": case \"first-contentful-paint\": lcs_perf[name] = performanceEntry.startTime; break; default: break; } }); } else { } } catch (e) { console.warn(e); } } function lcs_setNavigationType() { var ngt = getNavigationType(); if (ngt !== undefined) { lcs_perf[\"ngt\"] = ngt; } } function getNavigationType() { var performance = window.performance || {}; if (performance.navigation) { return performance.navigation.type; } return; } var lpid = null; function lcs_create_lpid() { var uaID; var lsg = getLocalStorage(); var nnb = lsg ? lsg.ls : null; if (nnb) { uaID = nnb; } else { var nnbFallback; nnbFallback = navigator.userAgent + Math.random(); uaID = nnbFallback; } var performance = window.performance || {}; var pageURL = location.href; var currentTime; if (performance.now) { currentTime = performance.now(); } else { currentTime = new Date().getTime(); } lpid = hashFunction.md5(uaID + pageURL + currentTime); return lpid; } function lcs_get_lpid() { if (lpid === null) { lpid = lcs_create_lpid(); } return lpid; } function lcs_update_lpid() { lpid = lcs_create_lpid(); return lpid; } var hashFunction = {}; (function(exportTarget) { function safeAdd(x, y) { var lsw = (x & 0xffff) + (y & 0xffff); var msw = (x >> 16) + (y >> 16) + (lsw >> 16); return (msw << 16) | (lsw & 0xffff); } function bitRotateLeft(num, cnt) { return (num << cnt) | (num >>> (32 - cnt)); } function md5cmn(q, a, b, x, s, t) { return safeAdd( bitRotateLeft(safeAdd(safeAdd(a, q), safeAdd(x, t)), s), b ); } function md5ff(a, b, c, d, x, s, t) { return md5cmn((b & c) | (~b & d), a, b, x, s, t); } function md5gg(a, b, c, d, x, s, t) { return md5cmn((b & d) | (c & ~d), a, b, x, s, t); } function md5hh(a, b, c, d, x, s, t) { return md5cmn(b ^ c ^ d, a, b, x, s, t); } function md5ii(a, b, c, d, x, s, t) { return md5cmn(c ^ (b | ~d), a, b, x, s, t); } function binlMD5(x, len) { x[len >> 5] |= 0x80 << len % 32; x[(((len + 64) >>> 9) << 4) + 14] = len; var i; var olda; var oldb; var oldc; var oldd; var a = 1732584193; var b = -271733879; var c = -1732584194; var d = 271733878; for (i = 0; i < x.length; i += 16) { olda = a; oldb = b; oldc = c; oldd = d; a = md5ff(a, b, c, d, x[i], 7, -680876936); d = md5ff(d, a, b, c, x[i + 1], 12, -389564586); c = md5ff(c, d, a, b, x[i + 2], 17, 606105819); b = md5ff(b, c, d, a, x[i + 3], 22, -1044525330); a = md5ff(a, b, c, d, x[i + 4], 7, -176418897); d = md5ff(d, a, b, c, x[i + 5], 12, 1200080426); c = md5ff(c, d, a, b, x[i + 6], 17, -1473231341); b = md5ff(b, c, d, a, x[i + 7], 22, -45705983); a = md5ff(a, b, c, d, x[i + 8], 7, 1770035416); d = md5ff(d, a, b, c, x[i + 9], 12, -1958414417); c = md5ff(c, d, a, b, x[i + 10], 17, -42063); b = md5ff(b, c, d, a, x[i + 11], 22, -1990404162); a = md5ff(a, b, c, d, x[i + 12], 7, 1804603682); d = md5ff(d, a, b, c, x[i + 13], 12, -40341101); c = md5ff(c, d, a, b, x[i + 14], 17, -1502002290); b = md5ff(b, c, d, a, x[i + 15], 22, 1236535329); a = md5gg(a, b, c, d, x[i + 1], 5, -165796510); d = md5gg(d, a, b, c, x[i + 6], 9, -1069501632); c = md5gg(c, d, a, b, x[i + 11], 14, 643717713); b = md5gg(b, c, d, a, x[i], 20, -373897302); a = md5gg(a, b, c, d, x[i + 5], 5, -701558691); d = md5gg(d, a, b, c, x[i + 10], 9, 38016083); c = md5gg(c, d, a, b, x[i + 15], 14, -660478335); b = md5gg(b, c, d, a, x[i + 4], 20, -405537848); a = md5gg(a, b, c, d, x[i + 9], 5, 568446438); d = md5gg(d, a, b, c, x[i + 14], 9, -1019803690); c = md5gg(c, d, a, b, x[i + 3], 14, -187363961); b = md5gg(b, c, d, a, x[i + 8], 20, 1163531501); a = md5gg(a, b, c, d, x[i + 13], 5, -1444681467); d = md5gg(d, a, b, c, x[i + 2], 9, -51403784); c = md5gg(c, d, a, b, x[i + 7], 14, 1735328473); b = md5gg(b, c, d, a, x[i + 12], 20, -1926607734); a = md5hh(a, b, c, d, x[i + 5], 4, -378558); d = md5hh(d, a, b, c, x[i + 8], 11, -2022574463); c = md5hh(c, d, a, b, x[i + 11], 16, 1839030562); b = md5hh(b, c, d, a, x[i + 14], 23, -35309556); a = md5hh(a, b, c, d, x[i + 1], 4, -1530992060); d = md5hh(d, a, b, c, x[i + 4], 11, 1272893353); c = md5hh(c, d, a, b, x[i + 7], 16, -155497632); b = md5hh(b, c, d, a, x[i + 10], 23, -1094730640); a = md5hh(a, b, c, d, x[i + 13], 4, 681279174); d = md5hh(d, a, b, c, x[i], 11, -358537222); c = md5hh(c, d, a, b, x[i + 3], 16, -722521979); b = md5hh(b, c, d, a, x[i + 6], 23, 76029189); a = md5hh(a, b, c, d, x[i + 9], 4, -640364487); d = md5hh(d, a, b, c, x[i + 12], 11, -421815835); c = md5hh(c, d, a, b, x[i + 15], 16, 530742520); b = md5hh(b, c, d, a, x[i + 2], 23, -995338651); a = md5ii(a, b, c, d, x[i], 6, -198630844); d = md5ii(d, a, b, c, x[i + 7], 10, 1126891415); c = md5ii(c, d, a, b, x[i + 14], 15, -1416354905); b = md5ii(b, c, d, a, x[i + 5], 21, -57434055); a = md5ii(a, b, c, d, x[i + 12], 6, 1700485571); d = md5ii(d, a, b, c, x[i + 3], 10, -1894986606); c = md5ii(c, d, a, b, x[i + 10], 15, -1051523); b = md5ii(b, c, d, a, x[i + 1], 21, -2054922799); a = md5ii(a, b, c, d, x[i + 8], 6, 1873313359); d = md5ii(d, a, b, c, x[i + 15], 10, -30611744); c = md5ii(c, d, a, b, x[i + 6], 15, -1560198380); b = md5ii(b, c, d, a, x[i + 13], 21, 1309151649); a = md5ii(a, b, c, d, x[i + 4], 6, -145523070); d = md5ii(d, a, b, c, x[i + 11], 10, -1120210379); c = md5ii(c, d, a, b, x[i + 2], 15, 718787259); b = md5ii(b, c, d, a, x[i + 9], 21, -343485551); a = safeAdd(a, olda); b = safeAdd(b, oldb); c = safeAdd(c, oldc); d = safeAdd(d, oldd); } return [a, b, c, d]; } function binl2rstr(input) { var i; var output = \"\"; var length32 = input.length * 32; for (i = 0; i < length32; i += 8) { output += String.fromCharCode((input[i >> 5] >>> i % 32) & 0xff); } return output; } function rstr2binl(input) { var i; var output = []; output[(input.length >> 2) - 1] = undefined; for (i = 0; i < output.length; i += 1) { output[i] = 0; } var length8 = input.length * 8; for (i = 0; i < length8; i += 8) { output[i >> 5] |= (input.charCodeAt(i / 8) & 0xff) << i % 32; } return output; } function rstrMD5(s) { return binl2rstr(binlMD5(rstr2binl(s), s.length * 8)); } function rstrHMACMD5(key, data) { var i; var bkey = rstr2binl(key); var ipad = []; var opad = []; var hash; ipad[15] = opad[15] = undefined; if (bkey.length > 16) { bkey = binlMD5(bkey, key.length * 8); } for (i = 0; i < 16; i += 1) { ipad[i] = bkey[i] ^ 0x36363636; opad[i] = bkey[i] ^ 0x5c5c5c5c; } hash = binlMD5(ipad.concat(rstr2binl(data)), 512 + data.length * 8); return binl2rstr(binlMD5(opad.concat(hash), 512 + 128)); } function rstr2hex(input) { var hexTab = \"0123456789abcdef\"; var output = \"\"; var x; var i; for (i = 0; i < input.length; i += 1) { x = input.charCodeAt(i); output += hexTab.charAt((x >>> 4) & 0x0f) + hexTab.charAt(x & 0x0f); } return output; } function str2rstrUTF8(input) { return unescape(encodeURIComponent(input)); } function rawMD5(s) { return rstrMD5(str2rstrUTF8(s)); } function hexMD5(s) { return rstr2hex(rawMD5(s)); } function rawHMACMD5(k, d) { return rstrHMACMD5(str2rstrUTF8(k), str2rstrUTF8(d)); } function hexHMACMD5(k, d) { return rstr2hex(rawHMACMD5(k, d)); } function md5(string, key, raw) { if (!key) { if (!raw) { return hexMD5(string); } return rawMD5(string); } if (!raw) { return hexHMACMD5(key, string); } return rawHMACMD5(key, string); } exportTarget.md5 = md5; })(hashFunction); exportTarget.lcs_do = lcs_do; exportTarget.lcs_do_gdid = lcs_do_gdid; exportTarget.lcs_get_lpid = lcs_get_lpid; exportTarget.lcs_update_lpid = lcs_update_lpid; exportTarget.lcs_version = lcs_version; })(window); if (window.addEventListener) window.addEventListener(\"load\", function() { lcs_do({\"pid\": \"isHzysp0JXVssvBed8ZssssstA0-076061\", \"ssc\":\"tab.nx.all\"}) }, false) ; else lcs_do({\"pid\": \"isHzysp0JXVssvBed8ZssssstA0-076061\", \"ssc\":\"tab.nx.all\"}) ; </script> <script type=\"text/javascript\" src=\"https://ssl.pstatic.net/sstatic/sdyn.js?f=/au/pc/_nx/jindo_1.5.3_171116.js+/search/js/nhn.Component.js+/search/js/jindo.Component.1.1.0.js+/search/js/jindo.component.library_120927.js+/au/s/pc/_common/jindo/jindo.Rolling_140526.js+/fe/sfe/_common/pc/nhn.common_211014_a.js+/fe/sfe/nx_jquery/pc/nx_jquery_221215.js+/fe/meerkat/logger/sfe/naver.common.meerkat.logger.sfePc_221027.js+/fe/sfe/naver_autocomplete/pc/naver.common.atcmp.naver_web_230216.js+/fe/sfe/web-vitals/web-vitals_230223.js+/fe/sfe/scrollLog/Controller_220714.js&amp;o=search\" crossorigin=\"anonymous\"></script>  <script> 0 && naver.common.meerkat.logger.observe(); function nx_add_event_handler (event, func) { $Fn(func).attach(document, event) ; } </script><script type=\"text/javascript\"> function nx_form_submit (f) { if (g_D || 0) f.action = \"\" ; if (typeof naver.search.option !== \\'undefined\\') naver.search.option.append_params(f, [\\'qdt\\', \\'qvt\\']); return true ; } </script><script type=\"text/javascript\"> var g_site = \"\" ; function document_write (s) { document.write(s) ; } nhn.jsLazyLoad = { include: function(a, b, c) { nx_js_lazyload(a, b, 0) ; } } ; nx_js_defer_load(\"https://ssl.pstatic.net/sstatic/au/s/pc/_others/nxtt/search_om.js\", function() {NXTT.div=document.getElementById(\"nxtt_div\");}, 50); </script></head> <body class=\\'wrap-new api_animation\\'> <div id=nxtt_div style=\"display:none;position:absolute;border-width:0;z-index:11000\"></div> <div id=\"u_skip\"> <a href=\"#lnb\"><span>메뉴 영역으로 바로가기</span></a> <a href=\"#content\"><span>본문 영역으로 바로가기</span></a> </div> <div id=\"wrap\"> <div id=\"header_wrap\" role=\"heading\"> <div class=\"api_floating_header\">   <div class=\"gnb_wrap\"> <div class=\"header_group\"> <div class=\"search_area\"> <h1 class=\"logo\"><a href=\"https://www.naver.com\" onclick=\"return goOtherCR(this, \\'a=sta.naver&amp;r=&amp;i=&amp;u=\\'+urlencode(this.href));\" class=\"link\"><i class=\"spnew ico_logo\">NAVER</i></a></h1> <form id=\"nx_search_form\" name=\"search\" action=\"?\" method=\"get\" role=\"search\" onsubmit=\"return nx_form_submit(this)\"> <fieldset class=\"greenwindow\"> <legend>검색</legend> <input type=\"hidden\" name=\"sm\" value=\"tab_hty.top\"> <input type=\"hidden\" name=\"where\" value=\"nexearch\"> <div class=\"greenbox\"> <input type=\"text\" id=\"nx_query\" name=\"query\" class=\"box_window\" maxlength=255 accesskey=\"s\" value=\"\" autocomplete=\"off\" placeholder=\"검색어를 입력해 주세요.\" data-atcmp-element> </div> <input type=\"hidden\" name=\"oquery\" value=\"\"> <input type=\"hidden\" name=\"tqi\" value=\"isHzysp0JXVssvBed8ZssssstA0-076061\"> <input type=\"hidden\" value=\"\" name=\"acq\" disabled> <input type=\"hidden\" value=\"\" name=\"acr\" disabled> <input type=\"hidden\" value=\"\" name=\"qdt\" disabled> <input type=\"hidden\" value=\"\" name=\"acir\" disabled> <input type=\"hidden\" value=\"\" name=\"os\" disabled> <input type=\"hidden\" value=\"\" name=\"bid\" disabled> <input type=\"hidden\" value=\"\" name=\"pkid\" disabled> <input type=\"hidden\" value=\"\" name=\"eid\" disabled> <input type=\"hidden\" value=\"\" name=\"mra\" disabled>  <div class=\"setkr_area\"> <a id=\"ke_kbd_btn\" role=\"button\" href=\"#\" class=\"bt_setkr\" aria-pressed=\"false\" onclick=\"return tCR(\\'a=sch.ime\\');\"><i class=\"spnew ico_keyboard\">한글 입력기</i></a> <div id=\"_nx_kbd\" style=\"display:none;\"></div> </div> <script> (function() { var startApplication = function() { var jsUrl = \"https://ssl.pstatic.net/sstatic/au/pc/ime/ime_201105.js\"; var ime; jQuery(\"#ke_kbd_btn\").on(\"click\", function(){ require([jsUrl], function(IMEKeyboard) { if (ime) { ime.toggle(); return; } ime = new IMEKeyboard({selector: { TOGGLE_BTN: \"#ke_kbd_btn\", CONTENTS_AREA: \"#_nx_kbd\", INPUT: \"#nx_query\" }}).toggle(); }, function () { alert(\"네트워크 상태가 안 좋아 한영입력기를 불러오지 못했습니다.\\\\n잠시 후 다시 시도해 주세요.\"); }); }); }; naver.common.load_js(window.require ? null : naver.common.gv.REQUIRE_JS, startApplication, true, 150); })(); </script> <div class=\"autocomplete\"> <a role=\"button\" href=\"#\" class=\"bt_atcp _btn_arw\" id=\"nautocomplete\" aria-pressed=\"false\" data-atcmp-element><i class=\"spnew ico_arrow\">자동완성 레이어</i></a> <div class=\"ly_atcmp\" id=\"nx_autoframe_top\" style=\"display:none\" data-atcmp-element> <div class=\"api_atcmp_wrap\"> <div class=\"atcmp_fixer _recent_layer\" style=\"display:none;\"> <div class=\"atcmp_header _recent_header\"> <strong class=\"tit\">최근검색어</strong> <div class=\"option\"> <a role=\"button\" href=\"#\" class=\"item _delAll\" aria-pressed=\"false\">전체삭제</a> </div> </div> <div class=\"atcmp_container\"> <ul class=\"kwd_lst _recent\"> <li class=\"item _item\" data-rank=\"@rank@\" data-template-type=\"history\" data-keyword=\"@in_txt@\"> <a href=\"#\" class=\"kwd\"> <span class=\"fix\"><span class=\"common_ico_kwd\"><i class=\"imsc ico_search\"></i></span><span>@txt@</span></span> </a> <span class=\"etc\"> <em class=\"date\">@date@.</em> <a href=\"#\" role=\"button\" class=\"bt_item _del\" aria-pressed=\"false\"><i class=\"imsc ico_del\">삭제</i></a> </span> </li> </ul> <div class=\"kwd_info kwd_off _offMsg\" style=\"display: none;\">검색어 저장 기능이 꺼져 있습니다.<br><span class=\"kwd_dsc\">설정이 초기화 된다면 <a onclick=\"return goOtherCR(this,\\'a=sly.help&amp;r=&amp;i=&amp;u=\\'+urlencode(this.href));\" href=\"https://help.naver.com/support/alias/search/word/word_29.naver\" target=\"_blank\" class=\"kwd_help\">도움말</a>을 확인해주세요.</span></div> <div class=\"kwd_info kwd_none _recentNone\" style=\"display: none;\">최근 검색어 내역이 없습니다.<br><span class=\"kwd_dsc\">설정이 초기화 된다면 <a onclick=\"return goOtherCR(this,\\'a=sly.help&amp;r=&amp;i=&amp;u=\\'+urlencode(this.href));\" href=\"https://help.naver.com/support/alias/search/word/word_29.naver\" target=\"_blank\" class=\"kwd_help\">도움말</a>을 확인해주세요.</span></div> </div> <div class=\"atcmp_footer\"> <span class=\"side_opt_area\"> <span class=\"opt_item\"><a onclick=\"return goOtherCR(this,\\'a=sly.help&amp;r=&amp;i=&amp;u=\\'+urlencode(this.href));\" href=\"https://help.naver.com/support/alias/search/word/word_29.naver\" target=\"_blank\">도움말</a></span> </span> <span class=\"rside_opt_area\"> <span class=\"opt_item\"> <a href=\"#\" class=\"close _keywordOnOff\">자동저장 끄기</a> </span> </span> </div> </div> <div class=\"atcmp_fixer _atcmp_layer\" style=\"display:none;\"> <div class=\"atcmp_container _words\"> <div class=\"atcmp_correct type_lotto _answer\" data-template-type=\"answer_3\" data-code=\"@code@\" data-keyword=\"@1@\"> <a href=\"#\" class=\"link_item\"> <span class=\"common_ico_kwd\"><i class=\"imsc ico_search\"></i></span> <div class=\"dsc_area\"> <span class=\"tit\">@5@회 로또당첨번호</span> <span class=\"dsc\"> <span class=\"item\">동행복권 제공</span> </span> </div> <span class=\"etc_area\"> <span class=\"etc lotto\"> <em class=\"n@6@\">@6@</em><em class=\"n@7@\">@7@</em><em class=\"n@8@\">@8@</em><em class=\"n@9@\">@9@</em><em class=\"n@10@\">@10@</em><em class=\"n@11@\">@11@</em><em class=\"imsc_bf bonus n@12@\">@12@</em> </span> </span> </a> </div> <div class=\"atcmp_correct type_exchange _answer\" data-template-type=\"answer_9\" data-code=\"@code@\" data-keyword=\"@1@\"> <a href=\"#\" class=\"link_item @11@\"> <span class=\"common_ico_kwd\"><i class=\"imsc ico @12@\">@14@</i></span> <div class=\"dsc_area\"> <span class=\"tit\">@txt@<span class=\"sub\">@currency@</span></span> <span class=\"dsc\"> <span class=\"item\"><i class=\"imsc ico_arr\"></i>@8@(@9@%)</span> </span> </div> <span class=\"etc_area\"> <span class=\"etc\"><em class=\"num\">@6@</em>원</span> </span> </a> </div> <div class=\"atcmp_correct type_weather _answer\" data-template-type=\"answer_11\" data-code=\"@code@\" data-keyword=\"@1@\"> <a href=\"#\" class=\"link_item @12@\"> <span class=\"common_ico_kwd\"><i class=\"imsc ico_search\"></i></span> <div class=\"dsc_area\"> <span class=\"tit\">@txt@</span> <span class=\"dsc\"> <span class=\"item\">@7@, @message@</span> </span> </div> <span class=\"etc_area\"> <span class=\"etc\"> <span class=\"ico_weather\"><i class=\"imsc ico ico@iconNo@\">@7@</i></span> <em class=\"degree\">@8@<sup class=\"celsius\">°</sup></em> </span> </span> </a> </div> <div class=\"atcmp_correct type_site _answer\" data-template-type=\"answer_17\" data-code=\"@code@\" data-keyword=\"@1@\"> <a href=\"@5@\" class=\"link_item\" target=\"_blank\"> <span class=\"common_ico_kwd\"><i class=\"imsc ico_url\"></i></span> <div class=\"dsc_area\"> <span class=\"tit\">@txt@</span> <span class=\"dsc\"> <span class=\"item\">@5@</span> </span> </div> <span class=\"etc_area\"> <span class=\"etc\">바로가기</span> </span> </a> </div> <ul class=\"kwd_lst _kwd_list\"> <li class=\"item _item\" data-rank=\"@rank@\" data-template-type=\"suggestion\" data-keyword=\"@in_txt@\"> <a href=\"#\" class=\"kwd\"> <span class=\"fix\"><span class=\"common_ico_kwd\"><i class=\"imsc ico_search\"></i></span>@txt@</span> </a> <span class=\"etc\"> <a href=\"#\" role=\"button\" class=\"bt_item _add\" aria-pressed=\"false\"><i class=\"imsc ico_insert\">추가</i></a> </span> </li> <li class=\"item has_correct _item\" data-rank=\"@rank@\" data-template-type=\"history\" data-keyword=\"@in_txt@\"> <a href=\"#\" class=\"kwd\"> <span class=\"fix\"><span class=\"common_ico_kwd\"><i class=\"imsc ico_search\"></i></span>@txt@</span> </a> <span class=\"etc\"> <em class=\"date\">@date@.</em> <a href=\"#\" role=\"button\" class=\"bt_item _add\" aria-pressed=\"false\"><i class=\"imsc ico_insert\">추가</i></a> </span> </li> </ul> <li class=\"item has_correct _item\" data-rank=\"@rank@\" data-intend-rank=\"@intendRank@\" data-template-type=\"intend\" data-keyword=\"@transQuery@\"> <a href=\"#\" class=\"kwd\"> <span class=\"fix\"><span class=\"common_ico_kwd\"><i class=\"imsc ico_search\"></i></span>@query@ <span class=\"context\">@intend@</span></span> </a> <span class=\"etc\"> <a href=\"#\" role=\"button\" class=\"bt_item _add\" aria-pressed=\"false\"><i class=\"imsc ico_insert\">추가</i></a> </span> </li> <div class=\"atcmp_alert _alert\"> <div class=\"dsc_election\"> <p class=\"dsc\"> <i class=\"imsc ico_election\"></i><span class=\"_alert_passage\"></span> </p> <span class=\"dsc_inner\"> <span class=\"_alert_passage2\"></span> <a href=\"#\" target=\"_blank\" class=\"link _alert_link\" onclick=\"return goOtherCR(this,\\'a=sug.vote&r=&i=&u=\\'+urlencode(this.href));\">자세히보기</a> </span> </div> </div> <div class=\"atcmp_plus _plus\"> <div class=\"dsc_plus\"> <a onclick=\"return goOtherCR(this,\\'a=sug.cxhelp&amp;r=&amp;i=&amp;u=\\'+urlencode(this.href));\" href=\"https://help.naver.com/support/alias/search/word/word_16.naver\" target=\"_blank\" class=\"link_dsc\">관심사를 반영한 컨텍스트 자동완성<i class=\"imsc ico_help\">도움말</i></a> </div> <div class=\"switch\"> <a role=\"button\" href=\"#\" class=\"bt_switch active _plus_btn\" aria-pressed=\"false\"><i class=\"imsc ico_option\">컨텍스트 자동완성</i></a> </div> <div class=\"layer_plus _plus_layer\"> <strong class=\"tit\">컨텍스트 자동완성</strong> <div class=\"_plus_layer_isloggedin\" style=\"display:none\"> <p class=\"dsc\">ON/OFF 설정은<br>해당기기(브라우저)에 저장됩니다.</p> <div class=\"btn_area\"> <a onclick=\"return goOtherCR(this,\\'a=sug.cxhelp&amp;r=&amp;i=&amp;u=\\'+urlencode(this.href));\" href=\"https://help.naver.com/support/alias/search/word/word_16.naver\" target=\"_blank\" class=\"btn btn_view\">자세히</a> </div> </div> <div class=\"_plus_layer_isnotloggedin\" style=\"display:none\"> <p class=\"dsc\"><em class=\"txt\">동일한 시간대/연령/남녀별</em> 사용자 그룹의<br>관심사에 맞춰 자동완성을 제공합니다.</p> <div class=\"btn_area\"> <a href=\"https://nid.naver.com/nidlogin.login?url=https%3A%2F%2Fsearch.naver.com%2Fsearch.naver%3Fwhere%2520%3D%2520news%26query%2520%3D%2520%25EB%25A6%25AC%25ED%258A%25AC%26sort%3D1\" onclick=\"return goOtherCR(this,\\'a=sug.cxlogin&amp;r=&amp;i=&amp;u=\\'+urlencode(this.href));\" class=\"btn btn_login\">로그인</a> <a onclick=\"return goOtherCR(this,\\'a=sug.cxhelp&amp;r=&amp;i=&amp;u=\\'+urlencode(this.href));\" href=\"https://help.naver.com/support/alias/search/word/word_16.naver\" target=\"_blank\" class=\"btn btn_view\">자세히</a> </div> </div> <a href=\"#\" role=\"button\" onclick=\"return tCR(\\'a=sug.cxhide\\');\" class=\"btn_close _plus_layer_close\"><i class=\"imsc ico_close\">컨텍스트 자동완성 레이어 닫기</i></a> </div> </div> </div> <div class=\"atcmp_footer\"> <span class=\"side_opt_area\"> <span class=\"opt_item\"><a onclick=\"return goOtherCR(this,\\'a=sug.help&amp;r=&amp;i=&amp;u=\\'+urlencode(this.href));\" href=\"https://help.naver.com/alias/search/word/word_17.naver\" target=\"_blank\">도움말</a></span> <span class=\"opt_item\"><a onclick=\"return goOtherCR(this,\\'a=sug.report&amp;r=&amp;i=&amp;u=\\'+urlencode(this.href));\" href=\"https://help.naver.com/support/alias/search/word/word_18.naver\" target=\"_blank\" class=\"report\">신고</a></span> </span> <span class=\"rside_opt_area\"> <span class=\"opt_item\"> <a href=\"#\" class=\"close _suggestOnOff\">자동완성 끄기</a> </span> </span> </div> </div> </div> </div> </div> <button type=\"submit\" class=\"bt_search\"><i class=\"spnew ico_search\">검색</i></button> </fieldset> </form> </div></div> <div id=\"gnb\"> <script type=\"text/javascript\"> var gnb_option = { gnb_service : \"search\", gnb_template : \"gnb_utf8\", gnb_logout : encodeURIComponent(location.href), gnb_login : encodeURIComponent(location.href), gnb_brightness : 1 , gnb_item_hide_option : 0 } ; var gnb_url = \"https://ssl.pstatic.net/static.gn/templates/gnb_utf8.nhn\" ; nx_js_defer_load(gnb_url + \"?\" + headerfooter_time_year_s + headerfooter_time_month_s + headerfooter_time_day_s + headerfooter_time_hour_s, function() { getGNB() ; $Fn(function(we) { if (typeof gnbAllLayerClose == \"function\") { var bShowLayer = gnbUserLayer.show || gnbNaverMeLayer.show || gnbMoreLayer.show; var bClickGNBArea = $Element($$.getSingle(\"ul.gnb_lst\")).isEqual(we.element) || $Element($$.getSingle(\"ul.gnb_lst\")).isParentOf(we.element); if (bShowLayer && !bClickGNBArea) { gnbAllLayerClose(); } } }, this).attach(document, \"click\"); }, 0) ; </script> </div> </div><script> var nx_usain_beacon = function($) { var sent = 0; var tags = []; var usain_obj = { send: function() { if (sent > 0) { return; } sent = 1; setTimeout(function() { var perf = \"\"; perf = (function() { function _(t) { return (t?(t-window.performance.timing.navigationStart):0); }; if (typeof(window.performance) == \"undefined\") { return \"\" } if (typeof(window.performance.timing) == \"undefined\") { return \"\" } if (typeof(window.performance.navigation) == \"undefined\") { return \"\" } if (typeof(window.g_puid) == \"undefined\") { return \"\" } if (typeof(window.g_ssc) == \"undefined\") { return \"\" } var t = window.performance.timing; var n = window.performance.navigation; return \"navt=\" + [_(t.navigationStart), _(t.unloadEventStart), _(t.unloadEventEnd), _(t.redirectStart), _(t.redirectEnd), _(t.fetchStart), _(t.domainLookupStart), _(t.domainLookupEnd), _(t.connectStart), _(t.connectEnd), _(t.requestStart), _(t.responseStart), _(t.responseEnd), _(t.domLoading), _(t.domInteractive), _(t.domContentLoadedEventStart), _(t.domContentLoadedEventEnd), _(t.domComplete), _(t.loadEventStart), _(t.loadEventEnd), n.type, n.redirectCount].join(\":\") + \"&page_id=\" + encodeURIComponent(window.g_puid) + \"&ssc=\" + encodeURIComponent(window.g_ssc); }) (); if (document.location.protocol === \\'https:\\') { tags.push(\\'_ssl\\'); } else { tags.push(\\'_nossl\\'); } var agent = eg.agent(); if (agent.browser.version) { var version = \"\"; var vers = (agent.browser.version + \"\").split(\\'.\\'); version = vers[0]; if (version > 0) { tags.push(\\'ua.\\' + agent.browser.name + \\'.\\' + version); } } var queries = []; if (perf) { queries.push(perf); } queries.push(\"tags=\" + tags.join(\":\") ); var u = new Image(); u.src = \"https://er.search.naver.com/er?v=2&\" + queries.join(\"&\"); u.onload = function() { u.onload = null; } }, 250); }, add_tag: function(tag) { tags.push(tag); } }; return usain_obj; }(jQuery); </script> <div id=\"lnb\" tabindex=\"0\"><div class=\"lnb_group\"> <div class=\"lnb_menu\"> <ul role=\"tablist\" class=\"base\"> <li role=\"presentation\" class=\"menu\"><a role=\"tab\" href=\"?where=nexearch&amp;sm=tab_jum&amp;query=\" onclick=\"return goOtherCR(this,\\'a=tab*N.now&amp;r=1&amp;i=&amp;u=\\'+urlencode(this.href));\" class=\"tab\" aria-selected=\"true\">통합</a></li><li role=\"presentation\" class=\"menu\"><a role=\"tab\" href=\"?where=view&amp;sm=tab_jum&amp;query=\" onclick=\"return goOtherCR(this,\\'a=tab*e.jmp&amp;r=2&amp;i=&amp;u=\\'+urlencode(this.href))\" class=\"tab\" aria-selected=\"false\">VIEW</a></li><li role=\"presentation\" class=\"menu\"><a role=\"tab\" href=\"?where=image&amp;sm=tab_jum&amp;query=\" onclick=\"return goOtherCR(this,\\'a=tab*i.jmp&amp;r=3&amp;i=&amp;u=\\'+urlencode(this.href));\" class=\"tab\" aria-selected=\"false\">이미지</a></li><li role=\"presentation\" class=\"menu\"><a role=\"tab\" href=\"?where=kin&amp;sm=tab_jum&amp;query=\" onclick=\"return goOtherCR(this,\\'a=tab*k.jmp&amp;r=4&amp;i=&amp;u=\\'+urlencode(this.href));\" class=\"tab\" aria-selected=\"false\">지식iN</a></li><li role=\"presentation\" class=\"menu\"><a role=\"tab\" href=\"?where=influencer&amp;sm=tab_jum&amp;query=\" onclick=\"return goOtherCR(this,\\'a=tab*F.jmp&amp;r=5&amp;i=&amp;u=\\'+urlencode(this.href));\" class=\"tab\" aria-selected=\"false\">인플루언서</a></li><li role=\"presentation\" class=\"menu\"><a role=\"tab\" href=\"?where=video&amp;sm=tab_jum&amp;query=\" onclick=\"return goOtherCR(this,\\'a=tab*v.jmp&amp;r=6&amp;i=&amp;u=\\'+urlencode(this.href));\" class=\"tab\" aria-selected=\"false\">동영상</a></li><li role=\"presentation\" class=\"menu\"><a role=\"tab\" href=\"https://search.shopping.naver.com/search/all?where=all&amp;frm=NVSCTAB&amp;query=\" onclick=\"return goOtherCR(this,\\'a=tab*S.jmp&amp;r=7&i=&amp;u=\\'+urlencode(this.href));\" class=\"tab\" aria-selected=\"false\" target=\"_blank\">쇼핑</a></li><li role=\"presentation\" class=\"menu\"><a role=\"tab\" href=\"?where=news&amp;sm=tab_jum&amp;query=\" onclick=\"return goOtherCR(this,\\'a=tab*n.jmp&amp;r=8&amp;i=&amp;u=\\'+urlencode(this.href));\" class=\"tab\" aria-selected=\"false\">뉴스</a></li><li role=\"presentation\" class=\"menu\"><a role=\"tab\" href=\"https://dict.naver.com/search.nhn?dicQuery=&amp;query=&amp;target=dic&amp;query_utf=&amp;isOnlyViewEE=\" onclick=\"return goOtherCR(this,\\'a=tab*L.jmp&amp;r=9&amp;i=&amp;u=\\'+urlencode(this.href));\" class=\"tab\" aria-selected=\"false\" target=\"_blank\">어학사전</a></li><li role=\"presentation\" class=\"menu\"><a role=\"tab\" href=\"https://map.naver.com/v5/search/\" onclick=\"return goOtherCR(this,\\'a=tab*M.jmp&amp;r=10&amp;i=&amp;u=\\'+urlencode(this.href));\" class=\"tab\" aria-selected=\"false\" target=\"_blank\">지도</a></li> </ul> <div class=\"group_more\"> <div id=\"_nx_lnb_more\" class=\"more_area\"> <a role=\"button\" href=\"#\" class=\"lnb_more _more_btn\" aria-pressed=\"false\" onclick=\"tCR(jQuery(this).attr(\\'aria-pressed\\') === \\'false\\' ? \\'a=tab.more\\' : \\'a=tmr.less\\');\"> <i class=\"spnew ico_lnb_more\">더보기</i> </a> <div class=\"addon\"> <ul> <li role=\"presentation\" class=\"menu\"><a role=\"tab\" href=\"https://search.shopping.naver.com/book/search?query=\" onclick=\"return goOtherCR(this,\\'a=tmr*B.jmp&amp;r=1&amp;i=&amp;u=\\'+urlencode(this.href));\" class=\"tab\" aria-selected=\"false\" target=\"_blank\">도서</a></li><li role=\"presentation\" class=\"menu\"><a role=\"tab\" href=\"https://vibe.naver.com/search?query=\" onclick=\"return goOtherCR(this,\\'a=tmr*m.jmp&amp;r=2&amp;i=&amp;u=\\'+urlencode(this.href));\" class=\"tab\" aria-selected=\"false\" target=\"_blank\">뮤직</a></li><li role=\"presentation\" class=\"menu\"><a role=\"tab\" href=\"?where=kdic&amp;sm=tab_jum&amp;query=\" onclick=\"return goOtherCR(this,\\'a=tmr*K.jmp&amp;r=3&amp;i=&amp;u=\\'+urlencode(this.href));\" class=\"tab\" aria-selected=\"false\">지식백과</a></li><li role=\"presentation\" class=\"menu\"><a role=\"tab\" href=\"https://audioclip.naver.com/search/all?keyword=\" onclick=\"return goOtherCR(this,\\'a=tmr*A.jmp&amp;r=4&amp;i=&amp;u=\\'+urlencode(this.href));\" class=\"tab\" aria-selected=\"false\" target=\"_blank\">오디오클립</a></li><li role=\"presentation\" class=\"menu\"><a role=\"tab\" href=\"https://academic.naver.com/search.naver?field=0&amp;query=\" onclick=\"return goOtherCR(this,\\'a=tmr*a.jmp&amp;r=5&amp;i=&amp;u=\\'+urlencode(this.href));\" class=\"tab\" aria-selected=\"false\" target=\"_blank\">학술정보</a></li> </ul> <a role=\"button\" href=\"#\" class=\"btn_option _option_btn\" onclick=\"return tCR(\\'a=tmr.optn\\');\" aria-pressed=\"false\" >검색옵션</a> </div> </div> </div> </div> </div><div class=\"lnb_util\"> <ul class=\"list_util\"> <li> <a role=\"button\" href=\"#\" id=\"spiButton2\" class=\"spnew_bf bt_share naver-splugin\" onclick=\"return tCR(\\'a=lnb.shr\\');\" data-evkey=\"search\" data-service-name=\"통합검색\" data-style=\"unity-v2\" data-use-short-url=\"on\" data-me-display=\"off\" data-mail-display=\"off\" data-option=\"{baseElement:\\'spiButton2\\', layerPosition:\\'outside-bottom\\', align:\\'right\\', top:4, left:0, marginLeft:8, marginTop:10}\" data-blog-url=\"https://search.naver.com/search.naver?query%20=+%EB%A6%AC%ED%8A%AC&amp;sm=svc_pin.blog&amp;sort=1&amp;where%20=+news\" data-cafe-url=\"https://search.naver.com/search.naver?query%20=+%EB%A6%AC%ED%8A%AC&amp;sm=svc_pin.cafe&amp;sort=1&amp;where%20=+news\" data-cafe-source-form=\"2\" data-memo-url=\"https://search.naver.com/search.naver?query%20=+%EB%A6%AC%ED%8A%AC&amp;sm=svc_pin.memo&amp;sort=1&amp;where%20=+news\" data-calendar-url=\"https://search.naver.com/search.naver?query%20=+%EB%A6%AC%ED%8A%AC&amp;sm=svc_pin.cal&amp;sort=1&amp;where%20=+news\" data-twitter-url=\"https://search.naver.com/search.naver?query%20=+%EB%A6%AC%ED%8A%AC&amp;sm=twp_pin&amp;sort=1&amp;where%20=+news\" data-facebook-url=\"https://search.naver.com/search.naver?query%20=+%EB%A6%AC%ED%8A%AC&amp;sm=fbp_pin&amp;sort=1&amp;where%20=+news\" data-band-url=\"https://search.naver.com/search.naver?query%20=+%EB%A6%AC%ED%8A%AC&amp;sm=bdp_pin&amp;sort=1&amp;where%20=+news\" >공유</a> </li> </ul> </div><script type=\"text/javascript\"> nx_js_defer_load(\"https://ssl.pstatic.net/spi/js/release/ko_KR/splugin.js?\" + headerfooter_time_year_s + headerfooter_time_month_s + headerfooter_time_day_s, function() { g_nx_splugin = SocialPlugIn_Core({ \"evKey\" : \"search\", \"serviceName\" : \"통합검색\" }) ; }, 150) ; function splugin_oninitialize(sTargetId) { var elTarget = document.getElementById(sTargetId) ; var sUrl = $$.getSingle(\\'a._sp_each_url\\', elTarget ).href ; var sTitle = $Element($$.getSingle(\\'._sp_each_title\\', elTarget)).text() ; var sSource = $Element($$.getSingle(\\'._sp_each_source\\', elTarget)) ; if (sSource) sSource = sSource.text() ; return { \"url\" : sUrl, \"title\" : sTitle, \"option\" : {baseElement:sTargetId + \\'_base\\', layerPosition:\\'outside-bottom\\', align:\\'right\\', top:18, left:-28, marginLeft:8, marginTop:10}, \"me\" : { display : \"off\" }, \"mail\" : { display : \"off\" }, \"sourceName\" : sSource } ; } </script><script> nx_js_defer_load(\"//search.like.naver.com/static/js/likeIt.list.js?\" + headerfooter_time_year_s + headerfooter_time_month_s + headerfooter_time_day_s, function() { nhn.LikeIt.list.util.init({ sId : \"SEARCH\", sDomain : \"//search.like.naver.com\", bMobile : false }) ; }, 150) ; </script></div></div><script> (function() { var startApplication = function() { var jsFileURL = \"https://ssl.pstatic.net/sstatic/au/pc/tab/SearchTab_210504.js\"; var require = window.require.config({ \"context\": \"search_tab_module\", \"paths\": { \"SearchTab\": jsFileURL.replace(/\\\\.js$/, \"\"), } }); define(\"jquery\", [], function() { return jQuery; }); require([\"SearchTab\"], function(SearchTab) { var BASE_FLOATING_WIDTH = 1181; var $window = jQuery(window); var $lnb = jQuery(\"#lnb\"); var $headerWrap = jQuery(\"#header_wrap\"); var tab = new SearchTab($window, $lnb) .on(\"checkWindowWidth\", function(e){ if (e.windowWidth >= BASE_FLOATING_WIDTH) { $headerWrap.addClass(\"type_fixed\"); tab.activateFloating(); } else { tab.deactivateFloating(); $headerWrap .removeClass(\"type_fixed\") .removeClass(\"type_hide\"); } }) .on(\"hideTab\", function(){ if (window.g_nx_splugin && typeof window.g_nx_splugin.hide === \"function\") { window.g_nx_splugin.hide(); } }) .on(\"changeState\", function(e){ $headerWrap.toggleClass(\"type_hide\", e.isUnderBaseline); if (e.isUnderBaseline) { $headerWrap.addClass(\"type_animation\"); } }); window.naver = window.naver || {}; window.naver.pc = window.naver.pc || {}; window.naver.pc.search_tab = tab; }); }; naver.common.load_js(window.require ? null : naver.common.gv.REQUIRE_JS, startApplication, true, 150); })(); </script><script type=\"text/javascript\"> naver.search.section = { \"main\": [{\"area\": \"kdc_rnd\", \"rank\": 1}], \"main2\": [{\"area\": \"krk_rcd\", \"rank\": 1},{\"area\": \"bnr\", \"rank\": 2}],  \"find_section_list\": function(column, area) { if (!this[column]) return []; return this[column].filter(function(a) { return a.area.indexOf(area) === 0; }); } }; </script></div><div id=\"container\" role=\"main\"> <div id=\"content\" class=\"pack_group\"> <h1 class=\"blind\"> 통합검색 결과</h1> <div id=\"main_pack\" class=\"main_pack\"><script type=\"text/javascript\"> var nx_cr_area_info = [{\"n\": \"kdc_rnd\", \"r\": 1}]; </script><script type=\"text/javascript\"> naver.search.option = {} ; naver.search.option.params = {} ; naver.search.option.append_params = (function () { return function (f, exclude) { if (exclude == undefined) exclude = []; for (var k in naver.search.option.params) { if (exclude.indexOf(k) >= 0) continue; var v = naver.search.option.params[k] ; var input = document.createElement(\"input\"); input.type = \"hidden\"; input.name = k ; input.value = v ; f.appendChild(input); } return true ; } ; })() ; naver.search.option.get_params = (function () { return function () { var option_params = \"\" ; for (var k in naver.search.option.params) { var v = naver.search.option.params[k]; option_params = option_params.concat(\"&\" + k + \"=\" + urlencode(v)); } return option_params ; } ; })() ; </script><div id=\"snb\" class=\"_search_option_detail_wrap\" style=\"display:none;\"> <form id=\"nx_option_form\" name=\"nx_option_form\" action=\"?\"> <input type=\"hidden\" id=\"where\" name=\"where\" value=\"nexearch\"> <input type=\"hidden\" id=\"query\" name=\"query\" value=\"\"> <input type=\"hidden\" id=\"sm\" name=\"sm\" value=\"tab_opt\"> </form> <div role=\"listbox\" class=\"api_group_option_sort\"> <button onclick=\"return tCR(\\'a=opt.fold\\');\" type=\"button\" class=\"spnew_bf bt_close _search_option_close_btn\">검색옵션 닫기</button> <ul class=\"lst_option\"> <li class=\"bx lineup\"> <div class=\"bx_inner\"> <strong class=\"tit\">정렬</strong> <div role=\"tablist\" class=\"option\"> <a role=\"tab\" class=\"txt\" aria-selected=\"true\" href=\"?where=nexearch&amp;sm=tab_opt&amp;query=&amp;nso=so%3Ar&amp;nso_open=1\" onclick=\"return goOtherCR(this, \\'a=opt.sim&amp;r=&amp;i=&amp;u=\\'+urlencode(this.href));\">관련도순</a><a role=\"tab\" class=\"txt\" aria-selected=\"false\" href=\"?where=nexearch&amp;sm=tab_opt&amp;query=&amp;nso=so%3Add&amp;nso_open=1\" onclick=\"return goOtherCR(this, \\'a=opt.new&amp;r=&amp;i=&amp;u=\\'+urlencode(this.href));\">최신순</a> </div> </div> </li> <li class=\"bx term\"> <div class=\"bx_inner\"> <strong class=\"tit\">기간</strong> <div role=\"tablist\" class=\"option\"> <a role=\"tab\" class=\"txt\" aria-selected=\"true\" href=\"?where=nexearch&amp;sm=tab_opt&amp;query=&amp;nso=p%3Aall&amp;nso_open=1\" onclick=\"return goOtherCR(this, \\'a=opt.all&amp;r=&amp;i=&amp;u=\\'+urlencode(this.href));\">전체</a><a role=\"tab\" class=\"txt\" aria-selected=\"false\" href=\"?where=nexearch&amp;sm=tab_opt&amp;query=&amp;nso=p%3A1h&amp;nso_open=1\" onclick=\"return goOtherCR(this, \\'a=opt.1hr&amp;r=&amp;i=&amp;u=\\'+urlencode(this.href));\">1시간</a><a role=\"tab\" class=\"txt\" aria-selected=\"false\" href=\"?where=nexearch&amp;sm=tab_opt&amp;query=&amp;nso=p%3A1d&amp;nso_open=1\" onclick=\"return goOtherCR(this, \\'a=opt.1day&amp;r=&amp;i=&amp;u=\\'+urlencode(this.href));\">1일</a><a role=\"tab\" class=\"txt\" aria-selected=\"false\" href=\"?where=nexearch&amp;sm=tab_opt&amp;query=&amp;nso=p%3A1w&amp;nso_open=1\" onclick=\"return goOtherCR(this, \\'a=opt.1wk&amp;r=&amp;i=&amp;u=\\'+urlencode(this.href));\">1주</a><a role=\"tab\" class=\"txt\" aria-selected=\"false\" href=\"?where=nexearch&amp;sm=tab_opt&amp;query=&amp;nso=p%3A1m&amp;nso_open=1\" onclick=\"return goOtherCR(this, \\'a=opt.1mon&amp;r=&amp;i=&amp;u=\\'+urlencode(this.href));\">1개월</a><a role=\"tab\" class=\"txt\" aria-selected=\"false\" href=\"?where=nexearch&amp;sm=tab_opt&amp;query=&amp;nso=p%3A3m&amp;nso_open=1\" onclick=\"return goOtherCR(this, \\'a=opt.3mon&amp;r=&amp;i=&amp;u=\\'+urlencode(this.href));\">3개월</a><a role=\"tab\" class=\"txt\" aria-selected=\"false\" href=\"?where=nexearch&amp;sm=tab_opt&amp;query=&amp;nso=p%3A6m&amp;nso_open=1\" onclick=\"return goOtherCR(this, \\'a=opt.6mon&amp;r=&amp;i=&amp;u=\\'+urlencode(this.href));\">6개월</a><a role=\"tab\" class=\"txt\" aria-selected=\"false\" href=\"?where=nexearch&amp;sm=tab_opt&amp;query=&amp;nso=p%3A1y&amp;nso_open=1\" onclick=\"return goOtherCR(this, \\'a=opt.1yr&amp;r=&amp;i=&amp;u=\\'+urlencode(this.href));\">1년</a> <a onclick=\"tCR(\\'a=opt.cal\\');\" href=\"#\" role=\"tab\" class=\"txt txt_option _calendar_select_trigger\" data-select-trigger aria-selected=\"false\">직접입력<i class=\"spnew ico_check\">옵션<em class=\"open\">펼치기</em><em class=\"close\">접기</em></i></a> </div> <div class=\"api_select_option type_calendar _calendar_select_layer\" data-select-layer style=\"display: none;\"> <div role=\"tablist\" class=\"set_calendar\"> <span class=\"set\"> <span class=\"blind\">기간 설정시작</span> <a onclick=\"tCR(\\'a=opt.str\\');\" href=\"#\" role=\"tab\" class=\"spnew_bf ico_calendar _start_trigger\" aria-selected=\"true\"></a> </span> <span class=\"set etc\"> <span class=\"spnew ico_since\"></span> </span> <span class=\"set\"> <span class=\"blind\">기간 설정끝</span> <a onclick=\"tCR(\\'a=opt.fin\\');\" href=\"#\" role=\"tab\" class=\"spnew_bf ico_calendar _end_trigger\" aria-selected=\"false\"></a> </span> </div> <div class=\"select_wrap _root\"> <div class=\"group_select _list_root\"> <strong class=\"blind\">년(Year)</strong> <div class=\"select_cont\"> <div class=\"select_area _scroll_wrapper\"> <div> <ul role=\"tablist\" class=\"lst_item _ul\"></ul> </div> </div> </div> </div> <div class=\"group_select _list_root\"> <strong class=\"blind\">월(Month)</strong> <div class=\"select_cont\"> <div class=\"select_area _scroll_wrapper\"> <div> <ul role=\"tablist\" class=\"lst_item _ul\"></ul> </div> </div> </div> </div> <div class=\"group_select _list_root\"> <strong class=\"blind\">일(Day)</strong> <div class=\"select_cont\"> <div class=\"select_area _scroll_wrapper\"> <div> <ul role=\"tablist\" class=\"lst_item _ul\"></ul> </div> </div> </div> </div> </div> <div class=\"btn_area\"> <button data-cr-area=\"opt.set\" type=\"button\" class=\"btn_apply _apply_btn\">적용</button> </div> </div> </div> </li> <li class=\"bx clear\"> <div class=\"bx_inner\"> <div class=\"option\"> <a href=\"?where=nexearch&amp;sm=tab_opt&amp;query=&amp;nso_open=1\" onclick=\"return goOtherCR(this, \\'a=opt.reset&amp;r=&amp;i=&amp;u=\\'+urlencode(this.href));\" class=\"btn_clear spnew_bf\" role=\"button\">옵션초기화</a> <a href=\"https://help.naver.com/support/alias/search/integration/intergration_84.naver\" target=\"_blank\" onclick=\"return goOtherCR(this, \\'a=opt.help&amp;r=&amp;i=&amp;u=\\'+urlencode(this.href));\" class=\"link_help\">검색옵션 가이드<i class=\"spnew api_ico_help\"></i></a> </div> </div> </li> </ul> </div> </div><script> naver.search.option.append_params(jQuery(\"#nx_option_form\")[0]); </script> <script> (function() { var jsFileURL = \"https://ssl.pstatic.net/sstatic/fe/sfe/searchOption/Controller_220519.js\"; var startApplication = function() { var require = window.require.config({ \"context\": \"_fe_search_option\", \"paths\": { /* Controller.js의 경로 지정. */ \"Controller\": jsFileURL.replace(/\\\\.js$/, \"\") } }); /* module define은 require의 context별로 호출해야함. */ define(\"jquery\", [], function() { return jQuery; }); require([\"Controller\"], function(Controller) { var oSearchOption = new Controller({ \"$form\": jQuery(\"#nx_option_form\") }); oSearchOption.on({ \"selectCalendar\": function(e) { var param = e.param; var cr = { \"area\": e.$item.data(\"cr-area\") }; var date_from = e.startDate; var date_to = e.endDate; var from = date_from.year + \".\" + date_from.month + \".\" + date_from.date; from = from.replace(/\\\\./g, \\'\\'); var to = date_to.year + \".\" + date_to.month + \".\" + date_to.date; to = to.replace(/\\\\./g, \\'\\'); var opt_p = \"p:from\" + (from < to ? from : to) + \"to\" + (from < to ? to : from); var params = naver.search.option.params; var nso = params[\"nso\"]; if (nso) { var arr = nso.split(\",\"); var isPeriodExist = false; arr.forEach(function(element, index, arr){ if (element.indexOf(\"p:\") == 0) { arr[index] = opt_p; isPeriodExist = true; } }); if (!isPeriodExist){ arr.push(opt_p); } nso = arr.join(\",\"); } else { nso = opt_p; } params[\"nso\"] = nso; param = \"\"; for (var k in params) { var v = params[k]; param += \"&\" + k + \"=\" + urlencode(v); } if (param[0] === \"&\") { param = param.substring(1); } /* formCR 클릭로그 호출 */ this.submit(param, cr); } }); }); }; var requirejs = naver.common.gv.REQUIRE_JS; naver.common.load_js(window.require ? null : requirejs, startApplication, true, 150); })(); </script><section class=\"sc_new sp_nkeyword\"> <div class=\"api_subject_bx\"> <div class=\"suggest_wrap\"> <div class=\"dsc_area\">검색어를 입력하지 않은 경우 <strong class=\"source\">재미있는 지식 결과</strong>를 랜덤하게 보여드립니다.</div> </div> </div> </section><link rel=\"stylesheet\" type=\"text/css\" href=\"https://ssl.pstatic.net/sstatic/search/pc/css/sp_nkindic_220224.css\"> <script type=\"text/javascript\"> function kdic_noimage(o, c) { if (o && c) { o.onerror = null; o.alt = \\'이미지준비중\\'; o.className = c; o.src = \\'data:image/gif;base64,R0lGODlhAQABAIAAAAAAAP///yH5BAEAAAAALAAAAAABAAEAAAIBRAA7\\'; } } </script> <section class=\"sc_new sp_nkindic api_is_random _prs_kdc_rnd\"> <div class=\"api_subject_bx\"> <div class=\"api_title_area\"> <h2 class=\"api_title\">지식백과</h2> <div class=\"api_title_sub\"> <div class=\"api_sub_link\"> </div> </div> </div> <div class=\"nkindic_area\"> <div class=\"nkindic_basic api_ani_send\"> <div class=\"nkindic_tit _svp_content\"> <h3><a target=\"_blank\" href=\"https://terms.naver.com/entry.naver?docId=3575565&cid=58905&categoryId=58913\" class=\"lnk_tit\" onclick=\"return goOtherCR(this,\\'a=kdc_rnd.title&r=1&i=08113AF3_0163631353550568036&u=\\'+urlencode(this.href));\">저니맨</a><span class=\"sub_tit\">저니맨과 자유계약선수 제도</span></h3> </div> <div class=\"nkindic_content\"> <a href=\"https://terms.naver.com/entry.naver?docId=3575565&cid=58905&categoryId=58913\" class=\"thumb_area\" onclick=\"return goOtherCR(this,\\'a=kdc_rnd.thumb&r=1&i=08113AF3_0163631353550568036&u=\\'+urlencode(this.href));\"><img src=\"https://search.pstatic.net/common/?src=https%3A%2F%2Fdbscthumb-phinf.pstatic.net%2F4749_000_1%2F20170118163617604_4LDLY09C0.jpg%2Fmain_55.jpg%3Ftype%3Dw450_fst%23450x289&type=f132_90\" width=\"132\" height=\"90\" class=\"api_get img\" alt=\"\" onerror=\"kdic_noimage(this, \\'bg_nimg2\\');\"><span class=\"thumb_count\">2</span></a> <div class=\"content_desc\"> <div class=\"api_txt_lines desc\">말 그대로 ‘떠돌이’다. 한 팀에서 오래 머물지 못하고 이 팀 저 팀을 전전하는 선수를 말한다. 하지만 원래 그 말이 생겨난 미국과 한국에서 그 말은 조금 다른 의미를 가진다...</div> <div class=\"nkindic_source elss\"> <span class=\"source_txt\">야구상식사전</span> </div> </div> </div> </div> </div> <div class=\"api_more_wrap\"> <a href=\"?where=nexearch&query=%EC%A0%80%EB%8B%88%EB%A7%A8&mra=S0NE&sm=tab_rnd.more&x_kdic=%7B%22random_search%22%3A%7B%22display%22%3A4%2C%22item%22%3A%5B%7B%22gdid%22%3A%2208113AF3_0163631353550568036%22%2C%22title%22%3A%22%EC%A0%80%EB%8B%88%EB%A7%A8%22%7D%2C%7B%22gdid%22%3A%220812C113_000024a9643a%22%2C%22title%22%3A%22%EC%95%84%ED%8F%B4%EB%A1%A0%EA%B3%BC+%EB%8B%A4%ED%94%84%EB%84%A4%22%7D%2C%7B%22gdid%22%3A%2208117CEB_0058811311210885872%22%2C%22title%22%3A%22%ED%81%AC%EB%A6%AC%EB%86%80%EB%A6%B0%22%7D%2C%7B%22gdid%22%3A%2208112AD4_000c6db6b3d9%22%2C%22title%22%3A%22%EC%A7%80%EB%A3%A8+%ED%94%BC%EB%B6%80%EC%97%BC%22%7D%5D%7D%7D\" class=\"api_more\" onclick=\"return goOtherCR(this,\\'a=kdc_rnd.ints&r=&i=&u=\\'+urlencode(this.href));\">통합검색 더보기<i class=\"spnew ico_arr\"></i></a> </div> </div> </section> <div class=\"api_random_banner type_fixed type_solo _random_banner_root\"> <a onclick=\"return goOtherCR(this, \\'a=rnd_btn.requery&amp;r=&amp;i=&amp;u=\\'+urlencode(this.href));\" href=\"?where=nexearch&amp;&query=&sm=tab_rnd.another\" class=\"banner\"> <span class=\"banner_inner\"><i class=\"spnew api_ico_random\"></i>다른 지식을 보려면 눌러보세요!</span> </a> </div></div><div id=\"sub_pack\" class=\"sub_pack\"><section class=\"sc_new sp_naside _fe_keyword_hot\"> <div class=\"api_subject_bx\"> <div class=\"api_title_area\"> <h2 class=\"api_title\">많이 본 지식백과</h2> </div> <div class=\"naside_wrap type_entry\"> <div class=\"entry_list_wrap _flicking_wrap\"> <div class=\"api_flicking_wrap _flicking\"> <div class=\"flick_bx flick_width\"> <ol class=\"entry_list\"> <li class=\"item_bx\"><a href=\"?where=nexearch&sm=tab_knw&query=%EB%B9%97%EC%86%8D%EC%9D%98+%EC%82%AC%EB%9E%8C+%EA%B7%B8%EB%A6%BC+%EA%B2%80%EC%82%AC+%E2%80%93+%EC%95%84%EB%8F%99+%EC%82%AC%EB%A1%80&qdt=0&mra=S0NE\" onclick=\"return goOtherCR(this, \\'a=krk_rcd.kwd&r=1&i=&u=\\'+urlencode(this.href))\" ondragstart=\"return false\" class=\"item\"><div class=\"item_inner\"> <div class=\"thumb_area\"> <img src=\"https://search.pstatic.net/common/?src=https%3A%2F%2Fdbscthumb-phinf.pstatic.net%2F6013_000_1%2F20230102183131391_YTCFY5KNK.jpg%2Faf8_98_i3.jpg%3Ftype%3Dw540_fst%26wm%3DN%23540x788&type=n110_110\" width=\"48\" height=\"48\" class=\"thumb\" alt=\"\"> </div> <div class=\"entry_area\"> <div class=\"rank_wrap\"> <em class=\"rank\">1</em> </div> <div class=\"tit_wrap\"> <div class=\"tit\">빗속의 사람 그림 검사 – 아동 사례</div> <div class=\"dsc\">심리검사백과</div> </div> </div> </div></a></li> <li class=\"item_bx\"><a href=\"?where=nexearch&sm=tab_knw&query=%EC%B1%97GPT&qdt=0&mra=S0NE\" onclick=\"return goOtherCR(this, \\'a=krk_rcd.kwd&r=2&i=&u=\\'+urlencode(this.href))\" ondragstart=\"return false\" class=\"item\"><div class=\"item_inner\"> <div class=\"thumb_area\"> <img src=\"https://search.pstatic.net/common/?src=https%3A%2F%2Fpost-phinf.pstatic.net%2FMjAyMjEyMTRfMTQ0%2FMDAxNjcwOTk2NDE4MjI2.VgJEuSrggPNw1CPSFRKGlFaDx2v6W-LUgCq_F0w5hNAg.fR6vAuECq_FYYBAGMLf0PEvyHY9959bGIHEZtRFBG4sg.JPEG%2FIfO1Q4dqh3ta72ab41PTWRsJTeds.jpg%3Ftype%3Dw540_fst%23540x319&type=n110_110\" width=\"48\" height=\"48\" class=\"thumb\" alt=\"\"> </div> <div class=\"entry_area\"> <div class=\"rank_wrap\"> <em class=\"rank\">2</em> </div> <div class=\"tit_wrap\"> <div class=\"tit\">챗GPT</div> <div class=\"dsc\">시사상식사전</div> </div> </div> </div></a></li> <li class=\"item_bx\"><a href=\"?where=nexearch&sm=tab_knw&query=%EC%BD%9C%EB%93%9C%EA%B2%8C%EC%9E%84&qdt=0&mra=S0NE\" onclick=\"return goOtherCR(this, \\'a=krk_rcd.kwd&r=3&i=&u=\\'+urlencode(this.href))\" ondragstart=\"return false\" class=\"item\"><div class=\"item_inner\"> <div class=\"entry_area\"> <div class=\"rank_wrap\"> <em class=\"rank\">3</em> </div> <div class=\"tit_wrap\"> <div class=\"tit\">콜드게임</div> <div class=\"dsc\">두산백과 두피디아</div> </div> </div> </div></a></li> <li class=\"item_bx\"><a href=\"?where=nexearch&sm=tab_knw&query=%EC%B2%AD%EB%85%84%EB%8F%84%EC%95%BD%EA%B3%84%EC%A2%8C&qdt=0&mra=S0NE\" onclick=\"return goOtherCR(this, \\'a=krk_rcd.kwd&r=4&i=&u=\\'+urlencode(this.href))\" ondragstart=\"return false\" class=\"item\"><div class=\"item_inner\"> <div class=\"entry_area\"> <div class=\"rank_wrap\"> <em class=\"rank\">4</em> </div> <div class=\"tit_wrap\"> <div class=\"tit\">청년도약계좌</div> <div class=\"dsc\">한경 경제용어사전</div> </div> </div> </div></a></li> <li class=\"item_bx\"><a href=\"?where=nexearch&sm=tab_knw&query=%EC%84%B1%EB%8F%84%EC%B0%A9%EC%A6%9D&qdt=0&mra=S0NE\" onclick=\"return goOtherCR(this, \\'a=krk_rcd.kwd&r=5&i=&u=\\'+urlencode(this.href))\" ondragstart=\"return false\" class=\"item\"><div class=\"item_inner\"> <div class=\"entry_area\"> <div class=\"rank_wrap\"> <em class=\"rank\">5</em> </div> <div class=\"tit_wrap\"> <div class=\"tit\">성도착증</div> <div class=\"dsc\">서울대학교병원 의학정보</div> </div> </div> </div></a></li> </ol> </div> <div class=\"flick_bx flick_width\"> <ol class=\"entry_list\"> <li class=\"item_bx\"><a href=\"?where=nexearch&sm=tab_knw&query=%EC%9D%B8%ED%94%8C%EB%A0%88%EC%9D%B4%EC%85%98&qdt=0&mra=S0NE\" onclick=\"return goOtherCR(this, \\'a=krk_rcd.kwd&r=6&i=&u=\\'+urlencode(this.href))\" ondragstart=\"return false\" class=\"item\"><div class=\"item_inner\"> <div class=\"thumb_area\"> <img src=\"https://search.pstatic.net/common/?src=https%3A%2F%2Fdbscthumb-phinf.pstatic.net%2F1779_000_1%2F20120405163456755_MSB3UH90Q.jpg%2Fbh7_38_i1.jpg%3Ftype%3Dw450_fst_n%23450x372%23c372&type=n110_110\" width=\"48\" height=\"48\" class=\"thumb\" alt=\"\"> </div> <div class=\"entry_area\"> <div class=\"rank_wrap\"> <em class=\"rank\">6</em> </div> <div class=\"tit_wrap\"> <div class=\"tit\">인플레이션</div> <div class=\"dsc\">시사논술 개념사전</div> </div> </div> </div></a></li> <li class=\"item_bx\"><a href=\"?where=nexearch&sm=tab_knw&query=%EB%8C%80%EC%83%81%ED%8F%AC%EC%A7%84&qdt=0&mra=S0NE\" onclick=\"return goOtherCR(this, \\'a=krk_rcd.kwd&r=7&i=&u=\\'+urlencode(this.href))\" ondragstart=\"return false\" class=\"item\"><div class=\"item_inner\"> <div class=\"thumb_area\"> <img src=\"https://search.pstatic.net/common/?src=https%3A%2F%2Fdbscthumb-phinf.pstatic.net%2F1983_000_3%2F20190318183508909_0X7325UCI.jpg%2Fi1_AA000006_32.jpg%3Ftype%3Dw450_fst_n%23339x305%23c305&type=n110_110\" width=\"48\" height=\"48\" class=\"thumb\" alt=\"\"> </div> <div class=\"entry_area\"> <div class=\"rank_wrap\"> <em class=\"rank\">7</em> </div> <div class=\"tit_wrap\"> <div class=\"tit\">대상포진</div> <div class=\"dsc\">서울대학교병원 의학정보</div> </div> </div> </div></a></li> <li class=\"item_bx\"><a href=\"?where=nexearch&sm=tab_knw&query=%EB%B0%B8%EB%9F%B0%ED%83%80%EC%9D%B8%EB%8D%B0%EC%9D%B4&qdt=0&mra=S0NE\" onclick=\"return goOtherCR(this, \\'a=krk_rcd.kwd&r=8&i=&u=\\'+urlencode(this.href))\" ondragstart=\"return false\" class=\"item\"><div class=\"item_inner\"> <div class=\"entry_area\"> <div class=\"rank_wrap\"> <em class=\"rank\">8</em> </div> <div class=\"tit_wrap\"> <div class=\"tit\">밸런타인데이</div> <div class=\"dsc\">한국세시풍속사전</div> </div> </div> </div></a></li> <li class=\"item_bx\"><a href=\"?where=nexearch&sm=tab_knw&query=MZ%EC%84%B8%EB%8C%80&qdt=0&mra=S0NE\" onclick=\"return goOtherCR(this, \\'a=krk_rcd.kwd&r=9&i=&u=\\'+urlencode(this.href))\" ondragstart=\"return false\" class=\"item\"><div class=\"item_inner\"> <div class=\"thumb_area\"> <img src=\"https://search.pstatic.net/common/?src=https%3A%2F%2Fpost-phinf.pstatic.net%2FMjAxOTEyMjdfNjUg%2FMDAxNTc3NDIxMzk2NzI4.sMmD_iK4fdNtfadytYpUebhVGk_MyJGkfp2bRwvy8jEg.Q1_yqkx6Aibt-cBDre-9N75CX2N090zFG8c7WVRhZtYg.JPEG%2FIMuWCaiy8FOGj5jLv0Pn4lqXf5Aw.jpg%3Ftype%3Dw540_fst%23540x405%23c405&type=n110_110\" width=\"48\" height=\"48\" class=\"thumb\" alt=\"\"> </div> <div class=\"entry_area\"> <div class=\"rank_wrap\"> <em class=\"rank\">9</em> </div> <div class=\"tit_wrap\"> <div class=\"tit\">MZ세대</div> <div class=\"dsc\">시사상식사전</div> </div> </div> </div></a></li> <li class=\"item_bx\"><a href=\"?where=nexearch&sm=tab_knw&query=%ED%8A%B9%EB%A1%80%EB%B3%B4%EA%B8%88%EC%9E%90%EB%A6%AC%EB%A1%A0&qdt=0&mra=S0NE\" onclick=\"return goOtherCR(this, \\'a=krk_rcd.kwd&r=10&i=&u=\\'+urlencode(this.href))\" ondragstart=\"return false\" class=\"item\"><div class=\"item_inner\"> <div class=\"entry_area\"> <div class=\"rank_wrap\"> <em class=\"rank\">10</em> </div> <div class=\"tit_wrap\"> <div class=\"tit\">특례보금자리론</div> <div class=\"dsc\">시사상식사전</div> </div> </div> </div></a></li> </ol> </div> </div> <div class=\"cmm_pgs\"> <a href=\"#\" class=\"spnew_bf cmm_pg_prev _prev\" onclick=\"return jQuery(this).hasClass(\\'on\\') ? tCR(\\'a=krk_rcd.leftflp&r=&i=\\') : false;\">이전</a> <span class=\"cmm_dpgs\"> <span title=\"현재 페이지\" data-index=\"1\" class=\"cmm_dp cmm_dp_on _dot\">1</span> <span data-index=\"2\" class=\"cmm_dp _dot\">2</span> </span> <a href=\"#\" class=\"spnew_bf cmm_pg_next on _next\" onclick=\"return jQuery(this).hasClass(\\'on\\') ? tCR(\\'a=krk_rcd.rightflp&r=&i=\\') : false;\">다음</a> </div> <div class=\"entry_date\">2023.03.13. 기준<a href=\"https://help.naver.com/support/alias/search/word/word_30.naver\" target=\"_blank\" class=\"link_help\" onclick=\"return goOtherCR(this, \\'a=krk_rcd.help&r=&i=&u=\\'+urlencode(this.href));\"><i class=\"spnew api_ico_help\">도움말</i></a></div> </div> </div> </div> </section> <script> (function() { var startApplication = function() { var $base = jQuery(\"._fe_keyword_hot\"); var jsFileName = \"https://ssl.pstatic.net/sstatic/au/pc/keyword/Controller_210216.js\"; var require = window.require.config({ \"context\": \"_fe_keyword_hot\", \"paths\": { \"Controller\": jsFileName.replace(/\\\\.js$/, \"\") } }); define(\"jquery\", [], function() { return jQuery; }); require([\"Controller\"], function(Controller) { var oKeyword = new Controller({ \"$base\": $base, }); oKeyword.on({ \"change-flicking\": function(e) { if (e.isTrusted) { if (e.direction === \"NEXT\") { tCR(\\'a=krk_rcd.rightflp&r=&i=\\') } else { tCR(\\'a=krk_rcd.leftflp&r=&i=\\') } } } }); }); }; var requirejs = naver.common.gv.REQUIRE_JS; naver.common.load_js(window.require ? null : requirejs, startApplication, true, 150); })(); </script> <section class=\"sc_new\"> <div class=\"api_subject_bx\"> <div class=\"api_common_banner\"> <a href=\"https://m.news.naver.com/covid19/index.nhn\" class=\"spnew_bf item\" target=\"_blank\" onclick=\"return goOtherCR(this, \\'a=bnr.link1&r=1&i=&u=\\'+urlencode(this.href));\"> <div class=\"ico_area\"><img src=\"https://ssl.pstatic.net/sstatic/search/mobile/img/ico_common_ban1_40ceb762.png\" width=\"29\" height=\"29\" alt=\"\" class=\"ico\"></div> <div class=\"dsc_area\"> <strong class=\"elss tit\">코로나19 현황</strong> <p class=\"elss dsc\">확진 현황 및 백신 접종 정보 안내</p> </div> </a> <a href=\"?query=%EC%8B%A0%EC%86%8D%ED%95%AD%EC%9B%90%EA%B2%80%EC%82%AC%EA%B8%B0%EA%B4%80&sm=tab_etc&where=nexearch\" class=\"spnew_bf item\" onclick=\"return goOtherCR(this, \\'a=bnr.link2&r=2&i=&u=\\'+urlencode(this.href));\"> <div class=\"ico_area\"><img src=\"https://ssl.pstatic.net/sstatic/search/mobile/img/ico_common_ban2_cdf26fbe.png\" width=\"29\" height=\"29\" alt=\"\" class=\"ico\"></div> <div class=\"dsc_area\"> <strong class=\"elss tit\">신속항원검사</strong> <p class=\"elss dsc\">내 주변에서 신속하게 검사 받기</p> </div> </a> </div> </div> <div class=\"api_subject_bx\" style=\"margin-top: 20px;\"> <div class=\"api_common_banner\"> <a href=\"?mra=UlJUX1RJTQ%3D%3D&query=%EA%B5%AD%EB%82%B4%EC%97%AC%ED%96%89%EC%A7%80%EC%B6%94%EC%B2%9C&sm=tab_etc&where=nexearch\" class=\"spnew_bf item\" onclick=\"return goOtherCR(this, \\'a=bnr.link3&r=3&i=&u=\\'+urlencode(this.href));\"> <div class=\"ico_area\"><img src=\"https://ssl.pstatic.net/sstatic/search/mobile/img/ico_common_ban3_70e31626.png\" width=\"29\" height=\"29\" alt=\"\" class=\"ico\"></div> <div class=\"dsc_area\"> <strong class=\"elss tit\">당장 떠나고 싶다면, 국내 여행부터!</strong> <p class=\"elss dsc\">지금 가장 핫한 국내 여행지로 떠나보세요</p> </div> </a> <a href=\"?mra=UlJUX1RJTQ%3D%3D&query=%EC%97%AC%ED%96%89%EA%B0%80%EB%8A%A5%EA%B5%AD%EA%B0%80&sm=tab_etc&where=nexearch\" class=\"spnew_bf item\" onclick=\"return goOtherCR(this, \\'a=bnr.link4&r=4&i=&u=\\'+urlencode(this.href));\"> <div class=\"ico_area\"><img src=\"https://ssl.pstatic.net/sstatic/search/mobile/img/ico_common_ban4_b8f1dad2.png\" width=\"29\" height=\"29\" alt=\"\" class=\"ico\"></div> <div class=\"dsc_area\"> <strong class=\"elss tit\">2023년 첫 해외여행 어디로?</strong> <p class=\"elss dsc\">지금 가장 인기있는 해외 여행지 알아보기</p> </div> </a> <a href=\"https://campaign.naver.com/collect_v2/?pcode=pcsearchmktbanner_issue5_service&event_id=channelsearch&target=https%3A%2F%2Fchannelsearch.naver.com%2Fservice%2Fissue05_2%2F\" class=\"spnew_bf item\" target=\"_blank\" onclick=\"return goOtherCR(this, \\'a=bnr.link5&r=5&i=&u=\\'+urlencode(this.href));\"> <div class=\"ico_area\"><img src=\"https://ssl.pstatic.net/sstatic/search/mobile/img/ico_common_ban5_b94af7b8.png\" width=\"29\" height=\"29\" alt=\"\" class=\"ico\"></div> <div class=\"dsc_area\"> <strong class=\"elss tit\">너와 나의 검색 결과가 다른 이유</strong> <p class=\"elss dsc\">네이버 스마트블록 이야기</p> </div> </a> <a href=\"https://campaign.naver.com/collect_v2/?pcode=naver_pcserp&event_id=naverlogistics&target=https%3A%2F%2Fshopping.naver.com%2Flogistics%2Fhome%3Fdtm_source%3Dnaver_pcserp%26dtm_medium%3Dsearch%26dtm_campaign%3Dnaverlogistics\" class=\"spnew_bf item\" target=\"_blank\" onclick=\"return goOtherCR(this, \\'a=bnr.link6&r=6&i=&u=\\'+urlencode(this.href));\"> <div class=\"ico_area\"><img src=\"https://ssl.pstatic.net/sstatic/search/mobile/img/ico_common_ban6_4e63f4fc.png\" width=\"29\" height=\"29\" alt=\"\" class=\"ico\"></div> <div class=\"dsc_area\"> <strong class=\"elss tit\">네이버도착보장</strong> <p class=\"elss dsc\">약속한 날에 착! 정확하게 도착해요</p> </div> </a> </div> </div> </section> <script type=\"text/javascript\"> var nx_cr_right_area_info = [{\"n\": \"krk_rcd\", \"r\": 1},{\"n\": \"bnr\", \"r\": 2}]; </script></div><div class=\"ly_dimmed\"></div> </div> </div><div id=\"footer\"> <div class=\"sub_pack_btm\"> <a href=\"#\" class=\"top\" onclick=\"window.scrollTo(0,0); document.querySelector(\\'#wrap a\\').focus(); return false;\"><i class=\"spnew ico_top\">맨위로</i></a> </div> <div class=\"footer_group\"> <div class=\"footer_menu\"> <span class=\"inner\"><a href=\"https://www.naver.com/more.html\" target=\"_blank\" onclick=\"return goOtherCR(this, \\'u=\\'+urlencode(this.href)+\\'&amp;a=fot.sitemap&amp;r=&amp;i=\\');\" class=\"link\">전체서비스</a></span> <span class=\"inner\"><a href=\"https://policy.naver.com/policy/service.html\" target=\"_blank\" onclick=\"return goOtherCR(this, \\'u=\\'+urlencode(this.href)+\\'&amp;a=fot.policy&amp;r=&amp;i=\\');\" class=\"link\">이용약관</a></span> <span class=\"inner\"><a href=\"https://policy.naver.com/policy/privacy.html\" target=\"_blank\" onclick=\"return goOtherCR(this, \\'u=\\'+urlencode(this.href)+\\'&amp;a=fot.privacy&amp;r=&amp;i=\\');\" class=\"link\"><strong>개인정보처리방침</strong></a></span> <span class=\"inner\"><a class=\"link\" href=\"https://help.naver.com/support/alias/search/integration/integration_1.naver\" target=\"_blank\" onclick=\"return goOtherCR(this, \\'u=\\'+urlencode(this.href)+\\'&amp;a=fot.help&amp;r=&amp;i=\\');\">통합검색 고객센터</a></span> <span class=\"inner\"><a href=\"https://www.navercorp.com/\" target=\"_blank\" onclick=\"return goOtherCR(this, \\'u=\\'+urlencode(this.href)+\\'&amp;a=fot.nhn&amp;r=&amp;i=\\');\" class=\"link\"><i class=\"ico_footer_logo\">© NAVER Corp.</i></a></span> </div> </div>  </div> <script type=\"text/javascript\"> /* [PR] 서비스에서 사용하는 클릭로그함수 설정 */ window.__atcmpCR = function(we, el, name, order, areaCode, rank) { var htAreaCode = __ghtAutoCompleteConfig[\"htAreaCode\"]; if (typeof htAreaCode[name] !== \"undefined\") { var areaCode = htAreaCode[name][0]; var rank = htAreaCode[name][1]; if (areaCode !== \"\") { tCR(\"a=\"+areaCode+\"&u=\"+urlencode(el.href)); /* clickcr(el, areaCode, rank, \\'\\', we); */ /* console.log(areaCode + rank); */ } } return false; }; /* [PR] 서비스별로 form submit 전에 처리해야하는 내용은 이곳에 작성해주세요. */ window.__atcmpSubmitBefore = function(elForm) { try { top.nx_form_submit(elForm); } catch (e) { try { nx_form_submit(elForm); } catch (e) {} } }; /* [PR] 각 서비스별 옵션 : 로그인여부는 pr에서 정의필요합니다. */ window.__ghtAutoCompleteConfig = { /* 자동완성 설정 (Top&Bottom) */ \"bLogin\" : false, /* 로그인 여부 */ \"sFromWhere\" : \"nx\", /* 검색 출처 (폼전송시 함께 전송) */ \"htApiUrl\" : { /* 자동완성 API 정보 */ \"sMyKeyword\" : \\'https://s.search.naver.com/n/mykeyword/search\\', \"sAcKeyword\" : \"//ac.search.naver.com/nx/ac\", \"sAcAnsType\" : \"2\" /* 1 : 기존정답형만 lookup (탭검인 경우 1로 설정) */ }, \"ahtOption\": [ { \"sOrder\": \"asc\", /* 정렬방식 (asc/desc) */ \"sFormId\": \"nx_search_form\", /* 폼엘리먼트 ID */ \"sInputId\": \"nx_query\", /* 입력창 엘리먼트 ID */ \"sViewId\": \"nx_autoframe_top\", /* 자동완성 레이어 ID */ \"sViewToggleButtonId\": \"nautocomplete\" /* 레이어토글 버튼 ID */ } ], /* 서비스별 클릭영역코드 매핑정보 (sch.xxx: 검색창영역, sug.xxx: 자동완성 영역, sly.xxx: 최근 검색어 영역)*/ \"htAreaCode\": { \"expand\": [\\'sch.expand\\', \\'0\\'], /* 우측 역삼각형 펼침 */ \"close\": [\\'sch.close\\', \\'0\\'], /* 우측 역삼각형 접힘 */ \"ansdirect\": [\\'sug.ansdirect\\', \\'\\'], /* 정답형 바로가기 (엔터/클릭) */ \"sugoff\": [\\'sug.sugoff\\', \\'\\'], /* 자동완성 끄기 클릭 */ \"sugon\": [\\'sug.sugon\\', \\'\\'], /* 자동완성 켜기 클릭 */ \"plus.use\": [\\'sug.cxon\\', \\'\\'], /* 자동완성 플러스 사용 */ \"plus.unuse\": [\\'sug.cxoff\\', \\'\\'], /* 자동완성 플러스 사용안함 */ \"saveoff\": [\\'sug.saveoff\\', \\'\\'], /* 검색어저장 끄기 클릭 */ \"saveon\": [\\'sug.saveon\\', \\'\\'], /* 검색어저장 켜기 클릭 */ \"rx\": [\\'sly.rx\\', \\'\\'], /* 최근검색어 개별삭제 클릭 */ \"ralldel\": [\\'sly.ralldel\\', \\'\\'], /* 최근검색어 전체삭제 클릭 */ \"kwd.expand\": [\\'sug.plus\\', \\'\\'] /* ↖︎ 버튼 클릭 */ }, /* 서비스별 SM파라미터 매핑정보 * sm파라미터 추가시 https://oss.navercorp.com/sau-pc/naver_autocomplete/issues/19 확인 필요 */ \"htSmParam\" : { \"hty\" : \\'tab_hty.top\\', /* sm 파라미터 초기값 */ \"htyb\" : \\'tab_hty.btm\\', /* sm 파라미터 초기값(검색창 하단) */ \"hst\" : \\'tab_sly.hst\\', /* 최근검색키워드 */ \"prefix\" : \\'tab_sug\\', /* sm 파라미터 서비스별 prefix */ \"top\" : \\'tab_sug.top\\', /* 자동완성키워드 */ \"btm\" : \\'tab_sug.btm\\', /* 자동완성키워드 (역순) */ \"pat\" : \\'tab_sug.pat\\', /* 자동완성키워드 (부분자동완성) */ \"mbk\" : \\'tab_sug.mbk\\', /* 자동완성키워드 (오타교정자동완성) */ \"nlq\" : \\'tab_sug.nlq\\', /* 자연어검색 */ \"asgl\" : \\'tab_sug.asgl\\', /* 1국가번호 (한국 국가번호) */ \"asga\" : \\'tab_sug.asga\\', /* 1국가번호 다른중복지역 */ \"aslt\" : \\'tab_sug.aslt\\', /* 3로또당첨번호 */ \"aspl\" : \\'tab_sug.aspl\\', /* 6연금복권당첨번호 */ \"astm\" : \\'tab_sug.astm\\', /* 7영업시간 (신한은행 영업시간) */ \"ast\" : \\'tab_sug.ast\\', /* 8전화번호 (국세청 전화번호) */ \"ase\" : \\'tab_sug.ase\\', /* 9환율 (엔화환율) */ \"aswt\" : \\'tab_sug.aswt\\', /* 10해외날씨 (일본날씨) */ \"asiw\" : \"tab_sug.asiw\", /* 11국내날씨 (서울날씨) */ \"asis\" : \\'tab_sug.asis\\', /* 12올림픽순위 */ \"extension\" : \\'tab_sug.search\\', /* 검색기반 자동완성 */ \"asct\" : \"tab_sug.asct\" /* 문맥검색키워드 */ } }; </script> <script type=\"text/javascript\"> /* 자동완성 객체 생성 (Top) */ new naver.common.atcmp.naver_web.Controller(__ghtAutoCompleteConfig).attach({ \"onOpen\": function(){ jQuery(\"#header_wrap .search_area\").addClass(\"type_write\"); }, \"onClose\": function(){ jQuery(\"#header_wrap .search_area\").removeClass(\"type_write\"); }, \"onSelect\": function(oCustomEvent) { __atcmpSubmitBefore(oCustomEvent.elForm); }, \"onClickLog\": function(oCustomEvent) { __atcmpCR(oCustomEvent.event, oCustomEvent.element, oCustomEvent.name, oCustomEvent.order, \"\", \"\"); } }); </script> <script> (function () { var startApplication = function () { var url = \"https://s.search.naver.com/n/responsive/v1?u=\" + encodeURIComponent(location.href) + \"&q=\" + window.headerfooter_query_encoded + \"&p=\" + encodeURIComponent(window.g_puid) + \"&sscode=\" + encodeURIComponent(window.g_ssc); naver.common.responsiveLog = new window.naver.common.ResponsiveLog(); naver.common.responsiveLog.init(url); }; startApplication(); })(); </script> <script> (function() { var startApplication = function () { var jsFile = \"https://ssl.pstatic.net/sstatic/fe/sfe/keep/Controller_230209.js\"; var require = window.require.config({ \"context\": \"search_common_module\", \"paths\": { \"Keep\": jsFile.replace(/\\\\.js$/, \"\") } }); define(\"jquery\", [], function () { return jQuery; }); require([\"Keep\"], function (Controller) { var oSearchKeep = new Controller({ \"api\": { \"token\": \"https://apis.naver.com/naverSearchFe/naver_keep/naver_keep\", \"check\": \"https://apis.naver.com/naverSearchFe/naver_keep/v1_web_keep_check?type=bookmark&key={=url}\", \"create\": \"https://apis.naver.com/naverSearchFe/naver_keep/v1_web_bookmark_create\", \"delete\": \"https://apis.naver.com/naverSearchFe/naver_keep/v1_web_keep_delete\" }, \"fanApi\": { \"check\": \"https://gw.in.naver.com/delivery/api/v1/subscribes?spaceIds={=spaceIds}\", \"subscribe\": \"https://gw.in.naver.com/home/api/v4/spaces/{=spaceId}/subscribes\", \"unsubscribe\": \"https://gw.in.naver.com/home/api/v4/spaces/{=spaceId}/unsubscribes\" }, \"captchaApi\": { \"image\": \"https://captcha.nid.naver.com/nhncaptchav4.gif?key={=key}\", \"voice\": \"https://soundcaptcha.nid.naver.com/soundCaptcha.wav?key={=key}\", \"token\": \"https://gw.in.naver.com/identity-access/api/v1/captcha?type={=type}\", \"refresh\": \"https://gw.in.naver.com/identity-access/api/v1/refresh-captcha?key={=key}&type={=type}\", \"check\": \"https://gw.in.naver.com/identity-access/api/v1/captcha\" }, \"loginUrl\": \"https://nid.naver.com/nidlogin.login?url={=location}\" }); oSearchKeep.on({ \"create\": function (we) { var crLog = we.data(\"cr-on\"); if (crLog) tCR(crLog); }, \"delete\": function (we) { var crLog = we.data(\"cr-off\"); if (crLog) tCR(crLog); }, \"showLayer\": function (we) { var crLog = we.data(\"cr-on\"); if (crLog) tCR(crLog); }, \"hideLayer\": function (we) { var crLog = we.data(\"cr-off\"); if (crLog) tCR(crLog); }, \"fan.subscribe\": function (we) { var crLog = we.data(\"cr-on\"); if (crLog) tCR(crLog); }, \"fan.unsubscribe\": function (we) { var crLog = we.data(\"cr-off\"); if (crLog) tCR(crLog); } }); window.naver.common.gv.searchKeep = oSearchKeep; }); }; naver.common.load_js(window.require ? null : naver.common.gv.REQUIRE_JS, startApplication, true, 150); })(); </script> <script> (function() { var jsFileURL = \"https://ssl.pstatic.net/sstatic/fe/sfe/search_video_player2/PcVideoPlayer2_220727.js\"; var jsLoadCallback = function() { var require = window.require.config({ \"context\": \"search_common_modules\", \"paths\": { \"VideoPlayer2\": jsFileURL.replace(/\\\\.js$/, \"\") } }); require([\"VideoPlayer2\"], function() { naver.common.VideoPlayer2.AD_SDK_JS = \"https://ssl.pstatic.net/tveta/libs/ssp-video/prod/ssp.web.sdk_2.3.0.js\"; }); }; var requirejs = naver.common.gv.REQUIRE_JS; naver.common.load_js(window.require ? null : requirejs, jsLoadCallback, true, 50); })(); </script> <script> (function() { var requirejs = naver.common.gv.REQUIRE_JS; var jsFileURL = \"https://ssl.pstatic.net/sstatic/fe/sfe/search_audio_player2/AudioPlayer2_230201.js\"; var jsLoadCallback = function() { var require = window.require.config({ \"context\": \"search_common_modules\", \"paths\": { \"AudioPlayer2\": jsFileURL.replace(/\\\\.js$/, \"\") } }); require([\"AudioPlayer2\"], function() { naver.common.AudioPlayer2.WEB_PLAYER_JS = \"https://static-audiop.pstatic.net/audiocloud-webplayercore/1.1.7.0/js/audiocloud_webplayer_core.js\"; }); }; naver.common.load_js(window.require ? null : requirejs, jsLoadCallback, true, 50); })(); </script> <script> (function() { var jsControllerUrl = \"https://ssl.pstatic.net/sstatic/fe/sfe/responsiveBlock/pc/Controller_221103.js\"; var startApplication = function() { var require = window.require.config({ \"context\": \"search_common_modules\", \"paths\": { \"ResponsiveBlock\": jsControllerUrl.replace(/\\\\.js$/, \"\") } }); define(\"jquery\", [], function() { return jQuery; }); require([\"ResponsiveBlock\"], function(ResponsiveBlock) { new ResponsiveBlock(); }); }; naver.common.load_js(null, startApplication, true, 50); })(); </script> </div> <script type=\"text/javascript\"> (function() { var needFix = navigator.userAgent.toLowerCase().indexOf(\\'webkit\\') > -1; d = document; if (!needFix || !d.querySelectorAll) return; var toArray = function(list){ var armap=[]; i=0; for(;i<list.length;++i){ armap.push(list[i]); } return Array.prototype.slice.call(armap, 0); } ; window.addEventListener(\\'load\\', function() { toArray(d.querySelectorAll(\\'#u_skip a\\')).forEach(function(el) { el.addEventListener(\\'click\\', function() { var target = d.getElementById(this.href.split(\\'#\\')[1]); oldTabIndex = target.getAttribute(\\'tabindex\\'); oldOutlineWidth = d.defaultView.getComputedStyle(target, null).getPropertyValue(\\'outline-width\\'); target.setAttribute(\\'tabindex\\', 0); target.style.outlineWidth = 0; target.focus(); if (oldTabIndex === null) target.removeAttribute(\\'tabindex\\'); else target.setAttribute(\\'tabindex\\', oldTabIndex); }, false); }); }, false); })(); </script><script type=\"text/javascript\"> if(typeof nx_usain_beacon !== \\'undefined\\') { nx_usain_beacon.add_tag(\"conn_._TLSv1.3_.:alpn.http/1.1\") ; $Fn(function () { nx_usain_beacon.send(); }).attach(window, \"load\") ; } </script></body> </html>'"
            ],
            "application/vnd.google.colaboratory.intrinsic+json": {
              "type": "string"
            }
          },
          "metadata": {},
          "execution_count": 81
        }
      ]
    },
    {
      "cell_type": "code",
      "source": [
        "from bs4 import BeautifulSoup # 텍스트 -> HTML 파싱(분석)"
      ],
      "metadata": {
        "id": "6gVj1r3IdHaY"
      },
      "execution_count": 82,
      "outputs": []
    },
    {
      "cell_type": "code",
      "source": [
        "soup = BeautifulSoup(response.text)\n",
        "soup"
      ],
      "metadata": {
        "id": "eD1bggw6iDRc"
      },
      "execution_count": null,
      "outputs": []
    },
    {
      "cell_type": "code",
      "source": [],
      "metadata": {
        "id": "K-XaqO8riPc7"
      },
      "execution_count": null,
      "outputs": []
    }
  ]
}